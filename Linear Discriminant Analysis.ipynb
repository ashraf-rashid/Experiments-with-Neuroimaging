{
 "cells": [
  {
   "cell_type": "code",
   "execution_count": 45,
   "metadata": {},
   "outputs": [],
   "source": [
    "import pandas as pd"
   ]
  },
  {
   "cell_type": "code",
   "execution_count": 140,
   "metadata": {},
   "outputs": [],
   "source": [
    "import numpy as np"
   ]
  },
  {
   "cell_type": "code",
   "execution_count": 46,
   "metadata": {},
   "outputs": [],
   "source": [
    "from sklearn.discriminant_analysis import LinearDiscriminantAnalysis"
   ]
  },
  {
   "cell_type": "code",
   "execution_count": 47,
   "metadata": {},
   "outputs": [],
   "source": [
    "df = pd.read_csv(\"G:\\\\Fresh Alzheimers - Test run\\\\New\\\\CN vs AD\\\\WM\\\\train_data_set_WM_CN_vs_AD.csv\")"
   ]
  },
  {
   "cell_type": "code",
   "execution_count": 48,
   "metadata": {},
   "outputs": [],
   "source": [
    "inputData = df.drop(columns = ['subject_Id','Group'])"
   ]
  },
  {
   "cell_type": "code",
   "execution_count": 84,
   "metadata": {},
   "outputs": [],
   "source": [
    "lda = LinearDiscriminantAnalysis(solver=\"eigen\",shrinkage=\"auto\")"
   ]
  },
  {
   "cell_type": "code",
   "execution_count": 85,
   "metadata": {},
   "outputs": [
    {
     "data": {
      "text/plain": [
       "LinearDiscriminantAnalysis(n_components=None, priors=None, shrinkage='auto',\n",
       "              solver='eigen', store_covariance=False, tol=0.0001)"
      ]
     },
     "execution_count": 85,
     "metadata": {},
     "output_type": "execute_result"
    }
   ],
   "source": [
    "lda.fit(inputData,df['Group'])"
   ]
  },
  {
   "cell_type": "code",
   "execution_count": 32,
   "metadata": {},
   "outputs": [
    {
     "name": "stderr",
     "output_type": "stream",
     "text": [
      "C:\\Users\\OWNER\\Anaconda3\\lib\\site-packages\\sklearn\\discriminant_analysis.py:388: UserWarning: Variables are collinear.\n",
      "  warnings.warn(\"Variables are collinear.\")\n"
     ]
    },
    {
     "data": {
      "text/plain": [
       "LinearDiscriminantAnalysis(n_components=55, priors=None, shrinkage=None,\n",
       "              solver='svd', store_covariance=False, tol=0.0001)"
      ]
     },
     "execution_count": 32,
     "metadata": {},
     "output_type": "execute_result"
    }
   ],
   "source": [
    "lda.fit(inputData,df['Group'])"
   ]
  },
  {
   "cell_type": "code",
   "execution_count": 86,
   "metadata": {},
   "outputs": [],
   "source": [
    "transformedInputData = lda.transform(inputData)"
   ]
  },
  {
   "cell_type": "code",
   "execution_count": 88,
   "metadata": {
    "scrolled": true
   },
   "outputs": [
    {
     "data": {
      "text/plain": [
       "(80, 1)"
      ]
     },
     "execution_count": 88,
     "metadata": {},
     "output_type": "execute_result"
    }
   ],
   "source": [
    "transformedInputData.shape"
   ]
  },
  {
   "cell_type": "code",
   "execution_count": null,
   "metadata": {},
   "outputs": [],
   "source": []
  },
  {
   "cell_type": "code",
   "execution_count": 53,
   "metadata": {},
   "outputs": [],
   "source": [
    "from sklearn import datasets"
   ]
  },
  {
   "cell_type": "code",
   "execution_count": 54,
   "metadata": {},
   "outputs": [],
   "source": [
    "iris = datasets.load_iris()"
   ]
  },
  {
   "cell_type": "code",
   "execution_count": 91,
   "metadata": {},
   "outputs": [],
   "source": [
    "iris_df = pd.DataFrame(data = iris.data)"
   ]
  },
  {
   "cell_type": "code",
   "execution_count": 94,
   "metadata": {},
   "outputs": [],
   "source": [
    "iris_y = pd.DataFrame(data = iris.target)"
   ]
  },
  {
   "cell_type": "code",
   "execution_count": 95,
   "metadata": {},
   "outputs": [],
   "source": [
    "iris_df = pd.concat([iris_df,iris_y],axis = 1)"
   ]
  },
  {
   "cell_type": "code",
   "execution_count": 98,
   "metadata": {},
   "outputs": [],
   "source": [
    "iris_df.columns = ['f_1','f_2','f_3','f_4','class']"
   ]
  },
  {
   "cell_type": "code",
   "execution_count": 104,
   "metadata": {},
   "outputs": [],
   "source": [
    "iris_train_c1_df = iris_df[iris_df['class'] == 0]"
   ]
  },
  {
   "cell_type": "code",
   "execution_count": 127,
   "metadata": {},
   "outputs": [],
   "source": [
    "X_train_c1 = iris_train_c1_df.drop(columns = 'class')"
   ]
  },
  {
   "cell_type": "code",
   "execution_count": 105,
   "metadata": {},
   "outputs": [],
   "source": [
    "iris_train_c2_df = iris_df[iris_df['class'] == 1]"
   ]
  },
  {
   "cell_type": "code",
   "execution_count": 128,
   "metadata": {},
   "outputs": [],
   "source": [
    "X_train_c2 = iris_train_c2_df.drop(columns = 'class')"
   ]
  },
  {
   "cell_type": "code",
   "execution_count": 107,
   "metadata": {},
   "outputs": [],
   "source": [
    "iris_train_df = pd.concat([iris_train_c1_df,iris_train_c2_df],axis=0)"
   ]
  },
  {
   "cell_type": "code",
   "execution_count": 124,
   "metadata": {},
   "outputs": [],
   "source": [
    "X_train_iris = iris_train_df.drop(columns = 'class')\n",
    "Y_train_iris = iris_train_df['class']"
   ]
  },
  {
   "cell_type": "code",
   "execution_count": 129,
   "metadata": {},
   "outputs": [],
   "source": [
    "cov_iris_train_c1 = X_train_c1.cov()"
   ]
  },
  {
   "cell_type": "code",
   "execution_count": 130,
   "metadata": {},
   "outputs": [],
   "source": [
    "cov_iris_train_c2 = X_train_c2.cov()"
   ]
  },
  {
   "cell_type": "code",
   "execution_count": 131,
   "metadata": {},
   "outputs": [],
   "source": [
    "scatter_within_class = cov_iris_train_c1 + cov_iris_train_c2"
   ]
  },
  {
   "cell_type": "code",
   "execution_count": 132,
   "metadata": {},
   "outputs": [],
   "source": [
    "mean_train_c1 = X_train_c1.mean()"
   ]
  },
  {
   "cell_type": "code",
   "execution_count": 155,
   "metadata": {},
   "outputs": [],
   "source": [
    "mean_train_c1_df = pd.DataFrame(data = mean_train_c1)"
   ]
  },
  {
   "cell_type": "code",
   "execution_count": 157,
   "metadata": {},
   "outputs": [],
   "source": [
    "mean_train_c2_df = pd.DataFrame(data = mean_train_c2)"
   ]
  },
  {
   "cell_type": "code",
   "execution_count": 161,
   "metadata": {},
   "outputs": [],
   "source": [
    "temp_sub_mean = mean_train_c1_df - mean_train_c2_df"
   ]
  },
  {
   "cell_type": "code",
   "execution_count": 164,
   "metadata": {},
   "outputs": [],
   "source": [
    "scatter_between_class = np.dot(temp_sub_mean.values,(temp_sub_mean.T).values)"
   ]
  },
  {
   "cell_type": "code",
   "execution_count": 167,
   "metadata": {},
   "outputs": [],
   "source": [
    "inv_scatter_within_class = np.linalg.inv(scatter_within_class.values)"
   ]
  },
  {
   "cell_type": "code",
   "execution_count": 169,
   "metadata": {},
   "outputs": [],
   "source": [
    "product = inv_scatter_within_class * scatter_between_class"
   ]
  },
  {
   "cell_type": "code",
   "execution_count": 172,
   "metadata": {},
   "outputs": [],
   "source": [
    "Eval, Evect = np.linalg.eig(product)"
   ]
  },
  {
   "cell_type": "code",
   "execution_count": 179,
   "metadata": {},
   "outputs": [
    {
     "data": {
      "text/plain": [
       "array([[ 0.09384224, -0.18619255,  0.62590657,  0.75150977],\n",
       "       [ 0.04795287,  0.0596707 , -0.76180026,  0.64327311],\n",
       "       [-0.82634145,  0.53331129,  0.11064752,  0.14316422],\n",
       "       [ 0.55322144,  0.82301325,  0.12513374,  0.03060688]])"
      ]
     },
     "execution_count": 179,
     "metadata": {},
     "output_type": "execute_result"
    }
   ],
   "source": [
    "Evect"
   ]
  },
  {
   "cell_type": "code",
   "execution_count": null,
   "metadata": {},
   "outputs": [],
   "source": []
  },
  {
   "cell_type": "code",
   "execution_count": null,
   "metadata": {},
   "outputs": [],
   "source": []
  },
  {
   "cell_type": "code",
   "execution_count": null,
   "metadata": {},
   "outputs": [],
   "source": []
  },
  {
   "cell_type": "code",
   "execution_count": null,
   "metadata": {},
   "outputs": [],
   "source": []
  },
  {
   "cell_type": "code",
   "execution_count": 134,
   "metadata": {},
   "outputs": [],
   "source": [
    "mean_train_c2 = X_train_c2.mean()"
   ]
  },
  {
   "cell_type": "code",
   "execution_count": 141,
   "metadata": {},
   "outputs": [
    {
     "data": {
      "text/plain": [
       "10.273143999999998"
      ]
     },
     "execution_count": 141,
     "metadata": {},
     "output_type": "execute_result"
    }
   ],
   "source": [
    "np.dot((mean_train_c1 - mean_train_c2),np.transpose(mean_train_c1 - mean_train_c2))"
   ]
  },
  {
   "cell_type": "code",
   "execution_count": 148,
   "metadata": {},
   "outputs": [],
   "source": [
    "c = (mean_train_c1 - mean_train_c2)"
   ]
  },
  {
   "cell_type": "code",
   "execution_count": 149,
   "metadata": {},
   "outputs": [],
   "source": [
    "t1 = c.values"
   ]
  },
  {
   "cell_type": "code",
   "execution_count": 152,
   "metadata": {},
   "outputs": [],
   "source": [
    "t2 = np.transpose(c.values)"
   ]
  },
  {
   "cell_type": "code",
   "execution_count": 154,
   "metadata": {},
   "outputs": [
    {
     "data": {
      "text/plain": [
       "10.273143999999998"
      ]
     },
     "execution_count": 154,
     "metadata": {},
     "output_type": "execute_result"
    }
   ],
   "source": [
    "np.dot(t1,t2)"
   ]
  },
  {
   "cell_type": "code",
   "execution_count": null,
   "metadata": {},
   "outputs": [],
   "source": []
  },
  {
   "cell_type": "code",
   "execution_count": null,
   "metadata": {},
   "outputs": [],
   "source": []
  },
  {
   "cell_type": "code",
   "execution_count": null,
   "metadata": {},
   "outputs": [],
   "source": []
  },
  {
   "cell_type": "code",
   "execution_count": null,
   "metadata": {},
   "outputs": [],
   "source": []
  },
  {
   "cell_type": "code",
   "execution_count": null,
   "metadata": {},
   "outputs": [],
   "source": []
  },
  {
   "cell_type": "code",
   "execution_count": null,
   "metadata": {},
   "outputs": [],
   "source": []
  },
  {
   "cell_type": "code",
   "execution_count": null,
   "metadata": {},
   "outputs": [],
   "source": []
  },
  {
   "cell_type": "code",
   "execution_count": null,
   "metadata": {},
   "outputs": [],
   "source": []
  },
  {
   "cell_type": "code",
   "execution_count": null,
   "metadata": {},
   "outputs": [],
   "source": []
  },
  {
   "cell_type": "code",
   "execution_count": null,
   "metadata": {},
   "outputs": [],
   "source": []
  },
  {
   "cell_type": "code",
   "execution_count": 55,
   "metadata": {},
   "outputs": [],
   "source": [
    "X = iris.data"
   ]
  },
  {
   "cell_type": "code",
   "execution_count": 56,
   "metadata": {},
   "outputs": [
    {
     "data": {
      "text/plain": [
       "(150, 4)"
      ]
     },
     "execution_count": 56,
     "metadata": {},
     "output_type": "execute_result"
    }
   ],
   "source": [
    "X.shape"
   ]
  },
  {
   "cell_type": "code",
   "execution_count": 57,
   "metadata": {},
   "outputs": [],
   "source": [
    "Y = iris.target"
   ]
  },
  {
   "cell_type": "code",
   "execution_count": 79,
   "metadata": {},
   "outputs": [],
   "source": [
    "lda_iris = LinearDiscriminantAnalysis(solver=\"eigen\",shrinkage=\"auto\",n_components = 1)"
   ]
  },
  {
   "cell_type": "code",
   "execution_count": 80,
   "metadata": {},
   "outputs": [
    {
     "data": {
      "text/plain": [
       "LinearDiscriminantAnalysis(n_components=1, priors=None, shrinkage='auto',\n",
       "              solver='eigen', store_covariance=False, tol=0.0001)"
      ]
     },
     "execution_count": 80,
     "metadata": {},
     "output_type": "execute_result"
    }
   ],
   "source": [
    "lda_iris.fit(X,Y)"
   ]
  },
  {
   "cell_type": "code",
   "execution_count": 81,
   "metadata": {},
   "outputs": [],
   "source": [
    "X_1 = lda_iris.transform(X)"
   ]
  },
  {
   "cell_type": "code",
   "execution_count": 82,
   "metadata": {},
   "outputs": [
    {
     "data": {
      "text/plain": [
       "(150, 1)"
      ]
     },
     "execution_count": 82,
     "metadata": {},
     "output_type": "execute_result"
    }
   ],
   "source": [
    "X_1.shape"
   ]
  },
  {
   "cell_type": "code",
   "execution_count": 83,
   "metadata": {},
   "outputs": [
    {
     "data": {
      "text/plain": [
       "array([[ 1.26052576],\n",
       "       [ 1.03501902],\n",
       "       [ 1.13484127],\n",
       "       [ 0.98121121],\n",
       "       [ 1.28546494],\n",
       "       [ 1.15959741],\n",
       "       [ 1.07334517],\n",
       "       [ 1.15683959],\n",
       "       [ 0.92367055],\n",
       "       [ 1.10024798],\n",
       "       [ 1.33246797],\n",
       "       [ 1.0780926 ],\n",
       "       [ 1.09644959],\n",
       "       [ 1.17427352],\n",
       "       [ 1.65792803],\n",
       "       [ 1.49939348],\n",
       "       [ 1.35937298],\n",
       "       [ 1.18469364],\n",
       "       [ 1.23929345],\n",
       "       [ 1.25277194],\n",
       "       [ 1.114558  ],\n",
       "       [ 1.13759909],\n",
       "       [ 1.42763431],\n",
       "       [ 0.80451627],\n",
       "       [ 0.92826093],\n",
       "       [ 0.94953279],\n",
       "       [ 0.95523146],\n",
       "       [ 1.22498342],\n",
       "       [ 1.23558658],\n",
       "       [ 0.9850096 ],\n",
       "       [ 0.96007042],\n",
       "       [ 1.06278155],\n",
       "       [ 1.53685991],\n",
       "       [ 1.59351706],\n",
       "       [ 1.10024798],\n",
       "       [ 1.22798981],\n",
       "       [ 1.36807585],\n",
       "       [ 1.10024798],\n",
       "       [ 1.01295517],\n",
       "       [ 1.17124114],\n",
       "       [ 1.22023599],\n",
       "       [ 0.6761395 ],\n",
       "       [ 1.09163663],\n",
       "       [ 0.84290796],\n",
       "       [ 0.97716425],\n",
       "       [ 0.94478536],\n",
       "       [ 1.27866016],\n",
       "       [ 1.07049583],\n",
       "       [ 1.31806642],\n",
       "       [ 1.16744276],\n",
       "       [-1.14200085],\n",
       "       [-1.20435447],\n",
       "       [-1.37146303],\n",
       "       [-1.28665127],\n",
       "       [-1.39725973],\n",
       "       [-1.31086399],\n",
       "       [-1.3551352 ],\n",
       "       [-0.75661624],\n",
       "       [-1.19185322],\n",
       "       [-1.19838123],\n",
       "       [-0.99946539],\n",
       "       [-1.205212  ],\n",
       "       [-1.0264879 ],\n",
       "       [-1.38963697],\n",
       "       [-0.83642979],\n",
       "       [-1.07471455],\n",
       "       [-1.39824832],\n",
       "       [-0.90853125],\n",
       "       [-1.62656485],\n",
       "       [-0.99196014],\n",
       "       [-1.65369025],\n",
       "       [-1.00353834],\n",
       "       [-1.69391669],\n",
       "       [-1.27731346],\n",
       "       [-1.07082464],\n",
       "       [-1.12845682],\n",
       "       [-1.37811075],\n",
       "       [-1.64121498],\n",
       "       [-1.37998285],\n",
       "       [-0.66261018],\n",
       "       [-0.99575852],\n",
       "       [-0.86998251],\n",
       "       [-0.9603077 ],\n",
       "       [-1.83415978],\n",
       "       [-1.42705142],\n",
       "       [-1.25911133],\n",
       "       [-1.30037834],\n",
       "       [-1.37121445],\n",
       "       [-1.04680852],\n",
       "       [-1.20796982],\n",
       "       [-1.29257254],\n",
       "       [-1.30035235],\n",
       "       [-1.04959232],\n",
       "       [-0.78155542],\n",
       "       [-1.21477459],\n",
       "       [-1.00651874],\n",
       "       [-1.12169159],\n",
       "       [-1.09962774],\n",
       "       [-0.61447286],\n",
       "       [-1.11108843],\n",
       "       [-2.68689485],\n",
       "       [-2.09045923],\n",
       "       [-2.33643228],\n",
       "       [-2.11365737],\n",
       "       [-2.4487298 ],\n",
       "       [-2.61403178],\n",
       "       [-1.84742704],\n",
       "       [-2.31924913],\n",
       "       [-2.31330187],\n",
       "       [-2.48920262],\n",
       "       [-1.86877687],\n",
       "       [-2.10393772],\n",
       "       [-2.17986136],\n",
       "       [-2.20943046],\n",
       "       [-2.4302791 ],\n",
       "       [-2.21056255],\n",
       "       [-1.99556966],\n",
       "       [-2.41068042],\n",
       "       [-3.05848906],\n",
       "       [-1.90508741],\n",
       "       [-2.33833038],\n",
       "       [-2.05586594],\n",
       "       [-2.65242346],\n",
       "       [-1.84273159],\n",
       "       [-2.17612851],\n",
       "       [-2.06579682],\n",
       "       [-1.76784852],\n",
       "       [-1.7535125 ],\n",
       "       [-2.36609291],\n",
       "       [-1.89292625],\n",
       "       [-2.32013264],\n",
       "       [-2.08038141],\n",
       "       [-2.44192503],\n",
       "       [-1.67578229],\n",
       "       [-1.95715418],\n",
       "       [-2.50157501],\n",
       "       [-2.37194644],\n",
       "       [-1.97063048],\n",
       "       [-1.71797016],\n",
       "       [-2.07617519],\n",
       "       [-2.43236243],\n",
       "       [-2.07800775],\n",
       "       [-2.09045923],\n",
       "       [-2.45261971],\n",
       "       [-2.47945698],\n",
       "       [-2.19609547],\n",
       "       [-2.04718905],\n",
       "       [-1.99740222],\n",
       "       [-2.21062809],\n",
       "       [-1.88220338]])"
      ]
     },
     "execution_count": 83,
     "metadata": {},
     "output_type": "execute_result"
    }
   ],
   "source": [
    "X_1"
   ]
  },
  {
   "cell_type": "code",
   "execution_count": null,
   "metadata": {},
   "outputs": [],
   "source": []
  }
 ],
 "metadata": {
  "kernelspec": {
   "display_name": "Python 3",
   "language": "python",
   "name": "python3"
  },
  "language_info": {
   "codemirror_mode": {
    "name": "ipython",
    "version": 3
   },
   "file_extension": ".py",
   "mimetype": "text/x-python",
   "name": "python",
   "nbconvert_exporter": "python",
   "pygments_lexer": "ipython3",
   "version": "3.6.6"
  }
 },
 "nbformat": 4,
 "nbformat_minor": 2
}
