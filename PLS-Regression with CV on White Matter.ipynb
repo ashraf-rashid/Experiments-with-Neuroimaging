{
 "cells": [
  {
   "cell_type": "code",
   "execution_count": 1,
   "metadata": {},
   "outputs": [],
   "source": [
    "import pandas as pd"
   ]
  },
  {
   "cell_type": "code",
   "execution_count": 2,
   "metadata": {},
   "outputs": [],
   "source": [
    "from sklearn.model_selection import GridSearchCV"
   ]
  },
  {
   "cell_type": "code",
   "execution_count": 3,
   "metadata": {},
   "outputs": [],
   "source": [
    "from sklearn.metrics import classification_report"
   ]
  },
  {
   "cell_type": "code",
   "execution_count": 4,
   "metadata": {},
   "outputs": [],
   "source": [
    "from sklearn.metrics import mean_squared_error"
   ]
  },
  {
   "cell_type": "code",
   "execution_count": 5,
   "metadata": {},
   "outputs": [],
   "source": [
    "from sklearn.cross_decomposition import PLSRegression"
   ]
  },
  {
   "cell_type": "code",
   "execution_count": 9,
   "metadata": {},
   "outputs": [
    {
     "data": {
      "text/plain": [
       "{'copy': True, 'max_iter': 500, 'n_components': 2, 'scale': True, 'tol': 1e-06}"
      ]
     },
     "execution_count": 9,
     "metadata": {},
     "output_type": "execute_result"
    }
   ],
   "source": [
    "pls = PLSRegression()\n",
    "pls.get_params()"
   ]
  },
  {
   "cell_type": "code",
   "execution_count": 10,
   "metadata": {},
   "outputs": [],
   "source": [
    "tuned_parameters = [{'n_components':[2,3,4,5,6,7,8,9,10],'scale':[True,False]}]"
   ]
  },
  {
   "cell_type": "code",
   "execution_count": 11,
   "metadata": {},
   "outputs": [],
   "source": [
    "wmTrain_df = pd.read_csv(\"D:\\\\Fresh Alzheimers Work\\\\Dataset\\\\CN vs AD\\\\WM\\\\train_data_set_WM_CN_vs_AD.csv\")"
   ]
  },
  {
   "cell_type": "code",
   "execution_count": 12,
   "metadata": {},
   "outputs": [],
   "source": [
    "trainData = wmTrain_df.drop(columns = 'subject_Id')"
   ]
  },
  {
   "cell_type": "code",
   "execution_count": 13,
   "metadata": {},
   "outputs": [],
   "source": [
    "x_train = trainData.drop(columns = 'Group')"
   ]
  },
  {
   "cell_type": "code",
   "execution_count": 14,
   "metadata": {},
   "outputs": [],
   "source": [
    "y_train = trainData['Group']"
   ]
  },
  {
   "cell_type": "code",
   "execution_count": 15,
   "metadata": {},
   "outputs": [],
   "source": [
    "wmTest_df = pd.read_csv(\"D:\\\\Fresh Alzheimers Work\\\\Dataset\\\\CN vs AD\\\\WM\\\\test_data_set_WM_CN_vs_AD.csv\") "
   ]
  },
  {
   "cell_type": "code",
   "execution_count": 16,
   "metadata": {},
   "outputs": [],
   "source": [
    "testData = wmTest_df.drop(columns = 'subject_Id')"
   ]
  },
  {
   "cell_type": "code",
   "execution_count": 17,
   "metadata": {},
   "outputs": [],
   "source": [
    "x_test = testData.drop(columns = 'Group')"
   ]
  },
  {
   "cell_type": "code",
   "execution_count": 18,
   "metadata": {},
   "outputs": [],
   "source": [
    "y_test = testData['Group']"
   ]
  },
  {
   "cell_type": "code",
   "execution_count": 27,
   "metadata": {},
   "outputs": [],
   "source": [
    "regressor = GridSearchCV(PLSRegression(),tuned_parameters,cv=5,n_jobs = 2,refit = True,scoring='neg_mean_squared_error')"
   ]
  },
  {
   "cell_type": "code",
   "execution_count": 28,
   "metadata": {},
   "outputs": [
    {
     "data": {
      "text/plain": [
       "GridSearchCV(cv=5, error_score='raise',\n",
       "       estimator=PLSRegression(copy=True, max_iter=500, n_components=2, scale=True, tol=1e-06),\n",
       "       fit_params=None, iid=True, n_jobs=2,\n",
       "       param_grid=[{'n_components': [2, 3, 4, 5, 6, 7, 8, 9, 10], 'scale': [True, False]}],\n",
       "       pre_dispatch='2*n_jobs', refit=True, return_train_score='warn',\n",
       "       scoring='neg_mean_squared_error', verbose=0)"
      ]
     },
     "execution_count": 28,
     "metadata": {},
     "output_type": "execute_result"
    }
   ],
   "source": [
    "regressor.fit(x_train,y_train)"
   ]
  },
  {
   "cell_type": "code",
   "execution_count": 29,
   "metadata": {},
   "outputs": [
    {
     "name": "stdout",
     "output_type": "stream",
     "text": [
      "Best parameters set found on development set:\n",
      "\n",
      "{'n_components': 2, 'scale': False}\n"
     ]
    }
   ],
   "source": [
    "print(\"Best parameters set found on development set:\")\n",
    "print()\n",
    "print(regressor.best_params_)"
   ]
  },
  {
   "cell_type": "code",
   "execution_count": 30,
   "metadata": {},
   "outputs": [
    {
     "name": "stdout",
     "output_type": "stream",
     "text": [
      "-0.930 (+/-0.259) for {'n_components': 2, 'scale': True}\n",
      "-0.909 (+/-0.276) for {'n_components': 2, 'scale': False}\n",
      "-1.195 (+/-0.405) for {'n_components': 3, 'scale': True}\n",
      "-1.103 (+/-0.211) for {'n_components': 3, 'scale': False}\n",
      "-1.253 (+/-0.603) for {'n_components': 4, 'scale': True}\n",
      "-1.235 (+/-0.522) for {'n_components': 4, 'scale': False}\n",
      "-1.282 (+/-0.511) for {'n_components': 5, 'scale': True}\n",
      "-1.341 (+/-0.569) for {'n_components': 5, 'scale': False}\n",
      "-1.484 (+/-0.568) for {'n_components': 6, 'scale': True}\n",
      "-1.517 (+/-0.617) for {'n_components': 6, 'scale': False}\n",
      "-1.577 (+/-0.595) for {'n_components': 7, 'scale': True}\n",
      "-1.635 (+/-0.842) for {'n_components': 7, 'scale': False}\n",
      "-1.675 (+/-0.659) for {'n_components': 8, 'scale': True}\n",
      "-1.723 (+/-0.895) for {'n_components': 8, 'scale': False}\n",
      "-1.872 (+/-0.953) for {'n_components': 9, 'scale': True}\n",
      "-1.999 (+/-1.007) for {'n_components': 9, 'scale': False}\n",
      "-2.028 (+/-0.966) for {'n_components': 10, 'scale': True}\n",
      "-2.243 (+/-0.930) for {'n_components': 10, 'scale': False}\n"
     ]
    }
   ],
   "source": [
    "means = regressor.cv_results_['mean_test_score']\n",
    "stds = regressor.cv_results_['std_test_score']\n",
    "for mean, std, params in zip(means, stds, regressor.cv_results_['params']):\n",
    "        print(\"%0.3f (+/-%0.03f) for %r\"\n",
    "              % (mean, std * 2, params))\n"
   ]
  },
  {
   "cell_type": "code",
   "execution_count": 31,
   "metadata": {},
   "outputs": [
    {
     "name": "stdout",
     "output_type": "stream",
     "text": [
      "Detailed classification report:\n",
      "\n",
      "The model is trained on the full development set.\n",
      "The scores are computed on the full evaluation set.\n",
      "\n",
      "0.8543001116689307\n",
      "\n"
     ]
    }
   ],
   "source": [
    "print(\"Detailed classification report:\")\n",
    "print()\n",
    "print(\"The model is trained on the full development set.\")\n",
    "print(\"The scores are computed on the full evaluation set.\")\n",
    "print()\n",
    "y_true, y_pred = y_test, regressor.predict(x_test)\n",
    "print(mean_squared_error(y_true, y_pred))\n",
    "print()\n"
   ]
  },
  {
   "cell_type": "code",
   "execution_count": null,
   "metadata": {},
   "outputs": [],
   "source": []
  }
 ],
 "metadata": {
  "kernelspec": {
   "display_name": "Python 3",
   "language": "python",
   "name": "python3"
  },
  "language_info": {
   "codemirror_mode": {
    "name": "ipython",
    "version": 3
   },
   "file_extension": ".py",
   "mimetype": "text/x-python",
   "name": "python",
   "nbconvert_exporter": "python",
   "pygments_lexer": "ipython3",
   "version": "3.6.6"
  }
 },
 "nbformat": 4,
 "nbformat_minor": 2
}
