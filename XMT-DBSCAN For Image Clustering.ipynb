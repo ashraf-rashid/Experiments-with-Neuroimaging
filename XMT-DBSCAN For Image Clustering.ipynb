{
 "cells": [
  {
   "cell_type": "code",
   "execution_count": 1,
   "metadata": {},
   "outputs": [],
   "source": [
    "import math"
   ]
  },
  {
   "cell_type": "code",
   "execution_count": 2,
   "metadata": {},
   "outputs": [],
   "source": [
    "import os"
   ]
  },
  {
   "cell_type": "code",
   "execution_count": 3,
   "metadata": {},
   "outputs": [],
   "source": [
    "import datetime"
   ]
  },
  {
   "cell_type": "code",
   "execution_count": 4,
   "metadata": {},
   "outputs": [],
   "source": [
    "import heapq"
   ]
  },
  {
   "cell_type": "code",
   "execution_count": 5,
   "metadata": {},
   "outputs": [],
   "source": [
    "import random"
   ]
  },
  {
   "cell_type": "code",
   "execution_count": 6,
   "metadata": {},
   "outputs": [],
   "source": [
    "import numpy as np"
   ]
  },
  {
   "cell_type": "code",
   "execution_count": 7,
   "metadata": {},
   "outputs": [],
   "source": [
    "import pandas as pd"
   ]
  },
  {
   "cell_type": "code",
   "execution_count": 27,
   "metadata": {},
   "outputs": [],
   "source": [
    "def create_Kernel_Matrix(window_size):\n",
    "    return np.ones([window_size,window_size,window_size])"
   ]
  },
  {
   "cell_type": "code",
   "execution_count": 28,
   "metadata": {},
   "outputs": [],
   "source": [
    "#image: the image reference\n",
    "#index: tuple of x,y,z index\n",
    "#cluster_ID: cluster ID of the voxel at the specified index\n",
    "#W - the parameter W\n",
    "#MinDensity - the parameter MinDensity\n",
    "#K_W - the kernel matrix\n",
    "# cluster label -> 0 -> unclassified points; -1 for noise; -2 for border points; cluster_ID for core points\n",
    "#seeds -> probable -> list of tuples of coordinate indices\n",
    "\n",
    "def expand_cluster(image,image_size,index,cluster_ID,W,MinDensity,K_W,window_size):\n",
    "    #print(\"inside EC\")\n",
    "    seeds = retrieve_neighbours(image,image_size,index,window_size) #get a list of neighbour coordinates\n",
    "    density = density_function(image,image_size,index,window_size,K_W)\n",
    "    \n",
    "    \n",
    "    #print(\"density\",str(density))\n",
    "    \n",
    "#     print(\"**seeds begin***\")\n",
    "#     print(seeds)\n",
    "#     print(\"*** seeds end ***\")\n",
    "    \n",
    "    \n",
    "    if density < MinDensity:\n",
    "        #print(str(index[0])+\" \"+str(index[1])+\" \"+str(index[2]))\n",
    "        \n",
    "        voxel_labels[index[0]][index[1]][index[2]] = -1 #noise\n",
    "        #print(\"Finish EC\")\n",
    "        return False #return expansion failure\n",
    "    else:\n",
    "        \n",
    "        #for all xj in seeds\n",
    "        #coords is a tuple containing index/voxel coordinates of Xj\n",
    "        for coords in seeds:\n",
    "#             #neighbours -> list containing neighbours of Xj\n",
    "            neighbours = retrieve_neighbours(image,image_size,coords,window_size)\n",
    "            density_Xj = density_function(image,image_size,coords,window_size,K_W)\n",
    "            \n",
    "            if density_Xj >= MinDensity:\n",
    "                voxel_labels[coords[0]][coords[1]][coords[2]] = cluster_ID #core points\n",
    "                \n",
    "                for coords_nbr in neighbours:\n",
    "                    if voxel_labels[coords_nbr[0]][coords_nbr[1]][coords_nbr[2]] == 0:\n",
    "                        seeds.append(coords_nbr)\n",
    "                for coords_nbr in neighbours:\n",
    "                    label = voxel_labels[coords_nbr[0]][coords_nbr[1]][coords_nbr[2]]\n",
    "                    if label == 0 or label == -1:\n",
    "                        voxel_labels[coords_nbr[0]][coords_nbr[1]][coords_nbr[2]] = -2 #labelled as border points\n",
    "        \n",
    "        #print(\"Finish EC\")    \n",
    "        return True #return expansion success"
   ]
  },
  {
   "cell_type": "code",
   "execution_count": 29,
   "metadata": {},
   "outputs": [],
   "source": [
    "def find_neighbour_distance(index,neighbour_index):\n",
    "    val = (index[0]-neighbour_index[0])**2 + (index[1]-neighbour_index[1])**2 + (index[2]-neighbour_index[2])**2\n",
    "    distance = math.sqrt(val)\n",
    "    return distance"
   ]
  },
  {
   "cell_type": "code",
   "execution_count": 30,
   "metadata": {},
   "outputs": [],
   "source": [
    "#reserved for step 3 of XMT DBSCAN\n",
    "\n",
    "def find_border_points(image,image_size,window_size,voxel_labels):\n",
    "    border_index_array = np.where(voxel_labels == -2)\n",
    "    x_idx = border_index_array[0]\n",
    "    y_idx = border_index_array[1]\n",
    "    z_idx = border_index_array[2]\n",
    "    \n",
    "    for count in range(0,len(x_idx)):\n",
    "        index = (x_idx[count],y_idx[count],z_idx[count])\n",
    "        core_label_list = []\n",
    "        core_distance_list = []\n",
    "        core_nbr_list = []\n",
    "        coords_list = retrieve_neighbours(image,image_size,index,window_size)\n",
    "        \n",
    "        #remove non core neighbours\n",
    "        for coords in coords_list:\n",
    "            label = voxel_labels[coords[0]][coords[1]][coords[2]]\n",
    "            \n",
    "            if label > 0:\n",
    "                core_label_list.append(label) # implies the point is a core point\n",
    "                core_nbr_list.append(coords) #store label and coordinate in core neighbours list\n",
    "         \n",
    "        for nbr_count in range(0,len(core_nbr_list)):\n",
    "                nbr_index = core_nbr_list[nbr_count]\n",
    "                distance = find_neighbour_distance(index,nbr_index)\n",
    "                core_distance_list.append(distance)\n",
    "                \n",
    "        smallest_idx = heapq.nsmallest(1, range(len(core_distance_list)), key=core_distance_list.__getitem__) #for multiple matches, chooses first index\n",
    "        nearest_core_idx = smallest_idx[0]\n",
    "        nearest_core_nbr = core_nbr_list[nearest_core_idx]\n",
    "        nearest_cluster_ID = voxel_labels[nearest_core_nbr[0]][nearest_core_nbr[1]][nearest_core_nbr[2]]\n",
    "        voxel_labels[x_idx[count]][y_idx[count]][z_idx[count]] = nearest_cluster_ID\n",
    "        "
   ]
  },
  {
   "cell_type": "code",
   "execution_count": 31,
   "metadata": {},
   "outputs": [],
   "source": [
    "def retrieve_neighbours(image,image_size,index,window_size,neighbour_values=False):\n",
    "    #print(\"inside RN\")\n",
    "    nbr_coords,nbr_values = create_half_window(image,index,image_size,window_size)\n",
    "      \n",
    "    #print(\"Fin RN\")\n",
    "    if neighbour_values == True:\n",
    "        return nbr_coords, nbr_values\n",
    "    else:\n",
    "        return nbr_coords"
   ]
  },
  {
   "cell_type": "code",
   "execution_count": 32,
   "metadata": {},
   "outputs": [],
   "source": [
    "def density_function(image,image_size,index,window_size,K_W):\n",
    "    #print(\"inside DF\")\n",
    "    nbr_coords,nbr_values = retrieve_neighbours(image,image_size,index,window_size,neighbour_values=True)\n",
    "    \n",
    "    product = np.multiply(nbr_values,K_W)\n",
    "    count_nnz = np.count_nonzero(product) \n",
    "    density = 0\n",
    "    summation = np.sum(product) \n",
    "        \n",
    "    if count_nnz > 0:\n",
    "        density = summation/count_nnz\n",
    "    \n",
    "\n",
    "    #print(\"Prod type\",type(product))\n",
    "    #print(\"prod shape\",str(product.shape))\n",
    "    \n",
    "#     print(\"sum\",str(temp_sum))\n",
    "#     print(\"nnz\",str(count_nnz))\n",
    "    \n",
    "    #print(\"Finished DF\")\n",
    "    return density"
   ]
  },
  {
   "cell_type": "code",
   "execution_count": 33,
   "metadata": {},
   "outputs": [],
   "source": [
    "def create_half_window(image,index,image_size,window_size):\n",
    "    #print(\"inside CHW\")\n",
    "    xaxis_lower_limit = 0\n",
    "    xaxis_higher_limit = image_size[0] - 1\n",
    "    \n",
    "    yaxis_lower_limit = 0\n",
    "    yaxis_higher_limit = image_size[1] - 1\n",
    "    \n",
    "    zaxis_lower_limit = 0\n",
    "    zaxis_higher_limit = image_size[2] - 1\n",
    "    \n",
    "    nbr_window_length = math.floor(window_size/2)\n",
    "    \n",
    "    xaxis_low = index[0] - nbr_window_length\n",
    "    xaxis_high = index[0] + nbr_window_length\n",
    "    \n",
    "    yaxis_low = index[1] - nbr_window_length\n",
    "    yaxis_high = index[1] + nbr_window_length\n",
    "    \n",
    "    zaxis_low = index[2] - nbr_window_length\n",
    "    zaxis_high = index[2] + nbr_window_length\n",
    "    \n",
    "    half_window_coords = list()\n",
    "    half_window_values = np.zeros([window_size,window_size,window_size])\n",
    "    \n",
    "    xaxis_left_difference = 0\n",
    "    xaxis_right_difference = 0\n",
    "    yaxis_top_difference = 0\n",
    "    yaxis_bottom_difference = 0\n",
    "    zaxis_anterior_difference = 0\n",
    "    zaxis_posterior_difference = 0\n",
    "    \n",
    "    window_xlow = 0\n",
    "    window_xhigh = window_size - 1\n",
    "    window_ylow = 0\n",
    "    window_yhigh = window_size - 1\n",
    "    window_zlow = 0\n",
    "    window_zhigh = window_size - 1\n",
    "    \n",
    "    \n",
    "    if xaxis_low < xaxis_lower_limit:\n",
    "        xaxis_left_difference = xaxis_lower_limit - xaxis_low\n",
    "        xaxis_low = xaxis_lower_limit\n",
    "                \n",
    "    if xaxis_high > xaxis_higher_limit:\n",
    "        xaxis_right_difference = xaxis_high - xaxis_higher_limit \n",
    "        xaxis_high = xaxis_higher_limit\n",
    "        \n",
    "    if yaxis_low < yaxis_lower_limit:\n",
    "        yaxis_top_difference = yaxis_lower_limit - yaxis_low\n",
    "        yaxis_low = yaxis_lower_limit\n",
    "          \n",
    "    if yaxis_high > yaxis_higher_limit:\n",
    "        yaxis_bottom_difference = yaxis_high - yaxis_higher_limit\n",
    "        yaxis_high = yaxis_higher_limit\n",
    "        \n",
    "    if zaxis_low < zaxis_lower_limit:\n",
    "        zaxis_anterior_difference = zaxis_lower_limit - zaxis_low\n",
    "        zaxis_low = zaxis_lower_limit\n",
    "        \n",
    "    if zaxis_high > zaxis_higher_limit:\n",
    "        zaxis_posterior_difference = zaxis_high - zaxis_higher_limit\n",
    "        zaxis_high = zaxis_higher_limit\n",
    "        \n",
    "    window_ylow = window_ylow + yaxis_top_difference\n",
    "    window_yhigh = window_yhigh - yaxis_bottom_difference\n",
    "    \n",
    "    window_xlow = window_xlow + xaxis_left_difference\n",
    "    window_xhigh = window_xhigh - xaxis_right_difference\n",
    "    \n",
    "    window_zlow = window_zlow + zaxis_anterior_difference\n",
    "    window_zhigh = window_zhigh - zaxis_posterior_difference\n",
    "    \n",
    "    \n",
    "#     print(\"x ld\",str(xaxis_left_difference))\n",
    "#     print(\"x rd\",str(xaxis_right_difference))\n",
    "#     print(\"y td\",str(yaxis_top_difference))\n",
    "#     print(\"y bd\",str(yaxis_bottom_difference))\n",
    "    \n",
    "#     print(\"win xl\",str(window_xlow))\n",
    "#     print(\"win xh\",str(window_xhigh))\n",
    "#     print(\"win yl\",str(window_ylow))\n",
    "#     print(\"win yh\",str(window_yhigh))\n",
    "    \n",
    "    \n",
    "    window_row = -1\n",
    "    window_col = -1\n",
    "    \n",
    "    window_slice = window_zlow\n",
    "    for z_img in range(zaxis_low,zaxis_high + 1):\n",
    "        window_row = window_ylow\n",
    "        \n",
    "        for y_img in range(yaxis_low,yaxis_high + 1):\n",
    "            window_col = window_xlow\n",
    "            \n",
    "            for x_img in range(xaxis_low,xaxis_high + 1):\n",
    "                value = image[x_img][y_img][z_img]\n",
    "                half_window_values[window_row][window_col][window_slice] = value\n",
    "                \n",
    "                if not(x_img == index[0] and y_img == index[1] and z_img == index[2]):\n",
    "                    half_window_coords.append((x_img,y_img,z_img))\n",
    "                \n",
    "#                 print(\"---------------------------------------\")\n",
    "#                 print(str(x_img)+\" \"+str(y_img)+\" \"+str(z_img))\n",
    "#                 print(str(window_row)+\" \"+str(window_col)+\" \"+str(window_slice))  \n",
    "#                 print(\"---------------------------------------\")\n",
    "                \n",
    "                window_col = window_col + 1\n",
    "            window_row = window_row + 1\n",
    "        window_slice = window_slice + 1\n",
    "    \n",
    "    half_window_values[nbr_window_length][nbr_window_length][nbr_window_length] = 0\n",
    "       \n",
    "    #print(\"finished CHW\")\n",
    "    return half_window_coords, half_window_values\n",
    "    \n",
    "    \n",
    "    \n",
    "    "
   ]
  },
  {
   "cell_type": "markdown",
   "metadata": {},
   "source": [
    "Set the parameters W and MinDensity"
   ]
  },
  {
   "cell_type": "markdown",
   "metadata": {},
   "source": [
    "Run XMT-DBSCAN"
   ]
  },
  {
   "cell_type": "code",
   "execution_count": 57,
   "metadata": {},
   "outputs": [],
   "source": [
    "x_coords = []\n",
    "for x in range(5):\n",
    "    x_coords.append(random.randint(0,3072))"
   ]
  },
  {
   "cell_type": "code",
   "execution_count": 58,
   "metadata": {},
   "outputs": [],
   "source": [
    "y_coords = []\n",
    "for y in range(5):\n",
    "    y_coords.append(random.randint(0,3072))"
   ]
  },
  {
   "cell_type": "code",
   "execution_count": 59,
   "metadata": {},
   "outputs": [],
   "source": [
    "z_coords = []\n",
    "for i in range(5):\n",
    "    z_coords.append(0)"
   ]
  },
  {
   "cell_type": "code",
   "execution_count": 60,
   "metadata": {},
   "outputs": [],
   "source": [
    "voxel_coordinates = []\n",
    "for x in x_coords:\n",
    "    for y in y_coords:\n",
    "        for z in z_coords:\n",
    "            new_index = (x,y,z)\n",
    "            voxel_coordinates.append(new_index)"
   ]
  },
  {
   "cell_type": "code",
   "execution_count": 61,
   "metadata": {},
   "outputs": [
    {
     "data": {
      "text/plain": [
       "125"
      ]
     },
     "execution_count": 61,
     "metadata": {},
     "output_type": "execute_result"
    }
   ],
   "source": [
    "len(voxel_coordinates)"
   ]
  },
  {
   "cell_type": "markdown",
   "metadata": {},
   "source": [
    "Load data from dat file"
   ]
  },
  {
   "cell_type": "code",
   "execution_count": 9,
   "metadata": {},
   "outputs": [],
   "source": [
    "X = np.loadtxt(r'C:\\Users\\Administrator\\datafile.dat')"
   ]
  },
  {
   "cell_type": "code",
   "execution_count": 10,
   "metadata": {},
   "outputs": [
    {
     "data": {
      "text/plain": [
       "(3072, 3072)"
      ]
     },
     "execution_count": 10,
     "metadata": {},
     "output_type": "execute_result"
    }
   ],
   "source": [
    "X.shape"
   ]
  },
  {
   "cell_type": "code",
   "execution_count": 17,
   "metadata": {},
   "outputs": [],
   "source": [
    "m = np.amax(X,axis=0)"
   ]
  },
  {
   "cell_type": "code",
   "execution_count": 23,
   "metadata": {},
   "outputs": [
    {
     "name": "stdout",
     "output_type": "stream",
     "text": [
      "65535.0\n",
      "65535.0\n",
      "65535.0\n"
     ]
    }
   ],
   "source": [
    "for i in m:\n",
    "    if i >60000:\n",
    "        print(i)"
   ]
  },
  {
   "cell_type": "code",
   "execution_count": 24,
   "metadata": {},
   "outputs": [],
   "source": [
    "X_scaled = np.divide(X,65535.0)"
   ]
  },
  {
   "cell_type": "code",
   "execution_count": 25,
   "metadata": {},
   "outputs": [
    {
     "data": {
      "text/plain": [
       "array([[0.        , 0.        , 0.        , ..., 0.00016785, 0.00016785,\n",
       "        0.00016785],\n",
       "       [0.00016785, 0.00016785, 0.00016785, ..., 0.00146487, 0.00144961,\n",
       "        0.00134279],\n",
       "       [0.00131228, 0.00144961, 0.00155642, ..., 0.00144961, 0.00138857,\n",
       "        0.00144961],\n",
       "       ...,\n",
       "       [0.00167849, 0.00157168, 0.00137331, ..., 0.00128176, 0.00143435,\n",
       "        0.00149538],\n",
       "       [0.00164797, 0.00157168, 0.00138857, ..., 0.00125124, 0.00128176,\n",
       "        0.00141909],\n",
       "       [0.00155642, 0.00154116, 0.00149538, ..., 0.        , 0.        ,\n",
       "        0.        ]])"
      ]
     },
     "execution_count": 25,
     "metadata": {},
     "output_type": "execute_result"
    }
   ],
   "source": [
    "X_scaled"
   ]
  },
  {
   "cell_type": "code",
   "execution_count": 34,
   "metadata": {},
   "outputs": [],
   "source": [
    "X_zeros = np.zeros([3072,3072])"
   ]
  },
  {
   "cell_type": "code",
   "execution_count": 39,
   "metadata": {},
   "outputs": [],
   "source": [
    "X_arr = [X_scaled,X_zeros,X_zeros]"
   ]
  },
  {
   "cell_type": "code",
   "execution_count": 43,
   "metadata": {},
   "outputs": [],
   "source": [
    "X_3D = np.concatenate(X_arr)"
   ]
  },
  {
   "cell_type": "code",
   "execution_count": 46,
   "metadata": {},
   "outputs": [],
   "source": [
    "X_final_3D = np.reshape(X_3D,(3072,3072,3))"
   ]
  },
  {
   "cell_type": "code",
   "execution_count": 70,
   "metadata": {},
   "outputs": [],
   "source": [
    "MinDensity = 0.001\n",
    "W = 3\n",
    "windowSize = 2*W+1\n",
    "K_W = create_Kernel_Matrix(windowSize)\n",
    "voxel_labels = np.zeros((3072,3072,3)) #get unclassified labels for voxels"
   ]
  },
  {
   "cell_type": "code",
   "execution_count": 71,
   "metadata": {
    "scrolled": true
   },
   "outputs": [
    {
     "name": "stdout",
     "output_type": "stream",
     "text": [
      "2019-03-21 00:40:43.892047\n",
      "0\n",
      "1\n",
      "2\n",
      "3\n",
      "4\n",
      "5\n",
      "6\n",
      "7\n",
      "8\n",
      "9\n",
      "10\n",
      "11\n",
      "12\n",
      "13\n",
      "14\n",
      "15\n",
      "16\n",
      "17\n",
      "18\n",
      "19\n",
      "20\n",
      "21\n",
      "22\n",
      "23\n",
      "24\n",
      "25\n",
      "26\n",
      "27\n",
      "28\n",
      "29\n",
      "30\n",
      "31\n",
      "32\n",
      "33\n",
      "34\n",
      "35\n",
      "36\n",
      "37\n",
      "38\n",
      "39\n",
      "40\n",
      "41\n",
      "42\n",
      "43\n",
      "44\n",
      "45\n",
      "46\n",
      "47\n",
      "48\n",
      "49\n",
      "50\n",
      "51\n",
      "52\n",
      "53\n",
      "54\n",
      "55\n",
      "56\n",
      "57\n",
      "58\n",
      "59\n",
      "60\n",
      "61\n",
      "62\n",
      "63\n",
      "64\n",
      "65\n",
      "66\n",
      "67\n",
      "68\n",
      "69\n",
      "70\n",
      "71\n",
      "72\n",
      "73\n",
      "74\n",
      "75\n",
      "76\n",
      "77\n",
      "78\n",
      "79\n",
      "80\n",
      "81\n",
      "82\n",
      "83\n",
      "84\n",
      "85\n",
      "86\n",
      "87\n",
      "88\n",
      "89\n",
      "90\n",
      "91\n",
      "92\n",
      "93\n",
      "94\n",
      "95\n",
      "96\n",
      "97\n",
      "98\n",
      "99\n",
      "100\n",
      "101\n",
      "102\n",
      "103\n",
      "104\n",
      "105\n",
      "106\n",
      "107\n",
      "108\n",
      "109\n",
      "110\n",
      "111\n",
      "112\n",
      "113\n",
      "114\n",
      "115\n",
      "116\n",
      "117\n",
      "118\n",
      "119\n",
      "120\n",
      "121\n",
      "122\n",
      "123\n",
      "124\n",
      "2019-03-21 01:47:48.009933\n"
     ]
    }
   ],
   "source": [
    "print(datetime.datetime.now())\n",
    "\n",
    "cluster_ID = 1\n",
    "\n",
    "count = 0\n",
    "for index in voxel_coordinates:\n",
    "    print(count)      \n",
    "    \n",
    "    result = expand_cluster(X_final_3D,(3072,3072,3),index,cluster_ID,W,MinDensity,K_W,windowSize)\n",
    "    if result == True:\n",
    "        cluster_ID = cluster_ID + 1  \n",
    "    \n",
    "    count = count + 1\n",
    "\n",
    "find_border_points(X_final_3D,(3072,3072,3),windowSize,voxel_labels)\n",
    "            \n",
    "print(datetime.datetime.now())"
   ]
  },
  {
   "cell_type": "code",
   "execution_count": 72,
   "metadata": {},
   "outputs": [
    {
     "data": {
      "text/plain": [
       "26"
      ]
     },
     "execution_count": 72,
     "metadata": {},
     "output_type": "execute_result"
    }
   ],
   "source": [
    "cluster_ID"
   ]
  },
  {
   "cell_type": "code",
   "execution_count": 73,
   "metadata": {},
   "outputs": [
    {
     "data": {
      "text/plain": [
       "(3072, 3072, 3)"
      ]
     },
     "execution_count": 73,
     "metadata": {},
     "output_type": "execute_result"
    }
   ],
   "source": [
    "voxel_labels.shape"
   ]
  },
  {
   "cell_type": "code",
   "execution_count": 75,
   "metadata": {},
   "outputs": [
    {
     "data": {
      "text/plain": [
       "(3072, 3072)"
      ]
     },
     "execution_count": 75,
     "metadata": {},
     "output_type": "execute_result"
    }
   ],
   "source": [
    "voxel_labels[:,:,0].shape"
   ]
  },
  {
   "cell_type": "code",
   "execution_count": 80,
   "metadata": {},
   "outputs": [],
   "source": [
    "v_labels = voxel_labels[:,:,0]"
   ]
  },
  {
   "cell_type": "code",
   "execution_count": 91,
   "metadata": {},
   "outputs": [
    {
     "name": "stdout",
     "output_type": "stream",
     "text": [
      "20.0\n",
      "20.0\n",
      "20.0\n",
      "20.0\n",
      "20.0\n",
      "20.0\n",
      "20.0\n",
      "15.0\n",
      "15.0\n",
      "15.0\n",
      "15.0\n",
      "15.0\n",
      "15.0\n",
      "15.0\n",
      "25.0\n",
      "25.0\n",
      "25.0\n",
      "25.0\n",
      "25.0\n",
      "25.0\n",
      "25.0\n",
      "10.0\n",
      "10.0\n",
      "10.0\n",
      "10.0\n",
      "10.0\n",
      "10.0\n",
      "10.0\n",
      "5.0\n",
      "5.0\n",
      "5.0\n",
      "5.0\n",
      "5.0\n",
      "5.0\n",
      "5.0\n",
      "20.0\n",
      "20.0\n",
      "20.0\n",
      "20.0\n",
      "20.0\n",
      "20.0\n",
      "20.0\n",
      "15.0\n",
      "15.0\n",
      "15.0\n",
      "15.0\n",
      "15.0\n",
      "15.0\n",
      "15.0\n",
      "25.0\n",
      "25.0\n",
      "25.0\n",
      "25.0\n",
      "25.0\n",
      "25.0\n",
      "25.0\n",
      "10.0\n",
      "10.0\n",
      "10.0\n",
      "10.0\n",
      "10.0\n",
      "10.0\n",
      "10.0\n",
      "5.0\n",
      "5.0\n",
      "5.0\n",
      "5.0\n",
      "5.0\n",
      "5.0\n",
      "5.0\n",
      "20.0\n",
      "20.0\n",
      "20.0\n",
      "20.0\n",
      "20.0\n",
      "20.0\n",
      "20.0\n",
      "15.0\n",
      "15.0\n",
      "15.0\n",
      "15.0\n",
      "15.0\n",
      "15.0\n",
      "15.0\n",
      "25.0\n",
      "25.0\n",
      "25.0\n",
      "25.0\n",
      "25.0\n",
      "25.0\n",
      "25.0\n",
      "10.0\n",
      "10.0\n",
      "10.0\n",
      "10.0\n",
      "10.0\n",
      "10.0\n",
      "10.0\n",
      "5.0\n",
      "5.0\n",
      "5.0\n",
      "5.0\n",
      "5.0\n",
      "5.0\n",
      "5.0\n",
      "20.0\n",
      "20.0\n",
      "20.0\n",
      "20.0\n",
      "20.0\n",
      "20.0\n",
      "15.0\n",
      "15.0\n",
      "15.0\n",
      "15.0\n",
      "15.0\n",
      "15.0\n",
      "25.0\n",
      "25.0\n",
      "25.0\n",
      "25.0\n",
      "25.0\n",
      "25.0\n",
      "10.0\n",
      "10.0\n",
      "10.0\n",
      "10.0\n",
      "10.0\n",
      "10.0\n",
      "5.0\n",
      "5.0\n",
      "5.0\n",
      "5.0\n",
      "5.0\n",
      "5.0\n",
      "20.0\n",
      "20.0\n",
      "20.0\n",
      "20.0\n",
      "20.0\n",
      "20.0\n",
      "20.0\n",
      "15.0\n",
      "15.0\n",
      "15.0\n",
      "15.0\n",
      "15.0\n",
      "15.0\n",
      "15.0\n",
      "25.0\n",
      "25.0\n",
      "25.0\n",
      "25.0\n",
      "25.0\n",
      "25.0\n",
      "25.0\n",
      "10.0\n",
      "10.0\n",
      "10.0\n",
      "10.0\n",
      "10.0\n",
      "10.0\n",
      "10.0\n",
      "5.0\n",
      "5.0\n",
      "5.0\n",
      "5.0\n",
      "5.0\n",
      "5.0\n",
      "5.0\n",
      "20.0\n",
      "20.0\n",
      "20.0\n",
      "20.0\n",
      "20.0\n",
      "20.0\n",
      "20.0\n",
      "15.0\n",
      "15.0\n",
      "15.0\n",
      "15.0\n",
      "15.0\n",
      "15.0\n",
      "15.0\n",
      "25.0\n",
      "25.0\n",
      "25.0\n",
      "25.0\n",
      "25.0\n",
      "25.0\n",
      "25.0\n",
      "10.0\n",
      "10.0\n",
      "10.0\n",
      "10.0\n",
      "10.0\n",
      "10.0\n",
      "10.0\n",
      "5.0\n",
      "5.0\n",
      "5.0\n",
      "5.0\n",
      "5.0\n",
      "5.0\n",
      "5.0\n",
      "20.0\n",
      "20.0\n",
      "20.0\n",
      "20.0\n",
      "20.0\n",
      "20.0\n",
      "20.0\n",
      "15.0\n",
      "15.0\n",
      "15.0\n",
      "15.0\n",
      "15.0\n",
      "15.0\n",
      "15.0\n",
      "25.0\n",
      "25.0\n",
      "25.0\n",
      "25.0\n",
      "25.0\n",
      "25.0\n",
      "25.0\n",
      "10.0\n",
      "10.0\n",
      "10.0\n",
      "10.0\n",
      "10.0\n",
      "10.0\n",
      "10.0\n",
      "5.0\n",
      "5.0\n",
      "5.0\n",
      "5.0\n",
      "5.0\n",
      "5.0\n",
      "5.0\n"
     ]
    }
   ],
   "source": [
    "c = 0\n",
    "for i in range(0,3072):\n",
    "    for j in range(0,3072):\n",
    "        v = voxel_labels[i][j][0]\n",
    "        if v > 1:\n",
    "            c = c+1\n",
    "            print(v)"
   ]
  },
  {
   "cell_type": "code",
   "execution_count": 92,
   "metadata": {},
   "outputs": [
    {
     "data": {
      "text/plain": [
       "240"
      ]
     },
     "execution_count": 92,
     "metadata": {},
     "output_type": "execute_result"
    }
   ],
   "source": [
    "c"
   ]
  },
  {
   "cell_type": "code",
   "execution_count": 82,
   "metadata": {},
   "outputs": [],
   "source": [
    "row, col = np.where(v_labels > 1)"
   ]
  },
  {
   "cell_type": "code",
   "execution_count": 86,
   "metadata": {},
   "outputs": [],
   "source": [
    "arr = np.ones((3072,3072))"
   ]
  },
  {
   "cell_type": "code",
   "execution_count": 87,
   "metadata": {},
   "outputs": [],
   "source": [
    "arr[:,:] = 200"
   ]
  },
  {
   "cell_type": "code",
   "execution_count": 88,
   "metadata": {},
   "outputs": [
    {
     "data": {
      "text/plain": [
       "array([[200., 200., 200., ..., 200., 200., 200.],\n",
       "       [200., 200., 200., ..., 200., 200., 200.],\n",
       "       [200., 200., 200., ..., 200., 200., 200.],\n",
       "       ...,\n",
       "       [200., 200., 200., ..., 200., 200., 200.],\n",
       "       [200., 200., 200., ..., 200., 200., 200.],\n",
       "       [200., 200., 200., ..., 200., 200., 200.]])"
      ]
     },
     "execution_count": 88,
     "metadata": {},
     "output_type": "execute_result"
    }
   ],
   "source": [
    "arr"
   ]
  },
  {
   "cell_type": "code",
   "execution_count": 89,
   "metadata": {},
   "outputs": [],
   "source": [
    "for r in row:\n",
    "    for c in col:\n",
    "        arr[r][c] = 0"
   ]
  },
  {
   "cell_type": "code",
   "execution_count": null,
   "metadata": {},
   "outputs": [],
   "source": []
  },
  {
   "cell_type": "code",
   "execution_count": null,
   "metadata": {},
   "outputs": [],
   "source": [
    "import scipy.misc"
   ]
  },
  {
   "cell_type": "code",
   "execution_count": 93,
   "metadata": {},
   "outputs": [
    {
     "name": "stderr",
     "output_type": "stream",
     "text": [
      "C:\\Users\\Administrator\\Anaconda3\\envs\\my_pymc_env\\lib\\site-packages\\ipykernel_launcher.py:2: DeprecationWarning: `imsave` is deprecated!\n",
      "`imsave` is deprecated in SciPy 1.0.0, and will be removed in 1.2.0.\n",
      "Use ``imageio.imwrite`` instead.\n",
      "  \n"
     ]
    }
   ],
   "source": [
    "\n",
    "scipy.misc.imsave('X.jpg', X)"
   ]
  },
  {
   "cell_type": "code",
   "execution_count": null,
   "metadata": {},
   "outputs": [],
   "source": []
  },
  {
   "cell_type": "code",
   "execution_count": null,
   "metadata": {},
   "outputs": [],
   "source": []
  },
  {
   "cell_type": "code",
   "execution_count": null,
   "metadata": {},
   "outputs": [],
   "source": []
  },
  {
   "cell_type": "code",
   "execution_count": null,
   "metadata": {},
   "outputs": [],
   "source": []
  },
  {
   "cell_type": "code",
   "execution_count": null,
   "metadata": {},
   "outputs": [],
   "source": []
  },
  {
   "cell_type": "code",
   "execution_count": null,
   "metadata": {},
   "outputs": [],
   "source": []
  },
  {
   "cell_type": "code",
   "execution_count": null,
   "metadata": {},
   "outputs": [],
   "source": []
  },
  {
   "cell_type": "code",
   "execution_count": null,
   "metadata": {},
   "outputs": [],
   "source": []
  },
  {
   "cell_type": "code",
   "execution_count": null,
   "metadata": {},
   "outputs": [],
   "source": []
  },
  {
   "cell_type": "code",
   "execution_count": null,
   "metadata": {},
   "outputs": [],
   "source": []
  },
  {
   "cell_type": "code",
   "execution_count": null,
   "metadata": {},
   "outputs": [],
   "source": []
  },
  {
   "cell_type": "code",
   "execution_count": null,
   "metadata": {},
   "outputs": [],
   "source": []
  },
  {
   "cell_type": "code",
   "execution_count": null,
   "metadata": {},
   "outputs": [],
   "source": []
  },
  {
   "cell_type": "code",
   "execution_count": null,
   "metadata": {},
   "outputs": [],
   "source": []
  },
  {
   "cell_type": "code",
   "execution_count": null,
   "metadata": {},
   "outputs": [],
   "source": []
  },
  {
   "cell_type": "code",
   "execution_count": null,
   "metadata": {},
   "outputs": [],
   "source": []
  },
  {
   "cell_type": "code",
   "execution_count": null,
   "metadata": {},
   "outputs": [],
   "source": []
  },
  {
   "cell_type": "code",
   "execution_count": null,
   "metadata": {},
   "outputs": [],
   "source": []
  },
  {
   "cell_type": "code",
   "execution_count": null,
   "metadata": {},
   "outputs": [],
   "source": []
  },
  {
   "cell_type": "code",
   "execution_count": null,
   "metadata": {},
   "outputs": [],
   "source": []
  },
  {
   "cell_type": "code",
   "execution_count": null,
   "metadata": {},
   "outputs": [],
   "source": []
  },
  {
   "cell_type": "code",
   "execution_count": null,
   "metadata": {},
   "outputs": [],
   "source": []
  },
  {
   "cell_type": "code",
   "execution_count": null,
   "metadata": {},
   "outputs": [],
   "source": []
  },
  {
   "cell_type": "code",
   "execution_count": 62,
   "metadata": {
    "scrolled": true
   },
   "outputs": [],
   "source": [
    "# for x in range(0,120):\n",
    "#     for y in range(0,144):\n",
    "#         for z in range(0,120):\n",
    "#             print(voxel_labels[x][y][z])"
   ]
  },
  {
   "cell_type": "code",
   "execution_count": 28,
   "metadata": {},
   "outputs": [],
   "source": [
    "# def second_largest(numbers,index=False):\n",
    "#     count = 0\n",
    "#     m1 = m2 = float('-inf')\n",
    "#     for x in numbers:\n",
    "#         count += 1\n",
    "#         if x > m2:\n",
    "#             if x >= m1:\n",
    "#                 m1, m2 = x, m1            \n",
    "#             else:\n",
    "#                 m2 = x\n",
    "#     return m2 if count >= 2 else None"
   ]
  },
  {
   "cell_type": "code",
   "execution_count": 31,
   "metadata": {},
   "outputs": [],
   "source": [
    "# def second_smallest(numbers):\n",
    "#     count = 0\n",
    "#     m1 = m2 = float('inf')\n",
    "#     for x in numbers:\n",
    "#         count += 1\n",
    "#         if x < m2:\n",
    "#             if x <= m1:\n",
    "#                 m1, m2 = x, m1            \n",
    "#             else:\n",
    "#                 m2 = x\n",
    "            \n",
    "#     return m2 if count >= 2 else None"
   ]
  },
  {
   "cell_type": "code",
   "execution_count": 1,
   "metadata": {},
   "outputs": [],
   "source": [
    "# fr = [8,4,1,1,1,12]\n",
    "# s = heapq.nsmallest(1, range(len(fr)), key=fr.__getitem__)\n",
    "\n",
    "# index = (60,40,20)\n",
    "#coords,values = create_half_window(imageData,(60,44,20),imageSize,windowSize)\n",
    "# x1 = np.zeros([2,2])\n",
    "# x1[0][0] = 1\n",
    "# x1[0][1] = 2\n",
    "# x1[1][0] = 3\n",
    "# x1[1][1] = 4\n",
    "\n",
    "# x2 = np.zeros([2,2,2])\n",
    "# x2[0][0][0] = 2\n",
    "# x2[0][1][0] = 4\n",
    "# x2[1][0][0] = 6\n",
    "# x2[1][1][0] = 8\n",
    "\n",
    "\n",
    "# x_img = 61\n",
    "# y_img = 40\n",
    "# z_img = 20\n",
    "\n",
    "# if not(x_img == index[0] and y_img == index[1] and z_img == index[2]):\n",
    "#         print('hello world')\n",
    "\n",
    "#  row_start = 0\n",
    "#     row_end = window_size - 1\n",
    "    \n",
    "#     col_start = 0\n",
    "#     col_end = window_size - 1\n",
    "    \n",
    "#     slice_start = 0\n",
    "#     slice_end = window_size-1\n",
    "    \n",
    "#     xaxis_left_difference = 0\n",
    "#     xaxis_right_difference = 0\n",
    "    \n",
    "#     yaxis_top_difference = 0\n",
    "#     yaxis_bottom_difference = 0\n",
    "    \n",
    "#     zaxis_anterior_difference = 0\n",
    "#     zaxis_posterior_difference = 0\n",
    "    \n",
    "   \n",
    "#     if xaxis_low < xaxis_lower_limit:\n",
    "#         xaxis_left_difference = xaxis_lower_limit - xaxis_low\n",
    "#         xaxis_low = xaxis_low + xaxis_left_difference\n",
    "                \n",
    "#     if xaxis_high > xaxis_higher_limit:\n",
    "#         xaxis_right_difference = xaxis_high - xaxis_higher_limit \n",
    "#         xaxis_high = xaxis_high - xaxis_right_difference\n",
    "        \n",
    "#     if yaxis_low < yaxis_lower_limit:\n",
    "#         print(\"yl low\")\n",
    "#         yaxis_bottom_difference = yaxis_lower_limit - yaxis_low\n",
    "#         yaxis_low = yaxis_low + yaxis_bottom_difference\n",
    "#         print(yaxis_low)\n",
    "        \n",
    "#     if yaxis_high > yaxis_higher_limit:\n",
    "#         yaxis_top_difference = yaxis_high - yaxis_higher_limit\n",
    "#         yaxis_high = yaxis_high - yaxis_top_difference\n",
    "        \n",
    "#     if zaxis_low < zaxis_lower_limit:\n",
    "#         print(\"zl low\")\n",
    "#         zaxis_anterior_difference = zaxis_lower_limit - zaxis_low\n",
    "#         zaxis_low = zaxis_low + zaxis_anterior_difference\n",
    "        \n",
    "#     if zaxis_high > zaxis_higher_limit:\n",
    "#         zaxis_posterior_difference = zaxis_high - zaxis_higher_limit\n",
    "#         zaxis_high = zaxis_high - zaxis_posterior_difference\n",
    "\n",
    "        \n",
    "#     row_start = row_start + yaxis_top_difference\n",
    "#     row_end = row_end - yaxis_bottom_difference\n",
    "    \n",
    "#     col_start = col_start + xaxis_left_difference\n",
    "#     col_end = col_end - xaxis_right_difference\n",
    "    \n",
    "    \n",
    "    \n",
    "#     print(\"row start\",str(row_start))\n",
    "#     print(\"row end\",str(row_end))\n",
    "    \n",
    "#     print(\"col start\",str(col_start))\n",
    "#     print(\"col end\",str(col_end))\n",
    "    \n",
    "#     slice_start = slice_start + zaxis_anterior_difference\n",
    "#     slice_end = slice_end - zaxis_posterior_difference\n",
    "    \n",
    "#     print(\"y ax hi\",str(yaxis_high))\n",
    "#     print(\"x ax lo\",str(xaxis_low))\n",
    "    \n",
    "#     x_img = -1\n",
    "#     y_img = -1\n",
    "#     z_img = -1\n",
    "    \n",
    "#     z_img = zaxis_low\n",
    "#     for z_idx in range(slice_start,slice_end + 1):\n",
    "#         y_img = yaxis_high\n",
    "        \n",
    "#         for y_idx in range(col_end,col_start - 1,-1):\n",
    "#             x_img = xaxis_low\n",
    "            \n",
    "#             for x_idx in range(row_start,row_end + 1):\n",
    "#                 #half_window_values[x_idx][y_idx][z_idx] = image[x_img][y_img][z_img]\n",
    "#                 #half_window_coords[x_idx][y_idx][z_idx] = str(x_img) +\" \"+str(y_img)+\" \"+str(z_img)\n",
    "#                 print(str(x_img) +\" \"+str(y_img)+\" \"+str(z_img))\n",
    "#                 x_img = x_img + 1\n",
    "            \n",
    "#             y_img = y_img - 1\n",
    "        \n",
    "#         z_img = z_img + 1"
   ]
  },
  {
   "cell_type": "code",
   "execution_count": 6,
   "metadata": {},
   "outputs": [],
   "source": [
    "#index - array of x,y,z indices\n",
    "#voxel_labels -> stores cluster labels of individual voxels\n",
    "\n",
    "#cluster label = -1 for noise\n",
    "#0 for border points\n",
    "\n",
    "# def label_Voxels(index, cluster_label, voxel_labels):\n",
    "#     voxel_labels[index[0]][index[1]][index[2]] = cluster_label\n",
    "    \n",
    "    \n",
    "    \n",
    "# #,all_pixels = False\n",
    "# #     if all_pixels == True:\n",
    "# #         for zaxis in img_size[2]:\n",
    "# #             for yaxis in img_size[1]:\n",
    "# #                 for xaxis in img_size[0]:\n",
    "# #                     voxel_labels[xaxis][yaxis][zaxis] = -1\n",
    "\n",
    "\n",
    "#      if xaxis_low < xaxis_lower_limit:\n",
    "#         for idx in range(xaxis_low,xaxis_lower_limit):\n",
    "#             xaxis_low_temp.add(idx)          \n",
    "#         xaxis_low = xaxis_lower_limit\n",
    "                \n",
    "#     elif xaxis_high > xaxis_higher_limit:\n",
    "#         for idx in range(xaxis_high,xaxis_higher_limit,-1):\n",
    "#             xaxis_high_temp.add(idx)          \n",
    "#         xaxis_high = xaxis_higher_limit\n",
    "        \n",
    "#     elif yaxis_low < yaxis_lower_limit:\n",
    "#         for idx in range(yaxis_low,yaxis_lower_limit):\n",
    "#             yaxis_low_temp.add(idx)          \n",
    "#         yaxis_low = yaxis_lower_limit\n",
    "        \n",
    "#     elif yaxis_high > yaxis_higher_limit:\n",
    "#         for idx in range(yaxis_high,yaxis_higher_limit,-1):\n",
    "#             yaxis_high_temp.add(idx)          \n",
    "#         yaxis_high = yaxis_higher_limit\n",
    "        \n",
    "#     elif zaxis_low < zaxis_lower_limit:\n",
    "#         for idx in range(zaxis_low,zaxis_lower_limit):\n",
    "#             zaxis_low_temp.add(idx)    \n",
    "#         zaxis_low = zaxis_lower_limit\n",
    "        \n",
    "#     elif zaxis_high > zaxis_higher_limit:\n",
    "#         for idx in range(zaxis_high,zaxis_higher_limit,-1):\n",
    "#             zaxis_high_temp.add(idx)          \n",
    "#         zaxis_high = zaxis_higher_limit\n",
    "        \n",
    "    \n",
    "    "
   ]
  }
 ],
 "metadata": {
  "kernelspec": {
   "display_name": "Python 3",
   "language": "python",
   "name": "python3"
  },
  "language_info": {
   "codemirror_mode": {
    "name": "ipython",
    "version": 3
   },
   "file_extension": ".py",
   "mimetype": "text/x-python",
   "name": "python",
   "nbconvert_exporter": "python",
   "pygments_lexer": "ipython3",
   "version": "3.6.6"
  }
 },
 "nbformat": 4,
 "nbformat_minor": 2
}
