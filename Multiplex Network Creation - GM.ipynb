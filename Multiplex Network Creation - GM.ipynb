{
 "cells": [
  {
   "cell_type": "code",
   "execution_count": 1,
   "metadata": {},
   "outputs": [],
   "source": [
    "import numpy as np"
   ]
  },
  {
   "cell_type": "code",
   "execution_count": 2,
   "metadata": {},
   "outputs": [],
   "source": [
    "import networkx as nx"
   ]
  },
  {
   "cell_type": "code",
   "execution_count": 3,
   "metadata": {},
   "outputs": [],
   "source": [
    "import os"
   ]
  },
  {
   "cell_type": "markdown",
   "metadata": {},
   "source": [
    "# CN vs AD"
   ]
  },
  {
   "cell_type": "markdown",
   "metadata": {},
   "source": [
    "Training"
   ]
  },
  {
   "cell_type": "code",
   "execution_count": 4,
   "metadata": {},
   "outputs": [
    {
     "name": "stdout",
     "output_type": "stream",
     "text": [
      "D:\\images\\smwc images\\CN vs AD\\GM\\Thresholded_graphs\\Training\\\\graph_threshold_0.1\n",
      "***************************************************\n",
      "D:\\images\\smwc images\\CN vs AD\\GM\\Thresholded_graphs\\Training\\\\graph_threshold_0.2\n",
      "***************************************************\n",
      "D:\\images\\smwc images\\CN vs AD\\GM\\Thresholded_graphs\\Training\\\\graph_threshold_0.3\n",
      "***************************************************\n",
      "D:\\images\\smwc images\\CN vs AD\\GM\\Thresholded_graphs\\Training\\\\graph_threshold_0.4\n",
      "***************************************************\n",
      "D:\\images\\smwc images\\CN vs AD\\GM\\Thresholded_graphs\\Training\\\\graph_threshold_0.5\n",
      "***************************************************\n",
      "D:\\images\\smwc images\\CN vs AD\\GM\\Thresholded_graphs\\Training\\\\graph_threshold_0.6\n",
      "***************************************************\n",
      "D:\\images\\smwc images\\CN vs AD\\GM\\Thresholded_graphs\\Training\\\\graph_threshold_0.7\n",
      "***************************************************\n",
      "D:\\images\\smwc images\\CN vs AD\\GM\\Thresholded_graphs\\Training\\\\graph_threshold_0.8\n",
      "***************************************************\n",
      "D:\\images\\smwc images\\CN vs AD\\GM\\Thresholded_graphs\\Training\\\\graph_threshold_0.9\n",
      "***************************************************\n"
     ]
    }
   ],
   "source": [
    "graph_path = 'D:\\\\images\\\\smwc images\\\\CN vs AD\\\\GM\\\\Thresholded_graphs\\\\'\n",
    "main_path = graph_path + 'Training\\\\'\n",
    "\n",
    "\n",
    "thres_folder = os.listdir(main_path)\n",
    "for thres in thres_folder:\n",
    "    gml_path = main_path + \"\\\\\" + thres\n",
    "    \n",
    "    gml_file_list = os.listdir(gml_path)\n",
    "    graph_list = []\n",
    "    for gml in gml_file_list:\n",
    "        path = gml_path+\"\\\\\"+gml\n",
    "        \n",
    "        G = nx.read_gml(path)\n",
    "        adj_mat = nx.to_numpy_array(G)\n",
    "        graph_list.append(adj_mat)\n",
    "        \n",
    "    sum_matrix = np.sum(graph_list,axis=0)\n",
    "    multiplex_G = nx.from_numpy_array(sum_matrix)\n",
    "    nx.write_gml(multiplex_G,gml_path+\"\\\\multiplex.gml\")\n",
    "    \n",
    "    print(gml_path)\n",
    "    print(\"***************************************************\")"
   ]
  },
  {
   "cell_type": "markdown",
   "metadata": {},
   "source": [
    "Testing"
   ]
  },
  {
   "cell_type": "code",
   "execution_count": 5,
   "metadata": {},
   "outputs": [
    {
     "name": "stdout",
     "output_type": "stream",
     "text": [
      "D:\\images\\smwc images\\CN vs AD\\GM\\Thresholded_graphs\\Testing\\\\graph_threshold_0.1\n",
      "***************************************************\n",
      "D:\\images\\smwc images\\CN vs AD\\GM\\Thresholded_graphs\\Testing\\\\graph_threshold_0.2\n",
      "***************************************************\n",
      "D:\\images\\smwc images\\CN vs AD\\GM\\Thresholded_graphs\\Testing\\\\graph_threshold_0.3\n",
      "***************************************************\n",
      "D:\\images\\smwc images\\CN vs AD\\GM\\Thresholded_graphs\\Testing\\\\graph_threshold_0.4\n",
      "***************************************************\n",
      "D:\\images\\smwc images\\CN vs AD\\GM\\Thresholded_graphs\\Testing\\\\graph_threshold_0.5\n",
      "***************************************************\n",
      "D:\\images\\smwc images\\CN vs AD\\GM\\Thresholded_graphs\\Testing\\\\graph_threshold_0.6\n",
      "***************************************************\n",
      "D:\\images\\smwc images\\CN vs AD\\GM\\Thresholded_graphs\\Testing\\\\graph_threshold_0.7\n",
      "***************************************************\n",
      "D:\\images\\smwc images\\CN vs AD\\GM\\Thresholded_graphs\\Testing\\\\graph_threshold_0.8\n",
      "***************************************************\n",
      "D:\\images\\smwc images\\CN vs AD\\GM\\Thresholded_graphs\\Testing\\\\graph_threshold_0.9\n",
      "***************************************************\n"
     ]
    }
   ],
   "source": [
    "graph_path = 'D:\\\\images\\\\smwc images\\\\CN vs AD\\\\GM\\\\Thresholded_graphs\\\\'\n",
    "main_path = graph_path + 'Testing\\\\'\n",
    "\n",
    "thres_folder = os.listdir(main_path)\n",
    "for thres in thres_folder:\n",
    "    gml_path = main_path + \"\\\\\" + thres\n",
    "    \n",
    "    gml_file_list = os.listdir(gml_path)\n",
    "    graph_list = []\n",
    "    for gml in gml_file_list:\n",
    "        path = gml_path+\"\\\\\"+gml\n",
    "        \n",
    "        G = nx.read_gml(path)\n",
    "        adj_mat = nx.to_numpy_array(G)\n",
    "        graph_list.append(adj_mat)\n",
    "        \n",
    "    sum_matrix = np.sum(graph_list,axis=0)\n",
    "    multiplex_G = nx.from_numpy_array(sum_matrix)\n",
    "    nx.write_gml(multiplex_G,gml_path+\"\\\\multiplex.gml\")\n",
    "    \n",
    "    print(gml_path)\n",
    "    print(\"***************************************************\")"
   ]
  },
  {
   "cell_type": "markdown",
   "metadata": {},
   "source": [
    "# CN vs MCI"
   ]
  },
  {
   "cell_type": "markdown",
   "metadata": {},
   "source": [
    "Training"
   ]
  },
  {
   "cell_type": "code",
   "execution_count": 6,
   "metadata": {},
   "outputs": [
    {
     "name": "stdout",
     "output_type": "stream",
     "text": [
      "D:\\images\\smwc images\\CN vs MCI\\GM\\Thresholded_graphs\\Training\\\\graph_threshold_0.1\n",
      "***************************************************\n",
      "D:\\images\\smwc images\\CN vs MCI\\GM\\Thresholded_graphs\\Training\\\\graph_threshold_0.2\n",
      "***************************************************\n",
      "D:\\images\\smwc images\\CN vs MCI\\GM\\Thresholded_graphs\\Training\\\\graph_threshold_0.3\n",
      "***************************************************\n",
      "D:\\images\\smwc images\\CN vs MCI\\GM\\Thresholded_graphs\\Training\\\\graph_threshold_0.4\n",
      "***************************************************\n",
      "D:\\images\\smwc images\\CN vs MCI\\GM\\Thresholded_graphs\\Training\\\\graph_threshold_0.5\n",
      "***************************************************\n",
      "D:\\images\\smwc images\\CN vs MCI\\GM\\Thresholded_graphs\\Training\\\\graph_threshold_0.6\n",
      "***************************************************\n",
      "D:\\images\\smwc images\\CN vs MCI\\GM\\Thresholded_graphs\\Training\\\\graph_threshold_0.7\n",
      "***************************************************\n",
      "D:\\images\\smwc images\\CN vs MCI\\GM\\Thresholded_graphs\\Training\\\\graph_threshold_0.8\n",
      "***************************************************\n",
      "D:\\images\\smwc images\\CN vs MCI\\GM\\Thresholded_graphs\\Training\\\\graph_threshold_0.9\n",
      "***************************************************\n"
     ]
    }
   ],
   "source": [
    "graph_path = 'D:\\\\images\\\\smwc images\\\\CN vs MCI\\\\GM\\\\Thresholded_graphs\\\\'\n",
    "main_path = graph_path + 'Training\\\\'\n",
    "\n",
    "thres_folder = os.listdir(main_path)\n",
    "for thres in thres_folder:\n",
    "    gml_path = main_path + \"\\\\\" + thres\n",
    "    \n",
    "    gml_file_list = os.listdir(gml_path)\n",
    "    graph_list = []\n",
    "    for gml in gml_file_list:\n",
    "        path = gml_path+\"\\\\\"+gml\n",
    "        \n",
    "        G = nx.read_gml(path)\n",
    "        adj_mat = nx.to_numpy_array(G)\n",
    "        graph_list.append(adj_mat)\n",
    "        \n",
    "    sum_matrix = np.sum(graph_list,axis=0)\n",
    "    multiplex_G = nx.from_numpy_array(sum_matrix)\n",
    "    nx.write_gml(multiplex_G,gml_path+\"\\\\multiplex.gml\")\n",
    "    \n",
    "    print(gml_path)\n",
    "    print(\"***************************************************\")"
   ]
  },
  {
   "cell_type": "markdown",
   "metadata": {},
   "source": [
    "Testing"
   ]
  },
  {
   "cell_type": "code",
   "execution_count": 7,
   "metadata": {},
   "outputs": [
    {
     "name": "stdout",
     "output_type": "stream",
     "text": [
      "D:\\images\\smwc images\\CN vs MCI\\GM\\Thresholded_graphs\\Testing\\\\graph_threshold_0.1\n",
      "***************************************************\n",
      "D:\\images\\smwc images\\CN vs MCI\\GM\\Thresholded_graphs\\Testing\\\\graph_threshold_0.2\n",
      "***************************************************\n",
      "D:\\images\\smwc images\\CN vs MCI\\GM\\Thresholded_graphs\\Testing\\\\graph_threshold_0.3\n",
      "***************************************************\n",
      "D:\\images\\smwc images\\CN vs MCI\\GM\\Thresholded_graphs\\Testing\\\\graph_threshold_0.4\n",
      "***************************************************\n",
      "D:\\images\\smwc images\\CN vs MCI\\GM\\Thresholded_graphs\\Testing\\\\graph_threshold_0.5\n",
      "***************************************************\n",
      "D:\\images\\smwc images\\CN vs MCI\\GM\\Thresholded_graphs\\Testing\\\\graph_threshold_0.6\n",
      "***************************************************\n",
      "D:\\images\\smwc images\\CN vs MCI\\GM\\Thresholded_graphs\\Testing\\\\graph_threshold_0.7\n",
      "***************************************************\n",
      "D:\\images\\smwc images\\CN vs MCI\\GM\\Thresholded_graphs\\Testing\\\\graph_threshold_0.8\n",
      "***************************************************\n",
      "D:\\images\\smwc images\\CN vs MCI\\GM\\Thresholded_graphs\\Testing\\\\graph_threshold_0.9\n",
      "***************************************************\n"
     ]
    }
   ],
   "source": [
    "graph_path = 'D:\\\\images\\\\smwc images\\\\CN vs MCI\\\\GM\\\\Thresholded_graphs\\\\'\n",
    "main_path = graph_path + 'Testing\\\\'\n",
    "\n",
    "thres_folder = os.listdir(main_path)\n",
    "for thres in thres_folder:\n",
    "    gml_path = main_path + \"\\\\\" + thres\n",
    "    \n",
    "    gml_file_list = os.listdir(gml_path)\n",
    "    graph_list = []\n",
    "    for gml in gml_file_list:\n",
    "        path = gml_path+\"\\\\\"+gml\n",
    "        \n",
    "        G = nx.read_gml(path)\n",
    "        adj_mat = nx.to_numpy_array(G)\n",
    "        graph_list.append(adj_mat)\n",
    "        \n",
    "    sum_matrix = np.sum(graph_list,axis=0)\n",
    "    multiplex_G = nx.from_numpy_array(sum_matrix)\n",
    "    nx.write_gml(multiplex_G,gml_path+\"\\\\multiplex.gml\")\n",
    "    \n",
    "    print(gml_path)\n",
    "    print(\"***************************************************\")"
   ]
  },
  {
   "cell_type": "markdown",
   "metadata": {},
   "source": [
    "# AD vs MCI"
   ]
  },
  {
   "cell_type": "markdown",
   "metadata": {},
   "source": [
    "Training"
   ]
  },
  {
   "cell_type": "code",
   "execution_count": 8,
   "metadata": {},
   "outputs": [
    {
     "name": "stdout",
     "output_type": "stream",
     "text": [
      "D:\\images\\smwc images\\AD vs MCI\\GM\\Thresholded_graphs\\Training\\\\graph_threshold_0.1\n",
      "***************************************************\n",
      "D:\\images\\smwc images\\AD vs MCI\\GM\\Thresholded_graphs\\Training\\\\graph_threshold_0.2\n",
      "***************************************************\n",
      "D:\\images\\smwc images\\AD vs MCI\\GM\\Thresholded_graphs\\Training\\\\graph_threshold_0.3\n",
      "***************************************************\n",
      "D:\\images\\smwc images\\AD vs MCI\\GM\\Thresholded_graphs\\Training\\\\graph_threshold_0.4\n",
      "***************************************************\n",
      "D:\\images\\smwc images\\AD vs MCI\\GM\\Thresholded_graphs\\Training\\\\graph_threshold_0.5\n",
      "***************************************************\n",
      "D:\\images\\smwc images\\AD vs MCI\\GM\\Thresholded_graphs\\Training\\\\graph_threshold_0.6\n",
      "***************************************************\n",
      "D:\\images\\smwc images\\AD vs MCI\\GM\\Thresholded_graphs\\Training\\\\graph_threshold_0.7\n",
      "***************************************************\n",
      "D:\\images\\smwc images\\AD vs MCI\\GM\\Thresholded_graphs\\Training\\\\graph_threshold_0.8\n",
      "***************************************************\n",
      "D:\\images\\smwc images\\AD vs MCI\\GM\\Thresholded_graphs\\Training\\\\graph_threshold_0.9\n",
      "***************************************************\n"
     ]
    }
   ],
   "source": [
    "graph_path = 'D:\\\\images\\\\smwc images\\\\AD vs MCI\\\\GM\\\\Thresholded_graphs\\\\'\n",
    "main_path = graph_path + 'Training\\\\'\n",
    "\n",
    "thres_folder = os.listdir(main_path)\n",
    "for thres in thres_folder:\n",
    "    gml_path = main_path + \"\\\\\" + thres\n",
    "    \n",
    "    gml_file_list = os.listdir(gml_path)\n",
    "    graph_list = []\n",
    "    for gml in gml_file_list:\n",
    "        path = gml_path+\"\\\\\"+gml\n",
    "        \n",
    "        G = nx.read_gml(path)\n",
    "        adj_mat = nx.to_numpy_array(G)\n",
    "        graph_list.append(adj_mat)\n",
    "        \n",
    "    sum_matrix = np.sum(graph_list,axis=0)\n",
    "    multiplex_G = nx.from_numpy_array(sum_matrix)\n",
    "    nx.write_gml(multiplex_G,gml_path+\"\\\\multiplex.gml\")\n",
    "    \n",
    "    print(gml_path)\n",
    "    print(\"***************************************************\")"
   ]
  },
  {
   "cell_type": "markdown",
   "metadata": {},
   "source": [
    "Testing"
   ]
  },
  {
   "cell_type": "code",
   "execution_count": 9,
   "metadata": {},
   "outputs": [
    {
     "name": "stdout",
     "output_type": "stream",
     "text": [
      "D:\\images\\smwc images\\AD vs MCI\\GM\\Thresholded_graphs\\Testing\\\\graph_threshold_0.1\n",
      "***************************************************\n",
      "D:\\images\\smwc images\\AD vs MCI\\GM\\Thresholded_graphs\\Testing\\\\graph_threshold_0.2\n",
      "***************************************************\n",
      "D:\\images\\smwc images\\AD vs MCI\\GM\\Thresholded_graphs\\Testing\\\\graph_threshold_0.3\n",
      "***************************************************\n",
      "D:\\images\\smwc images\\AD vs MCI\\GM\\Thresholded_graphs\\Testing\\\\graph_threshold_0.4\n",
      "***************************************************\n",
      "D:\\images\\smwc images\\AD vs MCI\\GM\\Thresholded_graphs\\Testing\\\\graph_threshold_0.5\n",
      "***************************************************\n",
      "D:\\images\\smwc images\\AD vs MCI\\GM\\Thresholded_graphs\\Testing\\\\graph_threshold_0.6\n",
      "***************************************************\n",
      "D:\\images\\smwc images\\AD vs MCI\\GM\\Thresholded_graphs\\Testing\\\\graph_threshold_0.7\n",
      "***************************************************\n",
      "D:\\images\\smwc images\\AD vs MCI\\GM\\Thresholded_graphs\\Testing\\\\graph_threshold_0.8\n",
      "***************************************************\n",
      "D:\\images\\smwc images\\AD vs MCI\\GM\\Thresholded_graphs\\Testing\\\\graph_threshold_0.9\n",
      "***************************************************\n"
     ]
    }
   ],
   "source": [
    "graph_path = 'D:\\\\images\\\\smwc images\\\\AD vs MCI\\\\GM\\\\Thresholded_graphs\\\\'\n",
    "main_path = graph_path + 'Testing\\\\'\n",
    "\n",
    "thres_folder = os.listdir(main_path)\n",
    "for thres in thres_folder:\n",
    "    gml_path = main_path + \"\\\\\" + thres\n",
    "    \n",
    "    gml_file_list = os.listdir(gml_path)\n",
    "    graph_list = []\n",
    "    for gml in gml_file_list:\n",
    "        path = gml_path+\"\\\\\"+gml\n",
    "        \n",
    "        G = nx.read_gml(path)\n",
    "        adj_mat = nx.to_numpy_array(G)\n",
    "        graph_list.append(adj_mat)\n",
    "        \n",
    "    sum_matrix = np.sum(graph_list,axis=0)\n",
    "    multiplex_G = nx.from_numpy_array(sum_matrix)\n",
    "    nx.write_gml(multiplex_G,gml_path+\"\\\\multiplex.gml\")\n",
    "    \n",
    "    print(gml_path)\n",
    "    print(\"***************************************************\")"
   ]
  },
  {
   "cell_type": "code",
   "execution_count": null,
   "metadata": {},
   "outputs": [],
   "source": []
  }
 ],
 "metadata": {
  "kernelspec": {
   "display_name": "Python 3",
   "language": "python",
   "name": "python3"
  },
  "language_info": {
   "codemirror_mode": {
    "name": "ipython",
    "version": 3
   },
   "file_extension": ".py",
   "mimetype": "text/x-python",
   "name": "python",
   "nbconvert_exporter": "python",
   "pygments_lexer": "ipython3",
   "version": "3.6.6"
  }
 },
 "nbformat": 4,
 "nbformat_minor": 2
}
