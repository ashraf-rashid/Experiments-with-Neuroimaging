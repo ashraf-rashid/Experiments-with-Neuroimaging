{
 "cells": [
  {
   "cell_type": "code",
   "execution_count": 1,
   "metadata": {},
   "outputs": [],
   "source": [
    "import nibabel as nib"
   ]
  },
  {
   "cell_type": "code",
   "execution_count": 2,
   "metadata": {},
   "outputs": [],
   "source": [
    "import numpy as np"
   ]
  },
  {
   "cell_type": "code",
   "execution_count": 3,
   "metadata": {},
   "outputs": [],
   "source": [
    "import networkx as nx"
   ]
  },
  {
   "cell_type": "code",
   "execution_count": 4,
   "metadata": {},
   "outputs": [],
   "source": [
    "import os"
   ]
  },
  {
   "cell_type": "code",
   "execution_count": 5,
   "metadata": {},
   "outputs": [],
   "source": [
    "import math"
   ]
  },
  {
   "cell_type": "code",
   "execution_count": 6,
   "metadata": {},
   "outputs": [],
   "source": [
    "import heapq"
   ]
  },
  {
   "cell_type": "code",
   "execution_count": 24,
   "metadata": {},
   "outputs": [],
   "source": [
    "import pandas as pd"
   ]
  },
  {
   "cell_type": "code",
   "execution_count": 7,
   "metadata": {},
   "outputs": [],
   "source": [
    "def get_strength(adjacency_matrix):\n",
    "    strength = np.sum(adjacency_matrix,axis = 1)\n",
    "    strength = strength[:,np.newaxis]\n",
    "   \n",
    "    return strength"
   ]
  },
  {
   "cell_type": "code",
   "execution_count": 9,
   "metadata": {},
   "outputs": [],
   "source": [
    "def get_inverse_participation_ratio(adjacency_matrix,strength):\n",
    "    ratio_matrix = np.divide(adjacency_matrix,strength,out = np.zeros_like(adjacency_matrix),where=strength != 0)\n",
    "    pow_matrix= np.power(ratio_matrix,2)\n",
    "    inverse_participation_ratio = np.sum(pow_matrix,axis = 1)\n",
    "    inverse_participation_ratio = inverse_participation_ratio[:,np.newaxis]\n",
    "    \n",
    "    return inverse_participation_ratio"
   ]
  },
  {
   "cell_type": "code",
   "execution_count": 10,
   "metadata": {},
   "outputs": [],
   "source": [
    "def get_graph_details(graph_degree_view):\n",
    "    deg_list = [val for (node,val) in graph_degree_view]\n",
    "    deg_array = np.array(deg_list)\n",
    "    \n",
    "    max_index = heapq.nlargest(1, range(len(deg_array)), key=deg_array.__getitem__)\n",
    "    dmax = deg_array[max_index[0]]\n",
    "    \n",
    "    min_index = heapq.nsmallest(1, range(len(deg_array)), key=deg_array.__getitem__)\n",
    "    dmin = deg_array[min_index[0]]\n",
    "    \n",
    "    count_degree_nodes = {}\n",
    "    for i in range(dmin,dmax+1):\n",
    "        deg_count = deg_list.count(i)\n",
    "    \n",
    "        if deg_count != 0:\n",
    "            count_degree_nodes[i] = deg_count\n",
    "            \n",
    "    return deg_list,deg_array,count_degree_nodes,dmax,dmin"
   ]
  },
  {
   "cell_type": "code",
   "execution_count": 54,
   "metadata": {},
   "outputs": [],
   "source": [
    "def get_strength_means(graph_degree_array,count_degree_nodes,degree_list,strength):\n",
    "    strength_means = {}\n",
    "    for key in count_degree_nodes.keys():\n",
    "        key_array = np.linspace(key,key,num = len(degree_list))\n",
    "    \n",
    "        #kronecked delta function\n",
    "        delta = np.equal(graph_degree_array,key_array)\n",
    "        delta = delta[:,np.newaxis]\n",
    "        \n",
    "        #calculate conditional means of strength\n",
    "        KD_result = np.multiply(strength,delta)\n",
    "        sum_result = np.sum(KD_result)\n",
    "        strength_means[key] = (1/count_degree_nodes[key]) * sum_result\n",
    "\n",
    "    return strength_means"
   ]
  },
  {
   "cell_type": "code",
   "execution_count": 55,
   "metadata": {},
   "outputs": [],
   "source": [
    "def get_inverse_participation_ratio_means(graph_degree_array,count_degree_nodes,\n",
    "                                          degree_list,inverse_participation_ratio):\n",
    "    \n",
    "    inv_participation_means = {}\n",
    "    for key in count_degree_nodes.keys():\n",
    "        key_array = np.linspace(key,key,num = len(degree_list))\n",
    "        \n",
    "        #kronecked delta function\n",
    "        delta = np.equal(graph_degree_array,key_array)\n",
    "        delta = delta[:,np.newaxis]\n",
    "        \n",
    "        #calculate conditional means of inverse participation ratio\n",
    "        INV_result = np.multiply(inverse_participation_ratio,delta)\n",
    "        sum_result = np.sum(INV_result)\n",
    "        inv_participation_means[key] = (1/count_degree_nodes[key]) * sum_result\n",
    "    \n",
    "    return inv_participation_means"
   ]
  },
  {
   "cell_type": "code",
   "execution_count": 87,
   "metadata": {},
   "outputs": [],
   "source": [
    "def get_graph_features(G):\n",
    "    adj_matrix = nx.to_numpy_array(G) \n",
    "    strength = get_strength(adj_matrix)\n",
    "    inv_participation_ratio = get_inverse_participation_ratio(adj_matrix,strength)\n",
    "    deg_list,deg_array,count_degree_nodes,dmax,dmin = get_graph_details(G.degree)\n",
    "    strength_means = get_strength_means(deg_array,count_degree_nodes,deg_list,strength)\n",
    "    inv_participation_means = get_inverse_participation_ratio_means(deg_array,count_degree_nodes,\n",
    "                                                                deg_list,inv_participation_ratio)\n",
    "    strength_df = pd.DataFrame(strength)\n",
    "    inv_part_ratio_df = pd.DataFrame(inv_participation_ratio)\n",
    "    node_df = pd.concat([strength_df,inv_part_ratio_df],axis=1)\n",
    "    node_df.columns = ['strength','inverse_participation_ratio']\n",
    "    \n",
    "    #get strength_means 1D array\n",
    "    str_means = np.zeros([840,1])   \n",
    "    for idx in range(0,840):\n",
    "        try:\n",
    "            str_means[idx] = strength_means[idx]\n",
    "        except:\n",
    "            continue\n",
    "            \n",
    "    #get inv participation means 1D array\n",
    "    inv_part_means = np.zeros([840,1])\n",
    "    for idx in range(0,840):\n",
    "        try:\n",
    "            inv_part_means[idx] = inv_participation_means[idx]\n",
    "        except:\n",
    "            continue\n",
    "    \n",
    "    strength_means_df = pd.DataFrame(str_means)       \n",
    "    inv_part_means_df = pd.DataFrame(inv_part_means)\n",
    "    degree_df = pd.concat([strength_means_df,inv_part_means_df],axis = 1)\n",
    "    degree_df.columns = ['strength_means','inverse_participation_ratio_means']\n",
    "    \n",
    "    return node_df,degree_df"
   ]
  },
  {
   "cell_type": "code",
   "execution_count": 13,
   "metadata": {},
   "outputs": [],
   "source": [
    "G = nx.read_gml(r'D:\\images\\smwc images\\CN vs AD\\GM\\Thresholded_graphs\\Training\\graph_threshold_0.3\\smwc11.gml')"
   ]
  },
  {
   "cell_type": "code",
   "execution_count": 14,
   "metadata": {},
   "outputs": [],
   "source": [
    "adj_matrix = nx.to_numpy_array(G)"
   ]
  },
  {
   "cell_type": "code",
   "execution_count": 15,
   "metadata": {},
   "outputs": [],
   "source": [
    "strength = get_strength(adj_matrix)"
   ]
  },
  {
   "cell_type": "code",
   "execution_count": 16,
   "metadata": {},
   "outputs": [],
   "source": [
    "inv_participation_ratio = get_inverse_participation_ratio(adj_matrix,strength)"
   ]
  },
  {
   "cell_type": "code",
   "execution_count": 17,
   "metadata": {},
   "outputs": [],
   "source": [
    "deg_list,deg_array,count_degree_nodes,dmax,dmin = get_graph_details(G.degree)"
   ]
  },
  {
   "cell_type": "code",
   "execution_count": 18,
   "metadata": {},
   "outputs": [],
   "source": [
    "strength_means = get_strength_means(deg_array,count_degree_nodes,deg_list,strength)"
   ]
  },
  {
   "cell_type": "code",
   "execution_count": 19,
   "metadata": {},
   "outputs": [],
   "source": [
    "inv_participation_means = get_inverse_participation_ratio_means(deg_array,count_degree_nodes,\n",
    "                                                                deg_list,inv_participation_ratio)"
   ]
  },
  {
   "cell_type": "code",
   "execution_count": 39,
   "metadata": {},
   "outputs": [],
   "source": [
    "strength_df = pd.DataFrame(strength)"
   ]
  },
  {
   "cell_type": "code",
   "execution_count": 40,
   "metadata": {},
   "outputs": [],
   "source": [
    "inv_part_ratio_df = pd.DataFrame(inv_participation_ratio)"
   ]
  },
  {
   "cell_type": "code",
   "execution_count": 41,
   "metadata": {},
   "outputs": [],
   "source": [
    "node_df = pd.concat([strength_df,inv_part_ratio_df],axis=1)"
   ]
  },
  {
   "cell_type": "code",
   "execution_count": 43,
   "metadata": {},
   "outputs": [],
   "source": [
    "node_df.columns = ['strength','inverse_participation_ratio']"
   ]
  },
  {
   "cell_type": "code",
   "execution_count": 51,
   "metadata": {},
   "outputs": [
    {
     "data": {
      "text/plain": [
       "172"
      ]
     },
     "execution_count": 51,
     "metadata": {},
     "output_type": "execute_result"
    }
   ],
   "source": [
    "len(strength_means)"
   ]
  },
  {
   "cell_type": "code",
   "execution_count": 76,
   "metadata": {},
   "outputs": [],
   "source": [
    "str_means = np.zeros([840,1])\n",
    "\n",
    "#get strength_means 1D array\n",
    "for idx in range(0,840):\n",
    "    try:\n",
    "        str_means[idx] = strength_means[idx]\n",
    "    except:\n",
    "        continue"
   ]
  },
  {
   "cell_type": "code",
   "execution_count": 77,
   "metadata": {},
   "outputs": [],
   "source": [
    "#get inv participation means 1D array\n",
    "inv_part_means = np.zeros([840,1])\n",
    "for idx in range(0,840):\n",
    "    try:\n",
    "        inv_part_means[idx] = inv_participation_means[idx]\n",
    "    except:\n",
    "        continue"
   ]
  },
  {
   "cell_type": "code",
   "execution_count": 78,
   "metadata": {},
   "outputs": [],
   "source": [
    "strength_means_df = pd.DataFrame(str_means)"
   ]
  },
  {
   "cell_type": "code",
   "execution_count": 79,
   "metadata": {},
   "outputs": [],
   "source": [
    "inv_part_means_df = pd.DataFrame(inv_part_means)"
   ]
  },
  {
   "cell_type": "code",
   "execution_count": 80,
   "metadata": {},
   "outputs": [],
   "source": [
    "degree_df = pd.concat([strength_means_df,inv_part_means_df],axis = 1)"
   ]
  },
  {
   "cell_type": "code",
   "execution_count": 83,
   "metadata": {},
   "outputs": [],
   "source": [
    "degree_df.columns = ['strength_means','inverse_participation_ratio_means']"
   ]
  },
  {
   "cell_type": "markdown",
   "metadata": {},
   "source": [
    "# CN vs AD"
   ]
  },
  {
   "cell_type": "markdown",
   "metadata": {},
   "source": [
    "Training"
   ]
  },
  {
   "cell_type": "code",
   "execution_count": 96,
   "metadata": {
    "scrolled": true
   },
   "outputs": [
    {
     "name": "stdout",
     "output_type": "stream",
     "text": [
      "smwc11\n",
      "**************************************************\n",
      "smwc110\n",
      "**************************************************\n",
      "smwc111\n",
      "**************************************************\n",
      "smwc112\n",
      "**************************************************\n",
      "smwc113\n",
      "**************************************************\n",
      "smwc114\n",
      "**************************************************\n",
      "smwc115\n",
      "**************************************************\n",
      "smwc116\n",
      "**************************************************\n",
      "smwc117\n",
      "**************************************************\n",
      "smwc118\n",
      "**************************************************\n",
      "smwc119\n",
      "**************************************************\n",
      "smwc12\n",
      "**************************************************\n",
      "smwc120\n",
      "**************************************************\n",
      "smwc121\n",
      "**************************************************\n",
      "smwc122\n",
      "**************************************************\n",
      "smwc123\n",
      "**************************************************\n",
      "smwc124\n",
      "**************************************************\n",
      "smwc125\n",
      "**************************************************\n",
      "smwc126\n",
      "**************************************************\n",
      "smwc127\n",
      "**************************************************\n",
      "smwc128\n",
      "**************************************************\n",
      "smwc129\n",
      "**************************************************\n",
      "smwc13\n",
      "**************************************************\n",
      "smwc130\n",
      "**************************************************\n",
      "smwc131\n",
      "**************************************************\n",
      "smwc132\n",
      "**************************************************\n",
      "smwc133\n",
      "**************************************************\n",
      "smwc134\n",
      "**************************************************\n",
      "smwc135\n",
      "**************************************************\n",
      "smwc136\n",
      "**************************************************\n",
      "smwc137\n",
      "**************************************************\n",
      "smwc138\n",
      "**************************************************\n",
      "smwc139\n",
      "**************************************************\n",
      "smwc14\n",
      "**************************************************\n",
      "smwc140\n",
      "**************************************************\n",
      "smwc15\n",
      "**************************************************\n",
      "smwc151\n",
      "**************************************************\n",
      "smwc152\n",
      "**************************************************\n",
      "smwc153\n",
      "**************************************************\n",
      "smwc154\n",
      "**************************************************\n",
      "smwc155\n",
      "**************************************************\n",
      "smwc156\n",
      "**************************************************\n",
      "smwc157\n",
      "**************************************************\n",
      "smwc158\n",
      "**************************************************\n",
      "smwc159\n",
      "**************************************************\n",
      "smwc16\n",
      "**************************************************\n",
      "smwc160\n",
      "**************************************************\n",
      "smwc161\n",
      "**************************************************\n",
      "smwc162\n",
      "**************************************************\n",
      "smwc163\n",
      "**************************************************\n",
      "smwc164\n",
      "**************************************************\n",
      "smwc165\n",
      "**************************************************\n",
      "smwc166\n",
      "**************************************************\n",
      "smwc167\n",
      "**************************************************\n",
      "smwc168\n",
      "**************************************************\n",
      "smwc169\n",
      "**************************************************\n",
      "smwc17\n",
      "**************************************************\n",
      "smwc170\n",
      "**************************************************\n",
      "smwc171\n",
      "**************************************************\n",
      "smwc172\n",
      "**************************************************\n",
      "smwc173\n",
      "**************************************************\n",
      "smwc174\n",
      "**************************************************\n",
      "smwc175\n",
      "**************************************************\n",
      "smwc176\n",
      "**************************************************\n",
      "smwc177\n",
      "**************************************************\n",
      "smwc178\n",
      "**************************************************\n",
      "smwc179\n",
      "**************************************************\n",
      "smwc18\n",
      "**************************************************\n",
      "smwc180\n",
      "**************************************************\n",
      "smwc181\n",
      "**************************************************\n",
      "smwc182\n",
      "**************************************************\n",
      "smwc183\n",
      "**************************************************\n",
      "smwc184\n",
      "**************************************************\n",
      "smwc185\n",
      "**************************************************\n",
      "smwc186\n",
      "**************************************************\n",
      "smwc187\n",
      "**************************************************\n",
      "smwc188\n",
      "**************************************************\n",
      "smwc189\n",
      "**************************************************\n",
      "smwc19\n",
      "**************************************************\n",
      "smwc190\n",
      "**************************************************\n"
     ]
    }
   ],
   "source": [
    "graph_path = 'D:\\\\images\\\\smwc images\\\\CN vs AD\\\\GM\\\\Thresholded_graphs\\\\Training\\\\graph_threshold_0.3\\\\'\n",
    "graph_list = os.listdir(graph_path)\n",
    "write_path = 'D:\\\\images\\\\smwc images\\\\CN vs AD\\\\GM\\\\Thresholded_graphs\\\\Features\\\\Training\\\\graph_threshold_0.3\\\\'\n",
    "\n",
    "for graph in graph_list:\n",
    "    if 'multiplex' not in graph:\n",
    "        G = nx.read_gml(graph_path+graph)\n",
    "        node_df,degree_df = get_graph_features(G)\n",
    "        file_name = graph[0:len(graph) - 4]\n",
    "        node_df.to_csv(write_path+file_name+\"_node.csv\",index=False)\n",
    "        degree_df.to_csv(write_path+file_name+\"_degree.csv\",index=False)\n",
    "        print(file_name)\n",
    "        print(\"**************************************************\")"
   ]
  },
  {
   "cell_type": "markdown",
   "metadata": {},
   "source": [
    "Testing"
   ]
  },
  {
   "cell_type": "code",
   "execution_count": 97,
   "metadata": {
    "scrolled": true
   },
   "outputs": [
    {
     "name": "stdout",
     "output_type": "stream",
     "text": [
      "smwc1100\n",
      "**************************************************\n",
      "smwc141\n",
      "**************************************************\n",
      "smwc142\n",
      "**************************************************\n",
      "smwc143\n",
      "**************************************************\n",
      "smwc144\n",
      "**************************************************\n",
      "smwc145\n",
      "**************************************************\n",
      "smwc146\n",
      "**************************************************\n",
      "smwc147\n",
      "**************************************************\n",
      "smwc148\n",
      "**************************************************\n",
      "smwc149\n",
      "**************************************************\n",
      "smwc150\n",
      "**************************************************\n",
      "smwc191\n",
      "**************************************************\n",
      "smwc192\n",
      "**************************************************\n",
      "smwc193\n",
      "**************************************************\n",
      "smwc194\n",
      "**************************************************\n",
      "smwc195\n",
      "**************************************************\n",
      "smwc196\n",
      "**************************************************\n",
      "smwc197\n",
      "**************************************************\n",
      "smwc198\n",
      "**************************************************\n",
      "smwc199\n",
      "**************************************************\n"
     ]
    }
   ],
   "source": [
    "graph_path = 'D:\\\\images\\\\smwc images\\\\CN vs AD\\\\GM\\\\Thresholded_graphs\\\\Testing\\\\graph_threshold_0.3\\\\'\n",
    "graph_list = os.listdir(graph_path)\n",
    "write_path = 'D:\\\\images\\\\smwc images\\\\CN vs AD\\\\GM\\\\Thresholded_graphs\\\\Features\\\\Testing\\\\graph_threshold_0.3\\\\'\n",
    "\n",
    "for graph in graph_list:\n",
    "    if 'multiplex' not in graph:\n",
    "        G = nx.read_gml(graph_path+graph)\n",
    "        node_df,degree_df = get_graph_features(G)\n",
    "        file_name = graph[0:len(graph) - 4]\n",
    "        node_df.to_csv(write_path+file_name+\"_node.csv\",index=False)\n",
    "        degree_df.to_csv(write_path+file_name+\"_degree.csv\",index=False)\n",
    "        print(file_name)\n",
    "        print(\"**************************************************\")"
   ]
  },
  {
   "cell_type": "code",
   "execution_count": null,
   "metadata": {},
   "outputs": [],
   "source": []
  }
 ],
 "metadata": {
  "kernelspec": {
   "display_name": "Python 3",
   "language": "python",
   "name": "python3"
  },
  "language_info": {
   "codemirror_mode": {
    "name": "ipython",
    "version": 3
   },
   "file_extension": ".py",
   "mimetype": "text/x-python",
   "name": "python",
   "nbconvert_exporter": "python",
   "pygments_lexer": "ipython3",
   "version": "3.6.6"
  }
 },
 "nbformat": 4,
 "nbformat_minor": 2
}
