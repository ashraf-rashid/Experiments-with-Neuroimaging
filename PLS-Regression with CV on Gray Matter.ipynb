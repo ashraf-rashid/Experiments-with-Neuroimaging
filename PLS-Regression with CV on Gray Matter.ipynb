{
 "cells": [
  {
   "cell_type": "code",
   "execution_count": 1,
   "metadata": {},
   "outputs": [],
   "source": [
    "import pandas as pd"
   ]
  },
  {
   "cell_type": "code",
   "execution_count": 3,
   "metadata": {},
   "outputs": [],
   "source": [
    "from sklearn.model_selection import GridSearchCV"
   ]
  },
  {
   "cell_type": "code",
   "execution_count": 4,
   "metadata": {},
   "outputs": [],
   "source": [
    "from sklearn.metrics import mean_squared_error"
   ]
  },
  {
   "cell_type": "code",
   "execution_count": 5,
   "metadata": {},
   "outputs": [],
   "source": [
    "from sklearn.cross_decomposition import PLSRegression"
   ]
  },
  {
   "cell_type": "code",
   "execution_count": 21,
   "metadata": {},
   "outputs": [],
   "source": [
    "from sklearn.model_selection import StratifiedKFold"
   ]
  },
  {
   "cell_type": "code",
   "execution_count": 30,
   "metadata": {},
   "outputs": [],
   "source": [
    "from sklearn.model_selection import GroupKFold"
   ]
  },
  {
   "cell_type": "code",
   "execution_count": 6,
   "metadata": {},
   "outputs": [],
   "source": [
    "tuned_parameters = [{'n_components':[2,3,4,5,6,7,8,9,10],'scale':[True,False]}]"
   ]
  },
  {
   "cell_type": "code",
   "execution_count": 7,
   "metadata": {},
   "outputs": [],
   "source": [
    "df = pd.read_csv(\"D:\\\\Fresh Alzheimers Work\\\\Dataset\\\\CN vs AD\\\\GM\\\\train_data_set_GM_CN_vs_AD.csv\")"
   ]
  },
  {
   "cell_type": "code",
   "execution_count": 8,
   "metadata": {},
   "outputs": [],
   "source": [
    "trainData = df.drop(columns = 'subject_Id')"
   ]
  },
  {
   "cell_type": "code",
   "execution_count": 9,
   "metadata": {},
   "outputs": [],
   "source": [
    "x_train = trainData.drop(columns = 'Group')"
   ]
  },
  {
   "cell_type": "code",
   "execution_count": 10,
   "metadata": {},
   "outputs": [],
   "source": [
    "y_train = trainData['Group']"
   ]
  },
  {
   "cell_type": "code",
   "execution_count": 12,
   "metadata": {},
   "outputs": [],
   "source": [
    "df = pd.read_csv(\"D:\\\\Fresh Alzheimers Work\\\\Dataset\\\\CN vs AD\\\\GM\\\\test_data_set_GM_CN_vs_AD.csv\") "
   ]
  },
  {
   "cell_type": "code",
   "execution_count": 13,
   "metadata": {},
   "outputs": [],
   "source": [
    "testData = df.drop(columns = 'subject_Id')"
   ]
  },
  {
   "cell_type": "code",
   "execution_count": 14,
   "metadata": {},
   "outputs": [],
   "source": [
    "x_test = testData.drop(columns = 'Group')"
   ]
  },
  {
   "cell_type": "code",
   "execution_count": 15,
   "metadata": {},
   "outputs": [],
   "source": [
    "y_test = testData['Group']"
   ]
  },
  {
   "cell_type": "code",
   "execution_count": 16,
   "metadata": {},
   "outputs": [],
   "source": [
    "regressor = GridSearchCV(PLSRegression(),tuned_parameters,cv=5,n_jobs = 5,refit = True,scoring='neg_mean_squared_error')"
   ]
  },
  {
   "cell_type": "code",
   "execution_count": 17,
   "metadata": {},
   "outputs": [
    {
     "data": {
      "text/plain": [
       "GridSearchCV(cv=5, error_score='raise',\n",
       "       estimator=PLSRegression(copy=True, max_iter=500, n_components=2, scale=True, tol=1e-06),\n",
       "       fit_params=None, iid=True, n_jobs=5,\n",
       "       param_grid=[{'n_components': [2, 3, 4, 5, 6, 7, 8, 9, 10], 'scale': [True, False]}],\n",
       "       pre_dispatch='2*n_jobs', refit=True, return_train_score='warn',\n",
       "       scoring='neg_mean_squared_error', verbose=0)"
      ]
     },
     "execution_count": 17,
     "metadata": {},
     "output_type": "execute_result"
    }
   ],
   "source": [
    "regressor.fit(x_train,y_train)"
   ]
  },
  {
   "cell_type": "code",
   "execution_count": 18,
   "metadata": {},
   "outputs": [
    {
     "data": {
      "text/plain": [
       "{'n_components': 3, 'scale': False}"
      ]
     },
     "execution_count": 18,
     "metadata": {},
     "output_type": "execute_result"
    }
   ],
   "source": [
    "regressor.best_params_"
   ]
  },
  {
   "cell_type": "code",
   "execution_count": 19,
   "metadata": {},
   "outputs": [
    {
     "name": "stdout",
     "output_type": "stream",
     "text": [
      "-0.711 (+/-0.281) for {'n_components': 2, 'scale': True}\n",
      "-0.681 (+/-0.201) for {'n_components': 2, 'scale': False}\n",
      "-0.685 (+/-0.228) for {'n_components': 3, 'scale': True}\n",
      "-0.664 (+/-0.223) for {'n_components': 3, 'scale': False}\n",
      "-0.673 (+/-0.342) for {'n_components': 4, 'scale': True}\n",
      "-0.688 (+/-0.372) for {'n_components': 4, 'scale': False}\n",
      "-0.723 (+/-0.354) for {'n_components': 5, 'scale': True}\n",
      "-0.737 (+/-0.374) for {'n_components': 5, 'scale': False}\n",
      "-0.797 (+/-0.303) for {'n_components': 6, 'scale': True}\n",
      "-0.814 (+/-0.391) for {'n_components': 6, 'scale': False}\n",
      "-0.850 (+/-0.257) for {'n_components': 7, 'scale': True}\n",
      "-0.852 (+/-0.316) for {'n_components': 7, 'scale': False}\n",
      "-0.838 (+/-0.244) for {'n_components': 8, 'scale': True}\n",
      "-0.879 (+/-0.376) for {'n_components': 8, 'scale': False}\n",
      "-0.858 (+/-0.186) for {'n_components': 9, 'scale': True}\n",
      "-0.898 (+/-0.340) for {'n_components': 9, 'scale': False}\n",
      "-0.852 (+/-0.216) for {'n_components': 10, 'scale': True}\n",
      "-0.923 (+/-0.345) for {'n_components': 10, 'scale': False}\n"
     ]
    }
   ],
   "source": [
    "means = regressor.cv_results_['mean_test_score']\n",
    "stds = regressor.cv_results_['std_test_score']\n",
    "for mean, std, params in zip(means, stds, regressor.cv_results_['params']):\n",
    "        print(\"%0.3f (+/-%0.03f) for %r\"\n",
    "              % (mean, std * 2, params))"
   ]
  },
  {
   "cell_type": "code",
   "execution_count": 20,
   "metadata": {},
   "outputs": [
    {
     "name": "stdout",
     "output_type": "stream",
     "text": [
      "Detailed classification report:\n",
      "\n",
      "The model is trained on the full development set.\n",
      "The scores are computed on the full evaluation set.\n",
      "\n",
      "0.35804701289140933\n",
      "\n"
     ]
    }
   ],
   "source": [
    "print(\"Detailed classification report:\")\n",
    "print()\n",
    "print(\"The model is trained on the full development set.\")\n",
    "print(\"The scores are computed on the full evaluation set.\")\n",
    "print()\n",
    "y_true, y_pred = y_test, regressor.predict(x_test)\n",
    "print(mean_squared_error(y_true, y_pred))\n",
    "print()\n"
   ]
  },
  {
   "cell_type": "code",
   "execution_count": 22,
   "metadata": {},
   "outputs": [],
   "source": [
    "#Grid search with stratified KFold"
   ]
  },
  {
   "cell_type": "code",
   "execution_count": 25,
   "metadata": {},
   "outputs": [],
   "source": [
    "regressor = GridSearchCV(PLSRegression(),tuned_parameters,n_jobs = 5,refit = True,scoring='neg_mean_squared_error',cv = StratifiedKFold(n_splits = 10),verbose = 10)"
   ]
  },
  {
   "cell_type": "code",
   "execution_count": 26,
   "metadata": {},
   "outputs": [
    {
     "name": "stdout",
     "output_type": "stream",
     "text": [
      "Fitting 10 folds for each of 18 candidates, totalling 180 fits\n"
     ]
    },
    {
     "name": "stderr",
     "output_type": "stream",
     "text": [
      "[Parallel(n_jobs=5)]: Done   3 tasks      | elapsed:   14.5s\n",
      "[Parallel(n_jobs=5)]: Done   8 tasks      | elapsed:   22.6s\n",
      "[Parallel(n_jobs=5)]: Done  15 tasks      | elapsed:   28.9s\n",
      "[Parallel(n_jobs=5)]: Done  22 tasks      | elapsed:   38.1s\n",
      "[Parallel(n_jobs=5)]: Done  31 tasks      | elapsed:   45.7s\n",
      "[Parallel(n_jobs=5)]: Done  40 tasks      | elapsed:   53.5s\n",
      "[Parallel(n_jobs=5)]: Done  51 tasks      | elapsed:  1.1min\n",
      "[Parallel(n_jobs=5)]: Done  62 tasks      | elapsed:  1.3min\n",
      "[Parallel(n_jobs=5)]: Done  75 tasks      | elapsed:  1.7min\n",
      "[Parallel(n_jobs=5)]: Done  88 tasks      | elapsed:  2.0min\n",
      "[Parallel(n_jobs=5)]: Done 103 tasks      | elapsed:  2.5min\n",
      "[Parallel(n_jobs=5)]: Done 118 tasks      | elapsed:  2.9min\n",
      "[Parallel(n_jobs=5)]: Done 135 tasks      | elapsed:  3.4min\n",
      "[Parallel(n_jobs=5)]: Done 152 tasks      | elapsed:  4.1min\n",
      "[Parallel(n_jobs=5)]: Done 171 tasks      | elapsed:  4.7min\n",
      "[Parallel(n_jobs=5)]: Done 180 out of 180 | elapsed:  5.0min finished\n"
     ]
    },
    {
     "data": {
      "text/plain": [
       "GridSearchCV(cv=StratifiedKFold(n_splits=10, random_state=None, shuffle=False),\n",
       "       error_score='raise',\n",
       "       estimator=PLSRegression(copy=True, max_iter=500, n_components=2, scale=True, tol=1e-06),\n",
       "       fit_params=None, iid=True, n_jobs=5,\n",
       "       param_grid=[{'n_components': [2, 3, 4, 5, 6, 7, 8, 9, 10], 'scale': [True, False]}],\n",
       "       pre_dispatch='2*n_jobs', refit=True, return_train_score='warn',\n",
       "       scoring='neg_mean_squared_error', verbose=10)"
      ]
     },
     "execution_count": 26,
     "metadata": {},
     "output_type": "execute_result"
    }
   ],
   "source": [
    "regressor.fit(x_train,y_train)"
   ]
  },
  {
   "cell_type": "code",
   "execution_count": 27,
   "metadata": {},
   "outputs": [
    {
     "data": {
      "text/plain": [
       "{'n_components': 2, 'scale': False}"
      ]
     },
     "execution_count": 27,
     "metadata": {},
     "output_type": "execute_result"
    }
   ],
   "source": [
    "regressor.best_params_"
   ]
  },
  {
   "cell_type": "code",
   "execution_count": 28,
   "metadata": {},
   "outputs": [
    {
     "name": "stdout",
     "output_type": "stream",
     "text": [
      "-0.654 (+/-0.573) for {'n_components': 2, 'scale': True}\n",
      "-0.629 (+/-0.506) for {'n_components': 2, 'scale': False}\n",
      "-0.681 (+/-0.521) for {'n_components': 3, 'scale': True}\n",
      "-0.667 (+/-0.483) for {'n_components': 3, 'scale': False}\n",
      "-0.684 (+/-0.554) for {'n_components': 4, 'scale': True}\n",
      "-0.698 (+/-0.539) for {'n_components': 4, 'scale': False}\n",
      "-0.722 (+/-0.548) for {'n_components': 5, 'scale': True}\n",
      "-0.756 (+/-0.537) for {'n_components': 5, 'scale': False}\n",
      "-0.762 (+/-0.568) for {'n_components': 6, 'scale': True}\n",
      "-0.832 (+/-0.590) for {'n_components': 6, 'scale': False}\n",
      "-0.792 (+/-0.551) for {'n_components': 7, 'scale': True}\n",
      "-0.861 (+/-0.564) for {'n_components': 7, 'scale': False}\n",
      "-0.801 (+/-0.499) for {'n_components': 8, 'scale': True}\n",
      "-0.881 (+/-0.574) for {'n_components': 8, 'scale': False}\n",
      "-0.816 (+/-0.541) for {'n_components': 9, 'scale': True}\n",
      "-0.886 (+/-0.634) for {'n_components': 9, 'scale': False}\n",
      "-0.804 (+/-0.564) for {'n_components': 10, 'scale': True}\n",
      "-0.893 (+/-0.655) for {'n_components': 10, 'scale': False}\n"
     ]
    }
   ],
   "source": [
    "means = regressor.cv_results_['mean_test_score']\n",
    "stds = regressor.cv_results_['std_test_score']\n",
    "for mean, std, params in zip(means, stds, regressor.cv_results_['params']):\n",
    "        print(\"%0.3f (+/-%0.03f) for %r\"\n",
    "              % (mean, std * 2, params))"
   ]
  },
  {
   "cell_type": "code",
   "execution_count": 29,
   "metadata": {},
   "outputs": [
    {
     "name": "stdout",
     "output_type": "stream",
     "text": [
      "Detailed classification report:\n",
      "\n",
      "The model is trained on the full development set.\n",
      "The scores are computed on the full evaluation set.\n",
      "\n",
      "0.46885785853592477\n",
      "\n"
     ]
    }
   ],
   "source": [
    "print(\"Detailed classification report:\")\n",
    "print()\n",
    "print(\"The model is trained on the full development set.\")\n",
    "print(\"The scores are computed on the full evaluation set.\")\n",
    "print()\n",
    "y_true, y_pred = y_test, regressor.predict(x_test)\n",
    "print(mean_squared_error(y_true, y_pred))\n",
    "print()\n"
   ]
  },
  {
   "cell_type": "code",
   "execution_count": 31,
   "metadata": {},
   "outputs": [],
   "source": [
    "#Grid search with GroupKFold"
   ]
  },
  {
   "cell_type": "code",
   "execution_count": 37,
   "metadata": {},
   "outputs": [],
   "source": [
    "regressor = GridSearchCV(PLSRegression(),tuned_parameters,n_jobs = 5,refit = True,scoring='neg_mean_squared_error',cv = GroupKFold(n_splits = 2),verbose = 10)"
   ]
  },
  {
   "cell_type": "code",
   "execution_count": 38,
   "metadata": {},
   "outputs": [
    {
     "name": "stdout",
     "output_type": "stream",
     "text": [
      "Fitting 2 folds for each of 18 candidates, totalling 36 fits\n"
     ]
    },
    {
     "name": "stderr",
     "output_type": "stream",
     "text": [
      "[Parallel(n_jobs=5)]: Done   3 tasks      | elapsed:   19.2s\n",
      "[Parallel(n_jobs=5)]: Done   8 tasks      | elapsed:   31.0s\n",
      "[Parallel(n_jobs=5)]: Done  15 tasks      | elapsed:   48.1s\n",
      "[Parallel(n_jobs=5)]: Done  22 tasks      | elapsed:  1.1min\n",
      "[Parallel(n_jobs=5)]: Done  31 out of  36 | elapsed:  1.3min remaining:   12.5s\n",
      "[Parallel(n_jobs=5)]: Done  36 out of  36 | elapsed:  1.4min finished\n"
     ]
    },
    {
     "data": {
      "text/plain": [
       "GridSearchCV(cv=GroupKFold(n_splits=2), error_score='raise',\n",
       "       estimator=PLSRegression(copy=True, max_iter=500, n_components=2, scale=True, tol=1e-06),\n",
       "       fit_params=None, iid=True, n_jobs=5,\n",
       "       param_grid=[{'n_components': [2, 3, 4, 5, 6, 7, 8, 9, 10], 'scale': [True, False]}],\n",
       "       pre_dispatch='2*n_jobs', refit=True, return_train_score='warn',\n",
       "       scoring='neg_mean_squared_error', verbose=10)"
      ]
     },
     "execution_count": 38,
     "metadata": {},
     "output_type": "execute_result"
    }
   ],
   "source": [
    "regressor.fit(x_train,y_train,y_train)"
   ]
  },
  {
   "cell_type": "code",
   "execution_count": 39,
   "metadata": {},
   "outputs": [
    {
     "data": {
      "text/plain": [
       "{'n_components': 2, 'scale': True}"
      ]
     },
     "execution_count": 39,
     "metadata": {},
     "output_type": "execute_result"
    }
   ],
   "source": [
    "regressor.best_params_"
   ]
  },
  {
   "cell_type": "code",
   "execution_count": 40,
   "metadata": {},
   "outputs": [
    {
     "name": "stdout",
     "output_type": "stream",
     "text": [
      "-4.000 (+/-0.000) for {'n_components': 2, 'scale': True}\n",
      "-4.000 (+/-0.000) for {'n_components': 2, 'scale': False}\n",
      "-4.000 (+/-0.000) for {'n_components': 3, 'scale': True}\n",
      "-4.000 (+/-0.000) for {'n_components': 3, 'scale': False}\n",
      "-4.000 (+/-0.000) for {'n_components': 4, 'scale': True}\n",
      "-4.000 (+/-0.000) for {'n_components': 4, 'scale': False}\n",
      "-4.000 (+/-0.000) for {'n_components': 5, 'scale': True}\n",
      "-4.000 (+/-0.000) for {'n_components': 5, 'scale': False}\n",
      "-4.000 (+/-0.000) for {'n_components': 6, 'scale': True}\n",
      "-4.000 (+/-0.000) for {'n_components': 6, 'scale': False}\n",
      "-4.000 (+/-0.000) for {'n_components': 7, 'scale': True}\n",
      "-4.000 (+/-0.000) for {'n_components': 7, 'scale': False}\n",
      "-4.000 (+/-0.000) for {'n_components': 8, 'scale': True}\n",
      "-4.000 (+/-0.000) for {'n_components': 8, 'scale': False}\n",
      "-4.000 (+/-0.000) for {'n_components': 9, 'scale': True}\n",
      "-4.000 (+/-0.000) for {'n_components': 9, 'scale': False}\n",
      "-4.000 (+/-0.000) for {'n_components': 10, 'scale': True}\n",
      "-4.000 (+/-0.000) for {'n_components': 10, 'scale': False}\n"
     ]
    }
   ],
   "source": [
    "means = regressor.cv_results_['mean_test_score']\n",
    "stds = regressor.cv_results_['std_test_score']\n",
    "for mean, std, params in zip(means, stds, regressor.cv_results_['params']):\n",
    "        print(\"%0.3f (+/-%0.03f) for %r\"\n",
    "              % (mean, std * 2, params))"
   ]
  },
  {
   "cell_type": "code",
   "execution_count": 41,
   "metadata": {},
   "outputs": [
    {
     "name": "stdout",
     "output_type": "stream",
     "text": [
      "Detailed classification report:\n",
      "\n",
      "The model is trained on the full development set.\n",
      "The scores are computed on the full evaluation set.\n",
      "\n",
      "0.504231350930637\n",
      "\n"
     ]
    }
   ],
   "source": [
    "print(\"Detailed classification report:\")\n",
    "print()\n",
    "print(\"The model is trained on the full development set.\")\n",
    "print(\"The scores are computed on the full evaluation set.\")\n",
    "print()\n",
    "y_true, y_pred = y_test, regressor.predict(x_test)\n",
    "print(mean_squared_error(y_true, y_pred))\n",
    "print()\n"
   ]
  },
  {
   "cell_type": "code",
   "execution_count": null,
   "metadata": {},
   "outputs": [],
   "source": []
  }
 ],
 "metadata": {
  "kernelspec": {
   "display_name": "Python 3",
   "language": "python",
   "name": "python3"
  },
  "language_info": {
   "codemirror_mode": {
    "name": "ipython",
    "version": 3
   },
   "file_extension": ".py",
   "mimetype": "text/x-python",
   "name": "python",
   "nbconvert_exporter": "python",
   "pygments_lexer": "ipython3",
   "version": "3.6.6"
  }
 },
 "nbformat": 4,
 "nbformat_minor": 2
}
