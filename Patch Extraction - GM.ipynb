{
 "cells": [
  {
   "cell_type": "code",
   "execution_count": 1,
   "metadata": {},
   "outputs": [],
   "source": [
    "import nibabel as nib"
   ]
  },
  {
   "cell_type": "code",
   "execution_count": 2,
   "metadata": {},
   "outputs": [],
   "source": [
    "import numpy as np"
   ]
  },
  {
   "cell_type": "code",
   "execution_count": 3,
   "metadata": {},
   "outputs": [],
   "source": [
    "import pandas as pd"
   ]
  },
  {
   "cell_type": "code",
   "execution_count": 4,
   "metadata": {},
   "outputs": [],
   "source": [
    "import math"
   ]
  },
  {
   "cell_type": "code",
   "execution_count": 5,
   "metadata": {},
   "outputs": [],
   "source": [
    "import os"
   ]
  },
  {
   "cell_type": "code",
   "execution_count": 6,
   "metadata": {},
   "outputs": [],
   "source": [
    "import networkx as nx"
   ]
  },
  {
   "cell_type": "code",
   "execution_count": 7,
   "metadata": {},
   "outputs": [],
   "source": [
    "#With number of boxes - under construction\n",
    "#without number of boxes\n",
    "\n",
    "def create_LH_patches(image,image_size,patch_size,patch_list):\n",
    "    patch_length = patch_size[0]\n",
    "    patch_height = patch_size[1]\n",
    "    patch_depth = patch_size[2]\n",
    "    \n",
    "    xaxis_lower_limit = 0\n",
    "    xaxis_higher_limit = image_size[0] - 1\n",
    "    \n",
    "    yaxis_lower_limit = 0\n",
    "    yaxis_higher_limit = image_size[1] - 1\n",
    "    \n",
    "    zaxis_lower_limit = 0\n",
    "    zaxis_higher_limit = image_size[2] - 1\n",
    "    \n",
    "    xaxis_mid = math.floor(image_size[0]/2)\n",
    "    \n",
    "    num_boxes = 0\n",
    "    box_xhigh = 0\n",
    "    box_xlow = 0\n",
    "    box_ylow = 0\n",
    "    box_yhigh = 0\n",
    "    box_zlow = 0\n",
    "    box_zhigh = 0\n",
    "        \n",
    "    num_xhops = math.ceil(xaxis_mid/patch_length)\n",
    "    num_yhops = math.ceil(image_size[1]/patch_height)\n",
    "    num_zhops = math.ceil(image_size[2]/patch_depth)\n",
    "    \n",
    "#     print(\"xaxis_mid\",xaxis_mid)\n",
    "#     print(\"--------------------------------\")\n",
    "    \n",
    "    box_zlow = 0\n",
    "    box_zhigh = box_zlow + (patch_depth - 1)\n",
    "    for zhops in range(0,num_zhops):\n",
    "                \n",
    "        box_ylow = 0\n",
    "        box_yhigh = box_ylow + (patch_height - 1)\n",
    "        for yhops in range(0,num_yhops):\n",
    "           \n",
    "            box_xhigh = xaxis_mid - 1\n",
    "            box_xlow = box_xhigh - (patch_length - 1)\n",
    "            for xhops in range(0,num_xhops):            \n",
    "                num_boxes = num_boxes + 1\n",
    "                \n",
    "                voxel_dict = get_voxel_values(image,(box_xlow,box_xhigh,box_ylow,box_yhigh,box_zlow,box_zhigh)\n",
    "                                             ,(xaxis_lower_limit,xaxis_higher_limit,yaxis_lower_limit,yaxis_higher_limit\n",
    "                                               ,zaxis_lower_limit,zaxis_higher_limit))\n",
    "                patch_list.append(voxel_dict)                \n",
    "                \n",
    "#                 print(\"Xlow\",box_xlow)\n",
    "#                 print(\"Xhigh\",box_xhigh)\n",
    "#                 print(\"Ylow:\",box_ylow)\n",
    "#                 print(\"Yhigh:\",box_yhigh)\n",
    "#                 print(\"Zlow:\",box_zlow)\n",
    "#                 print(\"Zhigh:\",box_zhigh)\n",
    "#                 print(\"*****************\")  \n",
    "                \n",
    "                box_xhigh = box_xlow - 1\n",
    "                box_xlow = box_xhigh - (patch_length - 1)\n",
    "            \n",
    "            box_ylow = box_yhigh + 1\n",
    "            box_yhigh = box_ylow + (patch_height - 1)\n",
    "                        \n",
    "        box_zlow =  box_zhigh + 1\n",
    "        box_zhigh = box_zlow + (patch_depth - 1)\n",
    "#     print(\"Zhops\",num_zhops) \n",
    "#     print(\"Yhops\",num_yhops)\n",
    "#     print(\"Xhops\",num_xhops)\n",
    "#     print(\"Total Number of boxes\",num_boxes)"
   ]
  },
  {
   "cell_type": "code",
   "execution_count": 8,
   "metadata": {},
   "outputs": [],
   "source": [
    "#With number of boxes - under construction\n",
    "#without number of boxes\n",
    "\n",
    "def create_RH_patches(image,image_size,patch_size,patch_list):\n",
    "    patch_length = patch_size[0]\n",
    "    patch_height = patch_size[1]\n",
    "    patch_depth = patch_size[2]\n",
    "    \n",
    "    xaxis_lower_limit = 0\n",
    "    xaxis_higher_limit = image_size[0] - 1\n",
    "    \n",
    "    yaxis_lower_limit = 0\n",
    "    yaxis_higher_limit = image_size[1] - 1\n",
    "    \n",
    "    zaxis_lower_limit = 0\n",
    "    zaxis_higher_limit = image_size[2] - 1\n",
    "    \n",
    "    xaxis_mid = math.floor(image_size[0]/2)\n",
    "       \n",
    "    num_boxes = 0\n",
    "    box_xhigh = 0\n",
    "    box_xlow = 0\n",
    "    box_ylow = 0\n",
    "    box_yhigh = 0\n",
    "    box_zlow = 0\n",
    "    box_zhigh = 0\n",
    "    \n",
    "    num_xhops = math.ceil(xaxis_mid/patch_length)\n",
    "    num_yhops = math.ceil(image_size[1]/patch_height)\n",
    "    num_zhops = math.ceil(image_size[2]/patch_depth)\n",
    "    \n",
    "#     print(\"xaxis_mid\",xaxis_mid)\n",
    "#     print(\"--------------------------------\")\n",
    "    \n",
    "    box_zlow = 0\n",
    "    box_zhigh = box_zlow + (patch_depth - 1)\n",
    "    for zhops in range(0,num_zhops):\n",
    "                \n",
    "        box_ylow = 0\n",
    "        box_yhigh = box_ylow + (patch_height - 1)\n",
    "        for yhops in range(0,num_yhops):\n",
    "           \n",
    "            box_xlow = xaxis_mid + 1\n",
    "            box_xhigh = box_xlow + (patch_length - 1)\n",
    "            for xhops in range(0,num_xhops):            \n",
    "                num_boxes = num_boxes + 1\n",
    "                                \n",
    "                voxel_dict = get_voxel_values(image,(box_xlow,box_xhigh,box_ylow,box_yhigh,box_zlow,box_zhigh)\n",
    "                                             ,(xaxis_lower_limit,xaxis_higher_limit,yaxis_lower_limit,yaxis_higher_limit\n",
    "                                               ,zaxis_lower_limit,zaxis_higher_limit))\n",
    "                patch_list.append(voxel_dict)                \n",
    "                \n",
    "#                 print(\"Xlow\",box_xlow)\n",
    "#                 print(\"Xhigh\",box_xhigh)\n",
    "#                 print(\"Ylow:\",box_ylow)\n",
    "#                 print(\"Yhigh:\",box_yhigh)\n",
    "#                 print(\"Zlow:\",box_zlow)\n",
    "#                 print(\"Zhigh:\",box_zhigh)\n",
    "#                 print(\"*****************\")  \n",
    "                \n",
    "                box_xlow = box_xhigh + 1\n",
    "                box_xhigh = box_xlow + (patch_length - 1)\n",
    "            \n",
    "            box_ylow = box_yhigh + 1\n",
    "            box_yhigh = box_ylow + (patch_height - 1)\n",
    "                        \n",
    "        box_zlow =  box_zhigh + 1\n",
    "        box_zhigh = box_zlow + (patch_depth - 1)\n",
    "#     print(\"Zhops\",num_zhops) \n",
    "#     print(\"Yhops\",num_yhops)\n",
    "#     print(\"Xhops\",num_xhops)\n",
    "#     print(\"Total Number of boxes\",num_boxes)"
   ]
  },
  {
   "cell_type": "code",
   "execution_count": 9,
   "metadata": {},
   "outputs": [],
   "source": [
    "def get_voxel_values(image,box_dimension,image_dimension):\n",
    "    box_xlow = box_dimension[0]\n",
    "    box_xhigh = box_dimension[1]\n",
    "    box_ylow = box_dimension[2]\n",
    "    box_yhigh = box_dimension[3]\n",
    "    box_zlow = box_dimension[4]\n",
    "    box_zhigh = box_dimension[5]\n",
    "    \n",
    "    xaxis_lower_limit = image_dimension[0]\n",
    "    xaxis_higher_limit = image_dimension[1]\n",
    "    yaxis_lower_limit = image_dimension[2]\n",
    "    yaxis_higher_limit = image_dimension[3]\n",
    "    zaxis_lower_limit = image_dimension[4]\n",
    "    zaxis_higher_limit = image_dimension[5]\n",
    "        \n",
    "    voxel_count = 0\n",
    "    voxel_dict = {}\n",
    "    \n",
    "    for zaxis in range(box_zlow, box_zhigh + 1):\n",
    "        for yaxis in range(box_ylow, box_yhigh + 1):\n",
    "            for xaxis in range(box_xlow,box_xhigh + 1):\n",
    "                #print(xaxis,yaxis,zaxis)\n",
    "                \n",
    "                if (xaxis < xaxis_lower_limit or xaxis > xaxis_higher_limit or\n",
    "                    yaxis < yaxis_lower_limit or yaxis > yaxis_higher_limit or\n",
    "                    zaxis < zaxis_lower_limit or zaxis > zaxis_higher_limit):\n",
    "                        voxel_dict[voxel_count] = 0\n",
    "                else:\n",
    "                    intensity = image[xaxis][yaxis][zaxis]\n",
    "                    \n",
    "                    if math.isnan(intensity):\n",
    "                        voxel_dict[voxel_count] = 0\n",
    "                    else:\n",
    "                        voxel_dict[voxel_count] = intensity\n",
    "                    \n",
    "                \n",
    "                voxel_count = voxel_count + 1\n",
    "                \n",
    "               \n",
    "    return voxel_dict\n",
    "    "
   ]
  },
  {
   "cell_type": "code",
   "execution_count": 10,
   "metadata": {},
   "outputs": [],
   "source": [
    "#find pearson's correlation coefficient between two patches\n",
    "def get_correlation(patch1,patch2):\n",
    "    patch1_mean = np.mean(patch1)\n",
    "    patch2_mean = np.mean(patch2)\n",
    "    patch1_sub = np.subtract(patch1,patch1_mean)\n",
    "    patch2_sub = np.subtract(patch2,patch2_mean)\n",
    "    \n",
    "#     print(patch1_sub)\n",
    "#     print(patch2_sub)\n",
    "    \n",
    "    patch1_sub_sq = np.square(patch1_sub)\n",
    "    patch2_sub_sq = np.square(patch2_sub)\n",
    "    patch1_sub_sq_sum = np.sum(patch1_sub_sq)\n",
    "    patch2_sub_sq_sum = np.sum(patch2_sub_sq)\n",
    "    \n",
    "#     print(patch1_sub_sq)\n",
    "#     print(patch2_sub_sq)\n",
    "    \n",
    "    val_multiply = np.multiply(patch1_sub,patch2_sub)\n",
    "    numerator = np.sum(val_multiply)\n",
    "    \n",
    "    pearson_corr_coef = 0\n",
    "    \n",
    "    denominator = math.sqrt(patch1_sub_sq_sum) * math.sqrt(patch2_sub_sq_sum)\n",
    "    \n",
    "    if denominator != 0:\n",
    "        pearson_corr_coef = numerator/denominator\n",
    "    \n",
    "    \n",
    "    \n",
    "    return pearson_corr_coef\n",
    "    "
   ]
  },
  {
   "cell_type": "code",
   "execution_count": 11,
   "metadata": {},
   "outputs": [],
   "source": [
    "def extract_patches(image_path,graph_path,patch_dimension):\n",
    "    fileList = os.listdir(image_path)\n",
    "    for file in fileList:\n",
    "        print(file)\n",
    "    \n",
    "        temp_str = file.split('_')\n",
    "        fileName = temp_str[0]\n",
    "    \n",
    "        image = nib.load(image_path+\"\\\\\"+file)\n",
    "        imageData = image.get_fdata()\n",
    "    \n",
    "        patch_list = []\n",
    "        patch_np_list = []\n",
    "    \n",
    "        create_LH_patches(imageData,imageData.shape,patch_dimension,patch_list)\n",
    "        create_RH_patches(imageData,imageData.shape,patch_dimension,patch_list)\n",
    "    \n",
    "        for patch in patch_list:\n",
    "            value_array = np.fromiter(patch.values(),float,len(patch))\n",
    "            patch_np_list.append(value_array)\n",
    "\n",
    "#Keep all the patches\n",
    "#     unwanted_patches = []\n",
    "#     idx = 0\n",
    "#     for patch in patch_np_list:\n",
    "#         nnz_patch = np.count_nonzero(patch)\n",
    "#         if nnz_patch < num_nnz_voxels:\n",
    "#             unwanted_patches.append(idx)\n",
    "            \n",
    "#     for val in unwanted_patches:\n",
    "#         patch_np_list.pop(val)\n",
    "    \n",
    "        G = nx.Graph()\n",
    "        for idx in range(0,len(patch_np_list)):\n",
    "            G.add_node(idx)\n",
    "        \n",
    "        for idx in range(0,len(patch_np_list)):\n",
    "            for temp_idx in range(0,len(patch_np_list)):\n",
    "                if idx != temp_idx:\n",
    "                    patch1 = patch_np_list[idx]\n",
    "                    patch2 = patch_np_list[temp_idx]\n",
    "                    corr_value = get_correlation(patch1,patch2)\n",
    "                                      \n",
    "                    G.add_edge(idx,temp_idx,weight = corr_value)\n",
    "                \n",
    "        nx.write_gml(G,graph_path+fileName+\".gml\")\n",
    "            \n",
    "    "
   ]
  },
  {
   "cell_type": "code",
   "execution_count": 12,
   "metadata": {},
   "outputs": [],
   "source": [
    "patch_dimension = (10,15,20)"
   ]
  },
  {
   "cell_type": "code",
   "execution_count": 20,
   "metadata": {},
   "outputs": [],
   "source": [
    "#nnz_percentage = 10"
   ]
  },
  {
   "cell_type": "code",
   "execution_count": 21,
   "metadata": {},
   "outputs": [],
   "source": [
    "#num_nnz_voxels = (nnz_percentage/100) * (patch_dimension[0] * patch_dimension[1] * patch_dimension[2])"
   ]
  },
  {
   "cell_type": "markdown",
   "metadata": {},
   "source": [
    "# Read images"
   ]
  },
  {
   "cell_type": "markdown",
   "metadata": {},
   "source": [
    "# CN vs AD"
   ]
  },
  {
   "cell_type": "markdown",
   "metadata": {},
   "source": [
    "# GM"
   ]
  },
  {
   "cell_type": "markdown",
   "metadata": {},
   "source": [
    "Training"
   ]
  },
  {
   "cell_type": "code",
   "execution_count": 22,
   "metadata": {},
   "outputs": [
    {
     "name": "stdout",
     "output_type": "stream",
     "text": [
      "smwc110_ADNI_009_S_0751_MR_MP_RAGE__br_raw_20060801143332101_5_S17487_I20013.nii\n",
      "smwc111_ADNI_009_S_0842_MR_MP_RAGE__br_raw_20060927083107095_1_S18870_I24339.nii\n",
      "smwc112_ADNI_009_S_0862_MR_MP_RAGE__br_raw_20060927102700674_1_S19358_I25128.nii\n",
      "smwc113_ADNI_014_S_0519_MR_MP-RAGE__br_raw_20060515195749046_1_S14488_I15323.nii\n",
      "smwc114_ADNI_014_S_0520_MR_MP-RAGE__br_raw_20060515171041368_1_S14474_I15299.nii\n",
      "smwc115_ADNI_014_S_0548_MR_MP-RAGE__br_raw_20060525123747339_1_S14921_I16024.nii\n",
      "smwc116_ADNI_021_S_0159_MR_MP-RAGE__br_20060131093950333_27_S11313_I10590.nii\n",
      "smwc117_ADNI_021_S_0337_MR_MP-RAGE__br_20060328115618723_117_S12485_I12466.nii\n",
      "smwc118_ADNI_021_S_0647_MR_MP-RAGE__br_20060629143034265_160_S15957_I17668.nii\n",
      "smwc119_ADNI_021_S_0984_MR_MP-RAGE__br_raw_20061023112613495_2_S20680_I27056.nii\n",
      "smwc11_ADNI_005_S_0610_MR_MP-RAGE__br_raw_20060621110339771_1_S15727_I17303.nii\n",
      "smwc120_ADNI_024_S_0985_MR_MP-RAGE__br_raw_20061026142105825_1_S21111_I27607.nii\n",
      "smwc121_ADNI_024_S_1063_MR_MP-RAGE__br_raw_20061031134932484_1_S21526_I28111.nii\n",
      "smwc122_ADNI_027_S_0074_MR_MP-RAGE__br_raw_20051215135717875_1_S10605_I9487.nii\n",
      "smwc123_ADNI_027_S_0118_MR_MP-RAGE__br_raw_20060227125301930_1_S11796_I11370.nii\n",
      "smwc124_ADNI_027_S_0120_MR_MP-RAGE__br_raw_20060208163630614_3_S11535_I10933.nii\n",
      "smwc125_ADNI_027_S_0403_MR_MP-RAGE__br_raw_20060425113115740_1_S13718_I14146.nii\n",
      "smwc126_ADNI_029_S_0824_MR_MP-RAGE__br_raw_20060823105631462_42_S18139_I23213.nii\n",
      "smwc127_ADNI_029_S_0843_MR_MP-RAGE__br_raw_20060914162823648_1_S18909_I24406.nii\n",
      "smwc128_ADNI_029_S_0845_MR_MP-RAGE__br_raw_20060913103237367_6_S18829_I24249.nii\n",
      "smwc129_ADNI_029_S_0866_MR_MP-RAGE__br_raw_20070413143012375_1_S29721_I49181.nii\n",
      "smwc12_ADNI_006_S_0484_MR_MP-RAGE__br_raw_20060622090650656_43_S15774_I17377.nii\n",
      "smwc130_ADNI_031_S_0618_MR_MP-RAGE__br_raw_20061003122102250_1_S15270_I16598.nii\n",
      "smwc131_ADNI_033_S_0516_MR_MP-RAGE__br_raw_20060522152556995_1_S14818_I15860.nii\n",
      "smwc132_ADNI_033_S_0734_MR_MP-RAGE__br_raw_20060719114046203_1_S16942_I19155.nii\n",
      "smwc133_ADNI_033_S_0741_MR_MP-RAGE__br_raw_20060720104940826_1_S17006_I19258.nii\n",
      "smwc134_ADNI_033_S_0920_MR_MP-RAGE__br_raw_20070430123616391_3_S31099_I52201.nii\n",
      "smwc135_ADNI_033_S_1016_MR_MP-RAGE__br_raw_20081216182903577_3_S60926_I131130.nii\n",
      "smwc136_ADNI_033_S_1086_MR_MP-RAGE__br_raw_20061207154157171_1_S23547_I32054.nii\n",
      "smwc137_ADNI_033_S_1098_MR_MP-RAGE__br_raw_20081205155928144_3_S60584_I129468.nii\n",
      "smwc138_ADNI_037_S_0303_MR_MP-RAGE__br_raw_20060407155824098_1_S12981_I13152.nii\n",
      "smwc139_ADNI_037_S_0454_MR_MP-RAGE__br_raw_20080602142643379_1_S50852_I108019.nii\n",
      "smwc13_ADNI_006_S_0498_MR_MP-RAGE__br_raw_20060626130033734_1_S15857_I17505.nii\n",
      "smwc140_ADNI_037_S_0467_MR_MP-RAGE__br_raw_20060510121912587_1_S14164_I14861.nii\n",
      "smwc14_ADNI_006_S_0681_MR_MP-RAGE__br_raw_20060831143335593_1_S18451_I23677.nii\n",
      "smwc151_ADNI_002_S_0619_MR_MP-RAGE__br_raw_20060601215738863_1_S15147_I16392.nii\n",
      "smwc152_ADNI_002_S_0816_MR_MP-RAGE__br_raw_20060830195514279_1_S18400_I23591.nii\n",
      "smwc153_ADNI_002_S_0938_MR_MP-RAGE__br_raw_20061006161734960_1_S19852_I25952.nii\n",
      "smwc154_ADNI_002_S_0955_MR_MP-RAGE__br_raw_20061012081640039_110_S20004_I26170.nii\n",
      "smwc155_ADNI_002_S_1018_MR_MP-RAGE__br_raw_20061129230229806_1_S23128_I30875.nii\n",
      "smwc156_ADNI_005_S_0221_MR_MP-RAGE__br_raw_20061006154159590_1_S19845_I25942.nii\n",
      "smwc157_ADNI_005_S_0814_MR_MP-RAGE__br_raw_20060830124436257_1_S18390_I23573.nii\n",
      "smwc158_ADNI_005_S_0929_MR_MP-RAGE__br_raw_20061003144555138_1_S19669_I25645.nii\n",
      "smwc159_ADNI_005_S_1341_MR_MP-RAGE__br_raw_20070307150517807_1_S27673_I43188.nii\n",
      "smwc15_ADNI_006_S_0731_MR_MP-RAGE__br_raw_20060829134531156_99_S18321_I23468.nii\n",
      "smwc160_ADNI_006_S_0547_MR_MP-RAGE__br_raw_20060703110346054_1_S16033_I17794.nii\n",
      "smwc161_ADNI_006_S_0653_MR_MP-RAGE__br_raw_20060705140828562_1_S16073_I17867.nii\n",
      "smwc162_ADNI_007_S_0316_MR_MP-RAGE__br_raw_20060330141641803_94_S12582_I12616.nii\n",
      "smwc163_ADNI_007_S_1248_MR_MP-RAGE__br_raw_20070125230149093_163_S25567_I37508.nii\n",
      "smwc164_ADNI_007_S_1304_MR_MP-RAGE__br_raw_20070214212350033_1_S26475_I40118.nii\n",
      "smwc165_ADNI_007_S_1339_MR_MP-RAGE__br_raw_20070303102908481_148_S27414_I42344.nii\n",
      "smwc166_ADNI_009_S_1334_MR_MP_RAGE__br_raw_20080526101547678_1_S50567_I106775.nii\n",
      "smwc167_ADNI_014_S_0328_MR_MP-RAGE__br_raw_20060323083210611_1_S12402_I12327.nii\n",
      "smwc168_ADNI_014_S_0356_MR_MP-RAGE__br_raw_20060406121352497_1_S12857_I13004.nii\n",
      "smwc169_ADNI_014_S_0357_MR_MP-RAGE__br_raw_20060405163556214_1_S12824_I12963.nii\n",
      "smwc16_ADNI_007_S_0068_MR_MP-RAGE__br_raw_20051201103948809_1_S10355_I9113.nii\n",
      "smwc170_ADNI_014_S_1095_MR_MP-RAGE__br_raw_20061204084339241_1_S23323_I31576.nii\n",
      "smwc171_ADNI_021_S_0343_MR_MP-RAGE__br_20060406105514303_15_S12836_I12979.nii\n",
      "smwc172_ADNI_021_S_0642_MR_MP-RAGE__br_20060629114754230_66_S15935_I17632.nii\n",
      "smwc173_ADNI_021_S_0753_MR_MP-RAGE__br_20060804133921716_122_S17580_I20169.nii\n",
      "smwc174_ADNI_021_S_1109_MR_MP-RAGE__br_raw_20070710153346065_1_S34639_I58931.nii\n",
      "smwc175_ADNI_024_S_1171_MR_MP-RAGE__br_raw_20070104143500924_1_S24659_I35190.nii\n",
      "smwc176_ADNI_024_S_1307_MR_MP-RAGE__br_raw_20070223150915290_109_S27061_I41527.nii\n",
      "smwc177_ADNI_027_S_0404_MR_MP-RAGE__br_raw_20060502130937399_30_S13866_I14392.nii\n",
      "smwc178_ADNI_027_S_0850_MR_MP-RAGE__br_raw_20060906155949336_1_S18554_I23845.nii\n",
      "smwc179_ADNI_027_S_1081_MR_MP-RAGE__br_raw_20070122171754425_1_S25357_I37145.nii\n",
      "smwc17_ADNI_007_S_0070_MR_MP-RAGE__br_raw_20060119115646093_48_S10949_I10027.nii\n",
      "smwc180_ADNI_027_S_1082_MR_MP-RAGE__br_raw_20061127172131955_1_S22937_I30542.nii\n",
      "smwc181_ADNI_027_S_1254_MR_MP-RAGE__br_raw_20070131162443705_1_S25764_I37859.nii\n",
      "smwc182_ADNI_027_S_1385_MR_MP-RAGE__br_raw_20070314195923046_1_S28133_I44778.nii\n",
      "smwc183_ADNI_029_S_0836_MR_MP-RAGE__br_raw_20060823155144759_1_S18151_I23231.nii\n",
      "smwc184_ADNI_029_S_0999_MR_MP-RAGE__br_raw_20061201100456912_1_S23249_I31239.nii\n",
      "smwc185_ADNI_029_S_1056_MR_MP-RAGE__br_raw_20061128101002131_1_S22978_I30618.nii\n",
      "smwc186_ADNI_029_S_1184_MR_MP-RAGE__br_raw_20070124101950551_1_S25463_I37350.nii\n",
      "smwc187_ADNI_031_S_0321_MR_MP-RAGE__br_raw_20061003110234296_1_S12365_I12267.nii\n",
      "smwc188_ADNI_031_S_0554_MR_MP-RAGE__br_raw_20061002161428031_1_S14903_I15994.nii\n",
      "smwc189_ADNI_031_S_0773_MR_MP-RAGE__br_raw_20060803113746265_1_S17562_I20142.nii\n",
      "smwc18_ADNI_007_S_1206_MR_MP-RAGE__br_raw_20070117224711183_1_S25172_I36411.nii\n",
      "smwc190_ADNI_033_S_0724_MR_MP-RAGE__br_raw_20060727114412009_1_S17337_I19772.nii\n",
      "smwc19_ADNI_007_S_1222_MR_MP-RAGE__br_raw_20070123224843055_158_S25401_I37270.nii\n"
     ]
    }
   ],
   "source": [
    "image_path = 'D:\\\\images\\\\smwc images\\\\CN vs AD\\\\GM\\\\Training\\\\'\n",
    "graph_path = 'D:\\\\images\\\\smwc images\\\\CN vs AD\\\\GM\\\\Training_gml\\\\'\n",
    "extract_patches(image_path,graph_path,patch_dimension)"
   ]
  },
  {
   "cell_type": "markdown",
   "metadata": {},
   "source": [
    "Testing"
   ]
  },
  {
   "cell_type": "code",
   "execution_count": 23,
   "metadata": {},
   "outputs": [
    {
     "name": "stdout",
     "output_type": "stream",
     "text": [
      "smwc1100_ADNI_094_S_1027_MR_MP-RAGE__br_raw_20061027105148869_1_S21208_I27724.nii\n",
      "smwc141_ADNI_052_S_1250_MR_MP-RAGE__br_raw_20070202152221562_1_S25829_I38022.nii\n",
      "smwc142_ADNI_133_S_0433_MR_MP-RAGE__br_raw_20060503170301709_1_S13952_I14524.nii\n",
      "smwc143_ADNI_133_S_0488_MR_MP-RAGE__br_raw_20060510110323862_1_S14150_I14838.nii\n",
      "smwc144_ADNI_133_S_0493_MR_MP-RAGE__br_raw_20060510113223987_1_S14156_I14848.nii\n",
      "smwc145_ADNI_133_S_0525_MR_MP-RAGE__br_raw_20060530111757278_1_S14991_I16133.nii\n",
      "smwc146_ADNI_136_S_0086_MR_MP-RAGE__br_raw_20060412170919893_1_S13190_I13454.nii\n",
      "smwc147_ADNI_136_S_0184_MR_MP-RAGE__br_raw_20060306144308548_166_S11974_I11633.nii\n",
      "smwc148_ADNI_136_S_0186_MR_MP-RAGE__br_raw_20060224091957079_1_S11774_I11335.nii\n",
      "smwc149_ADNI_137_S_0301_MR_MP-RAGE__br_raw_20070507123657094_1_S31819_I53628.nii\n",
      "smwc150_ADNI_137_S_0459_MR_MP-RAGE__br_raw_20060426082434057_1_S13737_I14178.nii\n",
      "smwc191_ADNI_033_S_0739_MR_MP-RAGE__br_raw_20060719123905183_1_S16956_I19175.nii\n",
      "smwc192_ADNI_033_S_0888_MR_MP-RAGE__br_raw_20060925124704187_1_S19265_I24976.nii\n",
      "smwc193_ADNI_033_S_0889_MR_MP-RAGE__br_raw_20060926111331849_1_S19297_I25026.nii\n",
      "smwc194_ADNI_033_S_1087_MR_MP-RAGE__br_raw_20061121100132377_1_S22739_I30220.nii\n",
      "smwc195_ADNI_033_S_1281_MR_MP-RAGE__br_raw_20070208165305428_1_S26137_I38607.nii\n",
      "smwc196_ADNI_033_S_1283_MR_MP-RAGE__br_raw_20070821085901487_3_S37913_I69317.nii\n",
      "smwc197_ADNI_033_S_1285_MR_MP-RAGE__br_raw_20070208161501819_1_S26128_I38593.nii\n",
      "smwc198_ADNI_033_S_1308_MR_MP-RAGE__br_raw_20070214153211802_1_S26473_I40114.nii\n",
      "smwc199_ADNI_053_S_1044_MR_MP-RAGE__br_raw_20061027160315928_3_S21255_I27782.nii\n"
     ]
    }
   ],
   "source": [
    "image_path = 'D:\\\\images\\\\smwc images\\\\CN vs AD\\\\GM\\\\Testing\\\\'\n",
    "graph_path = 'D:\\\\images\\\\smwc images\\\\CN vs AD\\\\GM\\\\Testing_gml\\\\'\n",
    "extract_patches(image_path,graph_path,patch_dimension)"
   ]
  },
  {
   "cell_type": "markdown",
   "metadata": {},
   "source": [
    "# AD vs MCI"
   ]
  },
  {
   "cell_type": "markdown",
   "metadata": {},
   "source": [
    "# GM"
   ]
  },
  {
   "cell_type": "markdown",
   "metadata": {},
   "source": [
    "Training"
   ]
  },
  {
   "cell_type": "code",
   "execution_count": 24,
   "metadata": {},
   "outputs": [
    {
     "name": "stdout",
     "output_type": "stream",
     "text": [
      "smwc1101_ADNI_002_S_0729_MR_MP-RAGE__br_raw_20060718014510277_55_S16874_I19057.nii\n",
      "smwc1102_ADNI_002_S_0782_MR_MP-RAGE__br_raw_20060814234136624_143_S17835_I20519.nii\n",
      "smwc1103_ADNI_002_S_1070_MR_MP-RAGE__br_raw_20071211013945036_1_S43525_I84509.nii\n",
      "smwc1104_ADNI_002_S_1155_MR_MP-RAGE__br_raw_20090313184446514_1_S64561_I138952.nii\n",
      "smwc1105_ADNI_005_S_0222_MR_MP-RAGE__br_raw_20060228162849855_1_S11753_I11299.nii\n",
      "smwc1106_ADNI_005_S_0324_MR_MP-RAGE__br_raw_20060330144210364_1_S12600_I12642.nii\n",
      "smwc1107_ADNI_005_S_0448_MR_MP-RAGE__br_raw_20061115121857483_1_S22540_I29668.nii\n",
      "smwc1108_ADNI_005_S_0546_MR_MP-RAGE__br_raw_20060615120703023_1_S15567_I17056.nii\n",
      "smwc1109_ADNI_005_S_0572_MR_MP-RAGE__br_raw_20060620122145158_1_S15709_I17275.nii\n",
      "smwc1110_ADNI_005_S_1224_MR_MP-RAGE__br_raw_20070123153035893_1_S25412_I37284.nii\n",
      "smwc1111_ADNI_006_S_0322_MR_MP-RAGE__br_raw_20060620103718875_1_S15659_I17197.nii\n",
      "smwc1112_ADNI_006_S_0521_MR_MP-RAGE__br_raw_20060627143716734_1_S15877_I17536.nii\n",
      "smwc1113_ADNI_006_S_0675_MR_MP-RAGE__br_raw_20060831111822531_1_S18432_I23644.nii\n",
      "smwc1114_ADNI_006_S_1130_MR_MP-RAGE__br_raw_20061206090500406_166_S23456_I31799.nii\n",
      "smwc1115_ADNI_007_S_0041_MR_MP-RAGE__br_raw_20051021144348124_68_S9994_I8177.nii\n",
      "smwc1116_ADNI_007_S_0101_MR_MP-RAGE__br_raw_20051222112854805_6_S10679_I9602.nii\n",
      "smwc1117_ADNI_007_S_0128_MR_MP-RAGE__br_raw_20060118152700655_1_S10936_I10007.nii\n",
      "smwc1118_ADNI_007_S_0249_MR_MP-RAGE__br_raw_20060302161041787_161_S11911_I11544.nii\n",
      "smwc1119_ADNI_007_S_0344_MR_MP-RAGE__br_raw_20060331160040698_1_S12631_I12697.nii\n",
      "smwc1120_ADNI_007_S_0414_MR_MP-RAGE__br_raw_20060522170058013_87_S14826_I15875.nii\n",
      "smwc1121_ADNI_009_S_1030_MR_MP_RAGE__br_raw_20061102145047035_1_S21823_I28514.nii\n",
      "smwc1122_ADNI_014_S_0557_MR_MP-RAGE__br_raw_20060601080221377_1_S15094_I16304.nii\n",
      "smwc1123_ADNI_014_S_0563_MR_MP-RAGE__br_raw_20060705134345706_1_S16079_I17876.nii\n",
      "smwc1124_ADNI_014_S_0658_MR_MP-RAGE__br_raw_20060801073301138_78_S17481_I20003.nii\n",
      "smwc1125_ADNI_021_S_0178_MR_MP-RAGE__br_20060210130516267_99_S11567_I10993.nii\n",
      "smwc1126_ADNI_021_S_0231_MR_MP-RAGE__br_20060228105755014_12_S11834_I11430.nii\n",
      "smwc1127_ADNI_021_S_0273_MR_MP-RAGE__br_20060314124951392_1_S12168_I11942.nii\n",
      "smwc1128_ADNI_021_S_0332_MR_MP-RAGE__br_20060404145427638_1_S12755_I12862.nii\n",
      "smwc1129_ADNI_021_S_0424_MR_MP-RAGE__br_20060420133909411_137_S13532_I13909.nii\n",
      "smwc1130_ADNI_021_S_0626_MR_MP-RAGE__br_20060630080633190_121_S15969_I17687.nii\n",
      "smwc1131_ADNI_024_S_1393_MR_MP-RAGE__br_raw_20070315154234242_1_S28190_I44887.nii\n",
      "smwc1132_ADNI_024_S_1400_MR_MP-RAGE__br_raw_20070508135140190_1_S31870_I53739.nii\n",
      "smwc1133_ADNI_027_S_0116_MR_MP-RAGE__br_raw_20060203163119914_1_S11442_I10783.nii\n",
      "smwc1134_ADNI_027_S_0179_MR_MP-RAGE__br_raw_20060227101223445_1_S11782_I11348.nii\n",
      "smwc1135_ADNI_027_S_0256_MR_MP-RAGE__br_raw_20060322111052709_1_S12357_I12250.nii\n",
      "smwc1136_ADNI_027_S_0307_MR_MP-RAGE__br_raw_20060410152057898_1_S13072_I13281.nii\n",
      "smwc1137_ADNI_027_S_0408_MR_MP-RAGE__br_raw_20060510180729905_39_S14231_I14964.nii\n",
      "smwc1138_ADNI_027_S_0417_MR_MP-RAGE__br_raw_20060512145816309_1_S14372_I15148.nii\n",
      "smwc1139_ADNI_027_S_0461_MR_MP-RAGE__br_raw_20060603111301969_1_S15192_I16467.nii\n",
      "smwc1140_ADNI_027_S_0485_MR_MP-RAGE__br_raw_20060510162743608_1_S14208_I14928.nii\n",
      "smwc151_ADNI_002_S_0619_MR_MP-RAGE__br_raw_20060601215738863_1_S15147_I16392.nii\n",
      "smwc152_ADNI_002_S_0816_MR_MP-RAGE__br_raw_20060830195514279_1_S18400_I23591.nii\n",
      "smwc153_ADNI_002_S_0938_MR_MP-RAGE__br_raw_20061006161734960_1_S19852_I25952.nii\n",
      "smwc154_ADNI_002_S_0955_MR_MP-RAGE__br_raw_20061012081640039_110_S20004_I26170.nii\n",
      "smwc155_ADNI_002_S_1018_MR_MP-RAGE__br_raw_20061129230229806_1_S23128_I30875.nii\n",
      "smwc156_ADNI_005_S_0221_MR_MP-RAGE__br_raw_20061006154159590_1_S19845_I25942.nii\n",
      "smwc157_ADNI_005_S_0814_MR_MP-RAGE__br_raw_20060830124436257_1_S18390_I23573.nii\n",
      "smwc158_ADNI_005_S_0929_MR_MP-RAGE__br_raw_20061003144555138_1_S19669_I25645.nii\n",
      "smwc159_ADNI_005_S_1341_MR_MP-RAGE__br_raw_20070307150517807_1_S27673_I43188.nii\n",
      "smwc160_ADNI_006_S_0547_MR_MP-RAGE__br_raw_20060703110346054_1_S16033_I17794.nii\n",
      "smwc161_ADNI_006_S_0653_MR_MP-RAGE__br_raw_20060705140828562_1_S16073_I17867.nii\n",
      "smwc162_ADNI_007_S_0316_MR_MP-RAGE__br_raw_20060330141641803_94_S12582_I12616.nii\n",
      "smwc163_ADNI_007_S_1248_MR_MP-RAGE__br_raw_20070125230149093_163_S25567_I37508.nii\n",
      "smwc164_ADNI_007_S_1304_MR_MP-RAGE__br_raw_20070214212350033_1_S26475_I40118.nii\n",
      "smwc165_ADNI_007_S_1339_MR_MP-RAGE__br_raw_20070303102908481_148_S27414_I42344.nii\n",
      "smwc166_ADNI_009_S_1334_MR_MP_RAGE__br_raw_20080526101547678_1_S50567_I106775.nii\n",
      "smwc167_ADNI_014_S_0328_MR_MP-RAGE__br_raw_20060323083210611_1_S12402_I12327.nii\n",
      "smwc168_ADNI_014_S_0356_MR_MP-RAGE__br_raw_20060406121352497_1_S12857_I13004.nii\n",
      "smwc169_ADNI_014_S_0357_MR_MP-RAGE__br_raw_20060405163556214_1_S12824_I12963.nii\n",
      "smwc170_ADNI_014_S_1095_MR_MP-RAGE__br_raw_20061204084339241_1_S23323_I31576.nii\n",
      "smwc171_ADNI_021_S_0343_MR_MP-RAGE__br_20060406105514303_15_S12836_I12979.nii\n",
      "smwc172_ADNI_021_S_0642_MR_MP-RAGE__br_20060629114754230_66_S15935_I17632.nii\n",
      "smwc173_ADNI_021_S_0753_MR_MP-RAGE__br_20060804133921716_122_S17580_I20169.nii\n",
      "smwc174_ADNI_021_S_1109_MR_MP-RAGE__br_raw_20070710153346065_1_S34639_I58931.nii\n",
      "smwc175_ADNI_024_S_1171_MR_MP-RAGE__br_raw_20070104143500924_1_S24659_I35190.nii\n",
      "smwc176_ADNI_024_S_1307_MR_MP-RAGE__br_raw_20070223150915290_109_S27061_I41527.nii\n",
      "smwc177_ADNI_027_S_0404_MR_MP-RAGE__br_raw_20060502130937399_30_S13866_I14392.nii\n",
      "smwc178_ADNI_027_S_0850_MR_MP-RAGE__br_raw_20060906155949336_1_S18554_I23845.nii\n",
      "smwc179_ADNI_027_S_1081_MR_MP-RAGE__br_raw_20070122171754425_1_S25357_I37145.nii\n",
      "smwc180_ADNI_027_S_1082_MR_MP-RAGE__br_raw_20061127172131955_1_S22937_I30542.nii\n",
      "smwc181_ADNI_027_S_1254_MR_MP-RAGE__br_raw_20070131162443705_1_S25764_I37859.nii\n",
      "smwc182_ADNI_027_S_1385_MR_MP-RAGE__br_raw_20070314195923046_1_S28133_I44778.nii\n",
      "smwc183_ADNI_029_S_0836_MR_MP-RAGE__br_raw_20060823155144759_1_S18151_I23231.nii\n",
      "smwc184_ADNI_029_S_0999_MR_MP-RAGE__br_raw_20061201100456912_1_S23249_I31239.nii\n",
      "smwc185_ADNI_029_S_1056_MR_MP-RAGE__br_raw_20061128101002131_1_S22978_I30618.nii\n",
      "smwc186_ADNI_029_S_1184_MR_MP-RAGE__br_raw_20070124101950551_1_S25463_I37350.nii\n",
      "smwc187_ADNI_031_S_0321_MR_MP-RAGE__br_raw_20061003110234296_1_S12365_I12267.nii\n",
      "smwc188_ADNI_031_S_0554_MR_MP-RAGE__br_raw_20061002161428031_1_S14903_I15994.nii\n",
      "smwc189_ADNI_031_S_0773_MR_MP-RAGE__br_raw_20060803113746265_1_S17562_I20142.nii\n",
      "smwc190_ADNI_033_S_0724_MR_MP-RAGE__br_raw_20060727114412009_1_S17337_I19772.nii\n"
     ]
    }
   ],
   "source": [
    "image_path = 'D:\\\\images\\\\smwc images\\\\AD vs MCI\\\\GM\\\\Training\\\\'\n",
    "graph_path = 'D:\\\\images\\\\smwc images\\\\AD vs MCI\\\\GM\\\\Training_gml\\\\'\n",
    "extract_patches(image_path,graph_path,patch_dimension)"
   ]
  },
  {
   "cell_type": "markdown",
   "metadata": {},
   "source": [
    "Testing"
   ]
  },
  {
   "cell_type": "code",
   "execution_count": 25,
   "metadata": {},
   "outputs": [
    {
     "name": "stdout",
     "output_type": "stream",
     "text": [
      "smwc1100_ADNI_094_S_1027_MR_MP-RAGE__br_raw_20061027105148869_1_S21208_I27724.nii\n",
      "smwc141_ADNI_052_S_1250_MR_MP-RAGE__br_raw_20070202152221562_1_S25829_I38022.nii\n",
      "smwc142_ADNI_133_S_0433_MR_MP-RAGE__br_raw_20060503170301709_1_S13952_I14524.nii\n",
      "smwc143_ADNI_133_S_0488_MR_MP-RAGE__br_raw_20060510110323862_1_S14150_I14838.nii\n",
      "smwc144_ADNI_133_S_0493_MR_MP-RAGE__br_raw_20060510113223987_1_S14156_I14848.nii\n",
      "smwc145_ADNI_133_S_0525_MR_MP-RAGE__br_raw_20060530111757278_1_S14991_I16133.nii\n",
      "smwc146_ADNI_136_S_0086_MR_MP-RAGE__br_raw_20060412170919893_1_S13190_I13454.nii\n",
      "smwc147_ADNI_136_S_0184_MR_MP-RAGE__br_raw_20060306144308548_166_S11974_I11633.nii\n",
      "smwc148_ADNI_136_S_0186_MR_MP-RAGE__br_raw_20060224091957079_1_S11774_I11335.nii\n",
      "smwc149_ADNI_137_S_0301_MR_MP-RAGE__br_raw_20070507123657094_1_S31819_I53628.nii\n",
      "smwc150_ADNI_137_S_0459_MR_MP-RAGE__br_raw_20060426082434057_1_S13737_I14178.nii\n",
      "smwc191_ADNI_033_S_0739_MR_MP-RAGE__br_raw_20060719123905183_1_S16956_I19175.nii\n",
      "smwc192_ADNI_033_S_0888_MR_MP-RAGE__br_raw_20060925124704187_1_S19265_I24976.nii\n",
      "smwc193_ADNI_033_S_0889_MR_MP-RAGE__br_raw_20060926111331849_1_S19297_I25026.nii\n",
      "smwc194_ADNI_033_S_1087_MR_MP-RAGE__br_raw_20061121100132377_1_S22739_I30220.nii\n",
      "smwc195_ADNI_033_S_1281_MR_MP-RAGE__br_raw_20070208165305428_1_S26137_I38607.nii\n",
      "smwc196_ADNI_033_S_1283_MR_MP-RAGE__br_raw_20070821085901487_3_S37913_I69317.nii\n",
      "smwc197_ADNI_033_S_1285_MR_MP-RAGE__br_raw_20070208161501819_1_S26128_I38593.nii\n",
      "smwc198_ADNI_033_S_1308_MR_MP-RAGE__br_raw_20070214153211802_1_S26473_I40114.nii\n",
      "smwc199_ADNI_053_S_1044_MR_MP-RAGE__br_raw_20061027160315928_3_S21255_I27782.nii\n"
     ]
    }
   ],
   "source": [
    "image_path = 'D:\\\\images\\\\smwc images\\\\AD vs MCI\\\\GM\\\\Testing\\\\'\n",
    "graph_path = 'D:\\\\images\\\\smwc images\\\\AD vs MCI\\\\GM\\\\Testing_gml\\\\'\n",
    "extract_patches(image_path,graph_path,patch_dimension)"
   ]
  },
  {
   "cell_type": "markdown",
   "metadata": {},
   "source": [
    "# CN vs MCI"
   ]
  },
  {
   "cell_type": "markdown",
   "metadata": {},
   "source": [
    "Training"
   ]
  },
  {
   "cell_type": "code",
   "execution_count": 13,
   "metadata": {},
   "outputs": [
    {
     "name": "stdout",
     "output_type": "stream",
     "text": [
      "smwc1101_ADNI_002_S_0729_MR_MP-RAGE__br_raw_20060718014510277_55_S16874_I19057.nii\n",
      "smwc1102_ADNI_002_S_0782_MR_MP-RAGE__br_raw_20060814234136624_143_S17835_I20519.nii\n",
      "smwc1103_ADNI_002_S_1070_MR_MP-RAGE__br_raw_20071211013945036_1_S43525_I84509.nii\n",
      "smwc1104_ADNI_002_S_1155_MR_MP-RAGE__br_raw_20090313184446514_1_S64561_I138952.nii\n",
      "smwc1105_ADNI_005_S_0222_MR_MP-RAGE__br_raw_20060228162849855_1_S11753_I11299.nii\n",
      "smwc1106_ADNI_005_S_0324_MR_MP-RAGE__br_raw_20060330144210364_1_S12600_I12642.nii\n",
      "smwc1107_ADNI_005_S_0448_MR_MP-RAGE__br_raw_20061115121857483_1_S22540_I29668.nii\n",
      "smwc1108_ADNI_005_S_0546_MR_MP-RAGE__br_raw_20060615120703023_1_S15567_I17056.nii\n",
      "smwc1109_ADNI_005_S_0572_MR_MP-RAGE__br_raw_20060620122145158_1_S15709_I17275.nii\n",
      "smwc110_ADNI_009_S_0751_MR_MP_RAGE__br_raw_20060801143332101_5_S17487_I20013.nii\n",
      "smwc1110_ADNI_005_S_1224_MR_MP-RAGE__br_raw_20070123153035893_1_S25412_I37284.nii\n",
      "smwc1111_ADNI_006_S_0322_MR_MP-RAGE__br_raw_20060620103718875_1_S15659_I17197.nii\n",
      "smwc1112_ADNI_006_S_0521_MR_MP-RAGE__br_raw_20060627143716734_1_S15877_I17536.nii\n",
      "smwc1113_ADNI_006_S_0675_MR_MP-RAGE__br_raw_20060831111822531_1_S18432_I23644.nii\n",
      "smwc1114_ADNI_006_S_1130_MR_MP-RAGE__br_raw_20061206090500406_166_S23456_I31799.nii\n",
      "smwc1115_ADNI_007_S_0041_MR_MP-RAGE__br_raw_20051021144348124_68_S9994_I8177.nii\n",
      "smwc1116_ADNI_007_S_0101_MR_MP-RAGE__br_raw_20051222112854805_6_S10679_I9602.nii\n",
      "smwc1117_ADNI_007_S_0128_MR_MP-RAGE__br_raw_20060118152700655_1_S10936_I10007.nii\n",
      "smwc1118_ADNI_007_S_0249_MR_MP-RAGE__br_raw_20060302161041787_161_S11911_I11544.nii\n",
      "smwc1119_ADNI_007_S_0344_MR_MP-RAGE__br_raw_20060331160040698_1_S12631_I12697.nii\n",
      "smwc111_ADNI_009_S_0842_MR_MP_RAGE__br_raw_20060927083107095_1_S18870_I24339.nii\n",
      "smwc1120_ADNI_007_S_0414_MR_MP-RAGE__br_raw_20060522170058013_87_S14826_I15875.nii\n",
      "smwc1121_ADNI_009_S_1030_MR_MP_RAGE__br_raw_20061102145047035_1_S21823_I28514.nii\n",
      "smwc1122_ADNI_014_S_0557_MR_MP-RAGE__br_raw_20060601080221377_1_S15094_I16304.nii\n",
      "smwc1123_ADNI_014_S_0563_MR_MP-RAGE__br_raw_20060705134345706_1_S16079_I17876.nii\n",
      "smwc1124_ADNI_014_S_0658_MR_MP-RAGE__br_raw_20060801073301138_78_S17481_I20003.nii\n",
      "smwc1125_ADNI_021_S_0178_MR_MP-RAGE__br_20060210130516267_99_S11567_I10993.nii\n",
      "smwc1126_ADNI_021_S_0231_MR_MP-RAGE__br_20060228105755014_12_S11834_I11430.nii\n",
      "smwc1127_ADNI_021_S_0273_MR_MP-RAGE__br_20060314124951392_1_S12168_I11942.nii\n",
      "smwc1128_ADNI_021_S_0332_MR_MP-RAGE__br_20060404145427638_1_S12755_I12862.nii\n",
      "smwc1129_ADNI_021_S_0424_MR_MP-RAGE__br_20060420133909411_137_S13532_I13909.nii\n",
      "smwc112_ADNI_009_S_0862_MR_MP_RAGE__br_raw_20060927102700674_1_S19358_I25128.nii\n",
      "smwc1130_ADNI_021_S_0626_MR_MP-RAGE__br_20060630080633190_121_S15969_I17687.nii\n",
      "smwc1131_ADNI_024_S_1393_MR_MP-RAGE__br_raw_20070315154234242_1_S28190_I44887.nii\n",
      "smwc1132_ADNI_024_S_1400_MR_MP-RAGE__br_raw_20070508135140190_1_S31870_I53739.nii\n",
      "smwc1133_ADNI_027_S_0116_MR_MP-RAGE__br_raw_20060203163119914_1_S11442_I10783.nii\n",
      "smwc1134_ADNI_027_S_0179_MR_MP-RAGE__br_raw_20060227101223445_1_S11782_I11348.nii\n",
      "smwc1135_ADNI_027_S_0256_MR_MP-RAGE__br_raw_20060322111052709_1_S12357_I12250.nii\n",
      "smwc1136_ADNI_027_S_0307_MR_MP-RAGE__br_raw_20060410152057898_1_S13072_I13281.nii\n",
      "smwc1137_ADNI_027_S_0408_MR_MP-RAGE__br_raw_20060510180729905_39_S14231_I14964.nii\n",
      "smwc1138_ADNI_027_S_0417_MR_MP-RAGE__br_raw_20060512145816309_1_S14372_I15148.nii\n",
      "smwc1139_ADNI_027_S_0461_MR_MP-RAGE__br_raw_20060603111301969_1_S15192_I16467.nii\n",
      "smwc113_ADNI_014_S_0519_MR_MP-RAGE__br_raw_20060515195749046_1_S14488_I15323.nii\n",
      "smwc1140_ADNI_027_S_0485_MR_MP-RAGE__br_raw_20060510162743608_1_S14208_I14928.nii\n",
      "smwc114_ADNI_014_S_0520_MR_MP-RAGE__br_raw_20060515171041368_1_S14474_I15299.nii\n",
      "smwc115_ADNI_014_S_0548_MR_MP-RAGE__br_raw_20060525123747339_1_S14921_I16024.nii\n",
      "smwc116_ADNI_021_S_0159_MR_MP-RAGE__br_20060131093950333_27_S11313_I10590.nii\n",
      "smwc117_ADNI_021_S_0337_MR_MP-RAGE__br_20060328115618723_117_S12485_I12466.nii\n",
      "smwc118_ADNI_021_S_0647_MR_MP-RAGE__br_20060629143034265_160_S15957_I17668.nii\n",
      "smwc119_ADNI_021_S_0984_MR_MP-RAGE__br_raw_20061023112613495_2_S20680_I27056.nii\n",
      "smwc11_ADNI_005_S_0610_MR_MP-RAGE__br_raw_20060621110339771_1_S15727_I17303.nii\n",
      "smwc120_ADNI_024_S_0985_MR_MP-RAGE__br_raw_20061026142105825_1_S21111_I27607.nii\n",
      "smwc121_ADNI_024_S_1063_MR_MP-RAGE__br_raw_20061031134932484_1_S21526_I28111.nii\n",
      "smwc122_ADNI_027_S_0074_MR_MP-RAGE__br_raw_20051215135717875_1_S10605_I9487.nii\n",
      "smwc123_ADNI_027_S_0118_MR_MP-RAGE__br_raw_20060227125301930_1_S11796_I11370.nii\n",
      "smwc124_ADNI_027_S_0120_MR_MP-RAGE__br_raw_20060208163630614_3_S11535_I10933.nii\n",
      "smwc125_ADNI_027_S_0403_MR_MP-RAGE__br_raw_20060425113115740_1_S13718_I14146.nii\n",
      "smwc126_ADNI_029_S_0824_MR_MP-RAGE__br_raw_20060823105631462_42_S18139_I23213.nii\n",
      "smwc127_ADNI_029_S_0843_MR_MP-RAGE__br_raw_20060914162823648_1_S18909_I24406.nii\n",
      "smwc128_ADNI_029_S_0845_MR_MP-RAGE__br_raw_20060913103237367_6_S18829_I24249.nii\n",
      "smwc129_ADNI_029_S_0866_MR_MP-RAGE__br_raw_20070413143012375_1_S29721_I49181.nii\n",
      "smwc12_ADNI_006_S_0484_MR_MP-RAGE__br_raw_20060622090650656_43_S15774_I17377.nii\n",
      "smwc130_ADNI_031_S_0618_MR_MP-RAGE__br_raw_20061003122102250_1_S15270_I16598.nii\n",
      "smwc131_ADNI_033_S_0516_MR_MP-RAGE__br_raw_20060522152556995_1_S14818_I15860.nii\n",
      "smwc132_ADNI_033_S_0734_MR_MP-RAGE__br_raw_20060719114046203_1_S16942_I19155.nii\n",
      "smwc133_ADNI_033_S_0741_MR_MP-RAGE__br_raw_20060720104940826_1_S17006_I19258.nii\n",
      "smwc134_ADNI_033_S_0920_MR_MP-RAGE__br_raw_20070430123616391_3_S31099_I52201.nii\n",
      "smwc135_ADNI_033_S_1016_MR_MP-RAGE__br_raw_20081216182903577_3_S60926_I131130.nii\n",
      "smwc136_ADNI_033_S_1086_MR_MP-RAGE__br_raw_20061207154157171_1_S23547_I32054.nii\n",
      "smwc137_ADNI_033_S_1098_MR_MP-RAGE__br_raw_20081205155928144_3_S60584_I129468.nii\n",
      "smwc138_ADNI_037_S_0303_MR_MP-RAGE__br_raw_20060407155824098_1_S12981_I13152.nii\n",
      "smwc139_ADNI_037_S_0454_MR_MP-RAGE__br_raw_20080602142643379_1_S50852_I108019.nii\n",
      "smwc13_ADNI_006_S_0498_MR_MP-RAGE__br_raw_20060626130033734_1_S15857_I17505.nii\n",
      "smwc140_ADNI_037_S_0467_MR_MP-RAGE__br_raw_20060510121912587_1_S14164_I14861.nii\n",
      "smwc14_ADNI_006_S_0681_MR_MP-RAGE__br_raw_20060831143335593_1_S18451_I23677.nii\n",
      "smwc15_ADNI_006_S_0731_MR_MP-RAGE__br_raw_20060829134531156_99_S18321_I23468.nii\n",
      "smwc16_ADNI_007_S_0068_MR_MP-RAGE__br_raw_20051201103948809_1_S10355_I9113.nii\n",
      "smwc17_ADNI_007_S_0070_MR_MP-RAGE__br_raw_20060119115646093_48_S10949_I10027.nii\n",
      "smwc18_ADNI_007_S_1206_MR_MP-RAGE__br_raw_20070117224711183_1_S25172_I36411.nii\n",
      "smwc19_ADNI_007_S_1222_MR_MP-RAGE__br_raw_20070123224843055_158_S25401_I37270.nii\n"
     ]
    }
   ],
   "source": [
    "image_path = 'D:\\\\images\\\\smwc images\\\\CN vs MCI\\\\GM\\\\Training\\\\'\n",
    "graph_path = 'D:\\\\images\\\\smwc images\\\\CN vs MCI\\\\GM\\\\Training_gml\\\\'\n",
    "extract_patches(image_path,graph_path,patch_dimension)"
   ]
  },
  {
   "cell_type": "markdown",
   "metadata": {},
   "source": [
    "Testing"
   ]
  },
  {
   "cell_type": "code",
   "execution_count": 14,
   "metadata": {},
   "outputs": [
    {
     "name": "stdout",
     "output_type": "stream",
     "text": [
      "smwc1141_ADNI_027_S_0644_MR_MP-RAGE__br_raw_20060619152646352_29_S15630_I17157.nii\n",
      "smwc1142_ADNI_027_S_0835_MR_MP-RAGE__br_raw_20090903152921848_1_S73031_I154139.nii\n",
      "smwc1143_ADNI_027_S_0948_MR_MP-RAGE__br_raw_20061010171654029_1_S19913_I26038.nii\n",
      "smwc1144_ADNI_027_S_1045_MR_MP-RAGE__br_raw_20061107093535576_166_S22174_I28947.nii\n",
      "smwc1145_ADNI_027_S_1213_MR_MP-RAGE__br_raw_20070124135502453_1_S25493_I37393.nii\n",
      "smwc1146_ADNI_027_S_1277_MR_MP-RAGE__br_raw_20070213090024065_1_S26408_I39715.nii\n",
      "smwc1147_ADNI_027_S_1335_MR_MP-RAGE__br_raw_20070301163256335_1_S27331_I42126.nii\n",
      "smwc1148_ADNI_027_S_1387_MR_MP-RAGE__br_raw_20070314192713996_1_S28123_I44748.nii\n",
      "smwc1149_ADNI_029_S_0871_MR_MP-RAGE__br_raw_20061219112337906_1_S24246_I33717.nii\n",
      "smwc1150_ADNI_029_S_0878_MR_MP-RAGE__br_raw_20060915163407960_79_S18986_I24533.nii\n",
      "smwc141_ADNI_052_S_1250_MR_MP-RAGE__br_raw_20070202152221562_1_S25829_I38022.nii\n",
      "smwc142_ADNI_133_S_0433_MR_MP-RAGE__br_raw_20060503170301709_1_S13952_I14524.nii\n",
      "smwc143_ADNI_133_S_0488_MR_MP-RAGE__br_raw_20060510110323862_1_S14150_I14838.nii\n",
      "smwc144_ADNI_133_S_0493_MR_MP-RAGE__br_raw_20060510113223987_1_S14156_I14848.nii\n",
      "smwc145_ADNI_133_S_0525_MR_MP-RAGE__br_raw_20060530111757278_1_S14991_I16133.nii\n",
      "smwc146_ADNI_136_S_0086_MR_MP-RAGE__br_raw_20060412170919893_1_S13190_I13454.nii\n",
      "smwc147_ADNI_136_S_0184_MR_MP-RAGE__br_raw_20060306144308548_166_S11974_I11633.nii\n",
      "smwc148_ADNI_136_S_0186_MR_MP-RAGE__br_raw_20060224091957079_1_S11774_I11335.nii\n",
      "smwc149_ADNI_137_S_0301_MR_MP-RAGE__br_raw_20070507123657094_1_S31819_I53628.nii\n",
      "smwc150_ADNI_137_S_0459_MR_MP-RAGE__br_raw_20060426082434057_1_S13737_I14178.nii\n"
     ]
    }
   ],
   "source": [
    "image_path = 'D:\\\\images\\\\smwc images\\\\CN vs MCI\\\\GM\\\\Testing\\\\'\n",
    "graph_path = 'D:\\\\images\\\\smwc images\\\\CN vs MCI\\\\GM\\\\Testing_gml\\\\'\n",
    "extract_patches(image_path,graph_path,patch_dimension)"
   ]
  },
  {
   "cell_type": "code",
   "execution_count": null,
   "metadata": {},
   "outputs": [],
   "source": []
  },
  {
   "cell_type": "code",
   "execution_count": null,
   "metadata": {},
   "outputs": [],
   "source": []
  },
  {
   "cell_type": "code",
   "execution_count": null,
   "metadata": {},
   "outputs": [],
   "source": []
  },
  {
   "cell_type": "code",
   "execution_count": null,
   "metadata": {},
   "outputs": [],
   "source": []
  },
  {
   "cell_type": "code",
   "execution_count": null,
   "metadata": {},
   "outputs": [],
   "source": []
  },
  {
   "cell_type": "code",
   "execution_count": null,
   "metadata": {},
   "outputs": [],
   "source": []
  },
  {
   "cell_type": "code",
   "execution_count": null,
   "metadata": {},
   "outputs": [],
   "source": []
  },
  {
   "cell_type": "code",
   "execution_count": null,
   "metadata": {},
   "outputs": [],
   "source": []
  },
  {
   "cell_type": "code",
   "execution_count": null,
   "metadata": {},
   "outputs": [],
   "source": []
  },
  {
   "cell_type": "code",
   "execution_count": null,
   "metadata": {},
   "outputs": [],
   "source": []
  },
  {
   "cell_type": "code",
   "execution_count": null,
   "metadata": {},
   "outputs": [],
   "source": []
  },
  {
   "cell_type": "code",
   "execution_count": null,
   "metadata": {},
   "outputs": [],
   "source": []
  },
  {
   "cell_type": "code",
   "execution_count": null,
   "metadata": {},
   "outputs": [],
   "source": []
  },
  {
   "cell_type": "code",
   "execution_count": null,
   "metadata": {},
   "outputs": [],
   "source": []
  },
  {
   "cell_type": "code",
   "execution_count": null,
   "metadata": {},
   "outputs": [],
   "source": []
  },
  {
   "cell_type": "code",
   "execution_count": null,
   "metadata": {},
   "outputs": [],
   "source": []
  },
  {
   "cell_type": "code",
   "execution_count": null,
   "metadata": {},
   "outputs": [],
   "source": []
  },
  {
   "cell_type": "code",
   "execution_count": null,
   "metadata": {},
   "outputs": [],
   "source": []
  },
  {
   "cell_type": "markdown",
   "metadata": {},
   "source": [
    "Codes for future reference follow below"
   ]
  },
  {
   "cell_type": "code",
   "execution_count": null,
   "metadata": {},
   "outputs": [],
   "source": []
  },
  {
   "cell_type": "code",
   "execution_count": 73,
   "metadata": {},
   "outputs": [],
   "source": [
    "#patch_list = []"
   ]
  },
  {
   "cell_type": "code",
   "execution_count": 74,
   "metadata": {},
   "outputs": [],
   "source": [
    "#create_LH_patches(imageData,imageData.shape,(10,15,20),patch_list)"
   ]
  },
  {
   "cell_type": "code",
   "execution_count": 75,
   "metadata": {},
   "outputs": [],
   "source": [
    "#create_RH_patches(imageData,imageData.shape,(10,15,20),patch_list)"
   ]
  },
  {
   "cell_type": "code",
   "execution_count": 76,
   "metadata": {},
   "outputs": [],
   "source": [
    "#patch_np_list = []"
   ]
  },
  {
   "cell_type": "code",
   "execution_count": 77,
   "metadata": {},
   "outputs": [],
   "source": [
    "#len(patch_list[0])"
   ]
  },
  {
   "cell_type": "code",
   "execution_count": 78,
   "metadata": {},
   "outputs": [],
   "source": [
    "#nnz_percentage = 10"
   ]
  },
  {
   "cell_type": "code",
   "execution_count": 79,
   "metadata": {},
   "outputs": [],
   "source": [
    "#num_nnz_voxels = (nnz_percentage/100) * (len(patch_list[0]))"
   ]
  },
  {
   "cell_type": "code",
   "execution_count": 80,
   "metadata": {},
   "outputs": [],
   "source": [
    "# for patch in patch_list:\n",
    "#     value_array = np.fromiter(patch.values(),float,len(patch))\n",
    "#     patch_np_list.append(value_array)"
   ]
  },
  {
   "cell_type": "code",
   "execution_count": 81,
   "metadata": {},
   "outputs": [],
   "source": [
    "# unwanted_patches = []\n",
    "# idx = 0\n",
    "# for patch in patch_np_list:\n",
    "#     nnz_patch = np.count_nonzero(patch)\n",
    "#     if nnz_patch < num_nnz_voxels:\n",
    "#         unwanted_patches.append(idx)\n",
    "    \n",
    "            "
   ]
  },
  {
   "cell_type": "code",
   "execution_count": 82,
   "metadata": {},
   "outputs": [],
   "source": [
    "#patch_copy = patch_np_list.copy()"
   ]
  },
  {
   "cell_type": "code",
   "execution_count": 83,
   "metadata": {},
   "outputs": [],
   "source": [
    "# for val in unwanted_patches:\n",
    "#     patch_copy.pop(val)"
   ]
  },
  {
   "cell_type": "code",
   "execution_count": 84,
   "metadata": {},
   "outputs": [],
   "source": [
    "#len(patch_copy)"
   ]
  },
  {
   "cell_type": "code",
   "execution_count": 85,
   "metadata": {},
   "outputs": [],
   "source": [
    "#G = nx.Graph()"
   ]
  },
  {
   "cell_type": "code",
   "execution_count": 86,
   "metadata": {},
   "outputs": [],
   "source": [
    "# for idx in range(0,len(patch_np_list)):\n",
    "#     G.add_node(idx)"
   ]
  },
  {
   "cell_type": "code",
   "execution_count": 87,
   "metadata": {},
   "outputs": [],
   "source": [
    "# for idx in range(0,len(patch_np_list)):\n",
    "#     for temp_idx in range(0,len(patch_np_list)):\n",
    "#         if idx != temp_idx:\n",
    "#             patch1 = patch_np_list[idx]\n",
    "#             patch2 = patch_np_list[temp_idx]\n",
    "            \n",
    "#             corr_value = get_correlation(patch1,patch2)           \n",
    "#             G.add_edge(idx,temp_idx,weight = corr_value)\n",
    "            "
   ]
  },
  {
   "cell_type": "code",
   "execution_count": 29,
   "metadata": {},
   "outputs": [],
   "source": [
    "#adj_matrix = nx.to_numpy_matrix(G) # use to_numpy_array()"
   ]
  },
  {
   "cell_type": "code",
   "execution_count": 88,
   "metadata": {},
   "outputs": [],
   "source": [
    "#adj_matrix.shape"
   ]
  },
  {
   "cell_type": "code",
   "execution_count": 89,
   "metadata": {},
   "outputs": [],
   "source": [
    "#nx.write_gml(G,r'D:\\test\\test_graph.gml')"
   ]
  },
  {
   "cell_type": "code",
   "execution_count": 90,
   "metadata": {},
   "outputs": [],
   "source": [
    "#G1 = nx.read_gml(r'D:\\test\\test_graph.gml')"
   ]
  },
  {
   "cell_type": "code",
   "execution_count": 91,
   "metadata": {},
   "outputs": [],
   "source": [
    "#am = nx.to_numpy_matrix(G1)"
   ]
  },
  {
   "cell_type": "code",
   "execution_count": 92,
   "metadata": {},
   "outputs": [],
   "source": [
    "#am.shape"
   ]
  },
  {
   "cell_type": "code",
   "execution_count": 93,
   "metadata": {},
   "outputs": [],
   "source": [
    "#g2 = nx.Graph()"
   ]
  },
  {
   "cell_type": "code",
   "execution_count": 94,
   "metadata": {},
   "outputs": [],
   "source": [
    "# g2.add_node(1)\n",
    "# g2.add_node(2)\n",
    "# g2.add_node(3)\n",
    "# g2.add_node(4)"
   ]
  },
  {
   "cell_type": "code",
   "execution_count": 95,
   "metadata": {},
   "outputs": [],
   "source": [
    "#g2.add_edge(1,2,weight = 2)"
   ]
  },
  {
   "cell_type": "code",
   "execution_count": 96,
   "metadata": {},
   "outputs": [],
   "source": [
    "#g2.add_edge(3,4,weight = 4)"
   ]
  },
  {
   "cell_type": "code",
   "execution_count": 97,
   "metadata": {},
   "outputs": [],
   "source": [
    "#m = nx.to_numpy_array(g2)"
   ]
  },
  {
   "cell_type": "code",
   "execution_count": 98,
   "metadata": {},
   "outputs": [],
   "source": [
    "#m[0][0]"
   ]
  },
  {
   "cell_type": "code",
   "execution_count": 99,
   "metadata": {},
   "outputs": [],
   "source": [
    "# p1 = np.array([43,21,25,42,57,59])\n",
    "# p2 = np.array([99,65,79,75,87,81])\n",
    "# r = get_correlation(p1,p2)"
   ]
  },
  {
   "cell_type": "code",
   "execution_count": 100,
   "metadata": {
    "scrolled": true
   },
   "outputs": [],
   "source": [
    "#r"
   ]
  },
  {
   "cell_type": "code",
   "execution_count": null,
   "metadata": {},
   "outputs": [],
   "source": []
  }
 ],
 "metadata": {
  "kernelspec": {
   "display_name": "Python 3",
   "language": "python",
   "name": "python3"
  },
  "language_info": {
   "codemirror_mode": {
    "name": "ipython",
    "version": 3
   },
   "file_extension": ".py",
   "mimetype": "text/x-python",
   "name": "python",
   "nbconvert_exporter": "python",
   "pygments_lexer": "ipython3",
   "version": "3.6.6"
  }
 },
 "nbformat": 4,
 "nbformat_minor": 2
}
