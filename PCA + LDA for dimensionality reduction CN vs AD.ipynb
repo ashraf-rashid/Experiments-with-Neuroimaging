{
 "cells": [
  {
   "cell_type": "code",
   "execution_count": 1,
   "metadata": {},
   "outputs": [],
   "source": [
    "import pandas as pd"
   ]
  },
  {
   "cell_type": "code",
   "execution_count": 2,
   "metadata": {},
   "outputs": [],
   "source": [
    "import numpy as np"
   ]
  },
  {
   "cell_type": "markdown",
   "metadata": {},
   "source": [
    "# LDA + PCA dimensionality reduction for GM starts below"
   ]
  },
  {
   "cell_type": "code",
   "execution_count": 3,
   "metadata": {},
   "outputs": [],
   "source": [
    "gmTrain_df = pd.read_csv(\"D:\\\\Fresh Alzheimers Work\\\\Dataset\\\\CN vs AD\\\\GM\\\\pca_train_data_set_GM_CN_vs_AD.csv\")"
   ]
  },
  {
   "cell_type": "code",
   "execution_count": 4,
   "metadata": {},
   "outputs": [
    {
     "data": {
      "text/plain": [
       "(80, 57)"
      ]
     },
     "execution_count": 4,
     "metadata": {},
     "output_type": "execute_result"
    }
   ],
   "source": [
    "gmTrain_df.shape"
   ]
  },
  {
   "cell_type": "code",
   "execution_count": 5,
   "metadata": {
    "collapsed": true
   },
   "outputs": [
    {
     "data": {
      "text/plain": [
       "0     1\n",
       "1    -1\n",
       "2    -1\n",
       "3     1\n",
       "4     1\n",
       "5     1\n",
       "6     1\n",
       "7     1\n",
       "8     1\n",
       "9    -1\n",
       "10    1\n",
       "11   -1\n",
       "12    1\n",
       "13   -1\n",
       "14   -1\n",
       "15   -1\n",
       "16   -1\n",
       "17    1\n",
       "18    1\n",
       "19    1\n",
       "20    1\n",
       "21   -1\n",
       "22    1\n",
       "23   -1\n",
       "24   -1\n",
       "25   -1\n",
       "26    1\n",
       "27   -1\n",
       "28    1\n",
       "29    1\n",
       "     ..\n",
       "50   -1\n",
       "51    1\n",
       "52   -1\n",
       "53    1\n",
       "54   -1\n",
       "55   -1\n",
       "56   -1\n",
       "57    1\n",
       "58    1\n",
       "59   -1\n",
       "60   -1\n",
       "61   -1\n",
       "62   -1\n",
       "63    1\n",
       "64    1\n",
       "65   -1\n",
       "66   -1\n",
       "67    1\n",
       "68    1\n",
       "69    1\n",
       "70   -1\n",
       "71   -1\n",
       "72   -1\n",
       "73    1\n",
       "74   -1\n",
       "75    1\n",
       "76    1\n",
       "77   -1\n",
       "78   -1\n",
       "79    1\n",
       "Name: Group, Length: 80, dtype: int64"
      ]
     },
     "execution_count": 5,
     "metadata": {},
     "output_type": "execute_result"
    }
   ],
   "source": [
    "gmTrain_df['Group']"
   ]
  },
  {
   "cell_type": "code",
   "execution_count": 34,
   "metadata": {},
   "outputs": [],
   "source": [
    "inputData_train = gmTrain_df.drop(columns = ['subject_Id','Group'])"
   ]
  },
  {
   "cell_type": "code",
   "execution_count": 6,
   "metadata": {},
   "outputs": [],
   "source": [
    "X_CN = gmTrain_df[gmTrain_df['Group'] == 1]"
   ]
  },
  {
   "cell_type": "code",
   "execution_count": 7,
   "metadata": {},
   "outputs": [],
   "source": [
    "X_AD = gmTrain_df[gmTrain_df['Group'] == -1]"
   ]
  },
  {
   "cell_type": "code",
   "execution_count": 8,
   "metadata": {},
   "outputs": [],
   "source": [
    "X_CN = X_CN.drop(columns = ['subject_Id','Group'])"
   ]
  },
  {
   "cell_type": "code",
   "execution_count": 9,
   "metadata": {},
   "outputs": [],
   "source": [
    "X_AD = X_AD.drop(columns = ['subject_Id','Group'])"
   ]
  },
  {
   "cell_type": "code",
   "execution_count": 10,
   "metadata": {},
   "outputs": [],
   "source": [
    "covariance_CN = X_CN.cov()"
   ]
  },
  {
   "cell_type": "code",
   "execution_count": 11,
   "metadata": {},
   "outputs": [],
   "source": [
    "covariance_AD = X_AD.cov()"
   ]
  },
  {
   "cell_type": "code",
   "execution_count": 12,
   "metadata": {},
   "outputs": [],
   "source": [
    "scatter_within_class = covariance_CN + covariance_AD"
   ]
  },
  {
   "cell_type": "code",
   "execution_count": 13,
   "metadata": {},
   "outputs": [],
   "source": [
    "mean_CN = X_CN.mean()"
   ]
  },
  {
   "cell_type": "code",
   "execution_count": 14,
   "metadata": {},
   "outputs": [],
   "source": [
    "mean_AD = X_AD.mean()"
   ]
  },
  {
   "cell_type": "code",
   "execution_count": 15,
   "metadata": {},
   "outputs": [],
   "source": [
    "temp_sub_mean = mean_CN.values - mean_AD.values"
   ]
  },
  {
   "cell_type": "code",
   "execution_count": 16,
   "metadata": {},
   "outputs": [
    {
     "data": {
      "text/plain": [
       "(55,)"
      ]
     },
     "execution_count": 16,
     "metadata": {},
     "output_type": "execute_result"
    }
   ],
   "source": [
    "temp_sub_mean.shape"
   ]
  },
  {
   "cell_type": "code",
   "execution_count": 17,
   "metadata": {},
   "outputs": [],
   "source": [
    "temp_sub_mean = temp_sub_mean.reshape([55,1])"
   ]
  },
  {
   "cell_type": "code",
   "execution_count": 18,
   "metadata": {},
   "outputs": [],
   "source": [
    "scatter_between_class = np.dot(temp_sub_mean,temp_sub_mean.T)"
   ]
  },
  {
   "cell_type": "code",
   "execution_count": 19,
   "metadata": {},
   "outputs": [],
   "source": [
    "scatter_within_class_inverse = np.linalg.pinv(scatter_within_class)"
   ]
  },
  {
   "cell_type": "code",
   "execution_count": 20,
   "metadata": {},
   "outputs": [],
   "source": [
    "scatter_product = np.dot(scatter_within_class_inverse, scatter_between_class)"
   ]
  },
  {
   "cell_type": "code",
   "execution_count": 21,
   "metadata": {},
   "outputs": [],
   "source": [
    "eigenValues, eigenVectors = np.linalg.eigh(scatter_product)"
   ]
  },
  {
   "cell_type": "code",
   "execution_count": 28,
   "metadata": {},
   "outputs": [],
   "source": [
    "dflist = list() #empty list to store multiple dataframes\n",
    "count = 1\n",
    "for idx in range(54,45,-1): #take eigenvectors corresponding to the top 10 eigenvalues\n",
    "  temp_df = pd.DataFrame(eigenVectors[:,idx],columns = [str(count)])\n",
    "  dflist.append(temp_df)\n",
    "  count = count + 1\n",
    "component_df = pd.concat(dflist,axis = 1) "
   ]
  },
  {
   "cell_type": "code",
   "execution_count": 30,
   "metadata": {},
   "outputs": [],
   "source": [
    "component_df = component_df['1'] #consider the eigenvector corresponding to the topmost eigenvalu\n",
    "                                 #as the other eigenvectors contain elements which are very small \n",
    "                                 #in the range -8.283e-18, -7.568767e-13 etc."
   ]
  },
  {
   "cell_type": "code",
   "execution_count": 31,
   "metadata": {},
   "outputs": [
    {
     "data": {
      "text/plain": [
       "(55,)"
      ]
     },
     "execution_count": 31,
     "metadata": {},
     "output_type": "execute_result"
    }
   ],
   "source": [
    "component_df.shape"
   ]
  },
  {
   "cell_type": "code",
   "execution_count": 35,
   "metadata": {},
   "outputs": [],
   "source": [
    "train_transformed = np.dot(inputData_train.values,component_df.values)"
   ]
  },
  {
   "cell_type": "code",
   "execution_count": 36,
   "metadata": {},
   "outputs": [],
   "source": [
    "train_transformed_df = pd.DataFrame(data = train_transformed, columns = range(1,2),index = range(0,80))"
   ]
  },
  {
   "cell_type": "code",
   "execution_count": 39,
   "metadata": {},
   "outputs": [],
   "source": [
    "train_transformed_df = pd.concat([train_transformed_df,gmTrain_df[['subject_Id','Group']]],axis=1)"
   ]
  },
  {
   "cell_type": "code",
   "execution_count": 41,
   "metadata": {},
   "outputs": [],
   "source": [
    "train_transformed_df.to_csv(\"H:\\\\Fresh Alzheimers - Test run\\\\New\\\\CN vs AD\\\\GM\\\\pca_lda_train_data_set_GM_CN_vs_AD.csv\")"
   ]
  },
  {
   "cell_type": "code",
   "execution_count": 46,
   "metadata": {},
   "outputs": [],
   "source": [
    "gmTest_df = pd.read_csv(\"D:\\\\Fresh Alzheimers Work\\\\Dataset\\\\CN vs AD\\\\GM\\\\pca_test_data_set_GM_CN_vs_AD.csv\")"
   ]
  },
  {
   "cell_type": "code",
   "execution_count": 47,
   "metadata": {},
   "outputs": [],
   "source": [
    "inputData_test = gmTest_df.drop(columns = ['subject_Id','Group'])"
   ]
  },
  {
   "cell_type": "code",
   "execution_count": 53,
   "metadata": {},
   "outputs": [],
   "source": [
    "test_transformed = np.dot(inputData_test.values,component_df.values)"
   ]
  },
  {
   "cell_type": "code",
   "execution_count": 55,
   "metadata": {},
   "outputs": [],
   "source": [
    "test_transformed_df = pd.DataFrame(data = test_transformed, columns = range(1,2), index = range(0,20))"
   ]
  },
  {
   "cell_type": "code",
   "execution_count": 56,
   "metadata": {},
   "outputs": [],
   "source": [
    "test_transformed_df = pd.concat([test_transformed_df,gmTest_df[['subject_Id','Group']]], axis = 1)"
   ]
  },
  {
   "cell_type": "code",
   "execution_count": 60,
   "metadata": {},
   "outputs": [],
   "source": [
    "test_transformed_df.to_csv(\"H:\\\\Fresh Alzheimers - Test run\\\\New\\\\CN vs AD\\\\GM\\\\pca_lda_test_data_set_GM_CN_vs_AD.csv\")"
   ]
  },
  {
   "cell_type": "markdown",
   "metadata": {},
   "source": [
    "# LDA + PCA dimensionality reduction for WM starts below"
   ]
  },
  {
   "cell_type": "code",
   "execution_count": 3,
   "metadata": {},
   "outputs": [],
   "source": [
    "wmTrain_df = pd.read_csv(\"D:\\\\Fresh Alzheimers Work\\\\Dataset\\\\CN vs AD\\\\WM\\\\pca_train_data_set_WM_CN_vs_AD.csv\")"
   ]
  },
  {
   "cell_type": "code",
   "execution_count": 5,
   "metadata": {},
   "outputs": [],
   "source": [
    "inputData_train = wmTrain_df.drop(columns = ['subject_Id','Group'])"
   ]
  },
  {
   "cell_type": "code",
   "execution_count": 6,
   "metadata": {},
   "outputs": [],
   "source": [
    "X_CN = wmTrain_df[wmTrain_df['Group'] == 1]"
   ]
  },
  {
   "cell_type": "code",
   "execution_count": 7,
   "metadata": {},
   "outputs": [],
   "source": [
    "X_AD = wmTrain_df[wmTrain_df['Group'] == -1]"
   ]
  },
  {
   "cell_type": "code",
   "execution_count": 8,
   "metadata": {},
   "outputs": [],
   "source": [
    "X_CN = X_CN.drop(columns = ['subject_Id','Group'])"
   ]
  },
  {
   "cell_type": "code",
   "execution_count": 9,
   "metadata": {},
   "outputs": [],
   "source": [
    "X_AD = X_AD.drop(columns = ['subject_Id','Group'])"
   ]
  },
  {
   "cell_type": "code",
   "execution_count": 10,
   "metadata": {},
   "outputs": [],
   "source": [
    "covariance_CN = X_CN.cov()"
   ]
  },
  {
   "cell_type": "code",
   "execution_count": 11,
   "metadata": {},
   "outputs": [],
   "source": [
    "covariance_AD = X_AD.cov()"
   ]
  },
  {
   "cell_type": "code",
   "execution_count": 12,
   "metadata": {},
   "outputs": [],
   "source": [
    "scatter_within_class = covariance_CN + covariance_AD"
   ]
  },
  {
   "cell_type": "code",
   "execution_count": 13,
   "metadata": {},
   "outputs": [],
   "source": [
    "mean_CN = X_CN.mean()"
   ]
  },
  {
   "cell_type": "code",
   "execution_count": 14,
   "metadata": {},
   "outputs": [],
   "source": [
    "mean_AD = X_AD.mean()"
   ]
  },
  {
   "cell_type": "code",
   "execution_count": 15,
   "metadata": {},
   "outputs": [],
   "source": [
    "temp_sub_mean = mean_CN.values - mean_AD.values"
   ]
  },
  {
   "cell_type": "code",
   "execution_count": 16,
   "metadata": {},
   "outputs": [
    {
     "data": {
      "text/plain": [
       "(23,)"
      ]
     },
     "execution_count": 16,
     "metadata": {},
     "output_type": "execute_result"
    }
   ],
   "source": [
    "temp_sub_mean.shape"
   ]
  },
  {
   "cell_type": "code",
   "execution_count": 17,
   "metadata": {},
   "outputs": [],
   "source": [
    "temp_sub_mean = temp_sub_mean.reshape([23,1])"
   ]
  },
  {
   "cell_type": "code",
   "execution_count": 18,
   "metadata": {},
   "outputs": [],
   "source": [
    "scatter_between_class = np.dot(temp_sub_mean,temp_sub_mean.T)"
   ]
  },
  {
   "cell_type": "code",
   "execution_count": 19,
   "metadata": {},
   "outputs": [],
   "source": [
    "scatter_within_class_inverse = np.linalg.pinv(scatter_within_class)"
   ]
  },
  {
   "cell_type": "code",
   "execution_count": 21,
   "metadata": {},
   "outputs": [],
   "source": [
    "scatter_product = np.dot(scatter_within_class_inverse, scatter_between_class)"
   ]
  },
  {
   "cell_type": "code",
   "execution_count": 22,
   "metadata": {},
   "outputs": [],
   "source": [
    "eigenValues, eigenVectors = np.linalg.eigh(scatter_product)"
   ]
  },
  {
   "cell_type": "code",
   "execution_count": 25,
   "metadata": {},
   "outputs": [],
   "source": [
    "dflist = list() #empty list to store multiple dataframes\n",
    "count = 1\n",
    "for idx in range(22,12,-1): #take eigenvectors corresponding to the top 10 eigenvalues\n",
    "  temp_df = pd.DataFrame(eigenVectors[:,idx],columns = [str(count)])\n",
    "  dflist.append(temp_df)\n",
    "  count = count + 1\n",
    "component_df = pd.concat(dflist,axis = 1) "
   ]
  },
  {
   "cell_type": "code",
   "execution_count": 28,
   "metadata": {},
   "outputs": [],
   "source": [
    "component_df = component_df['1'] #consider the eigenvector corresponding to the topmost eigenvalu\n",
    "                                 #as the other eigenvectors contain elements which are very small \n",
    "                                 #in the range -2.5187e-18, -2.40532e-13 etc."
   ]
  },
  {
   "cell_type": "code",
   "execution_count": 35,
   "metadata": {},
   "outputs": [],
   "source": [
    "train_transformed = np.dot(inputData_train.values,component_df.values)"
   ]
  },
  {
   "cell_type": "code",
   "execution_count": 36,
   "metadata": {},
   "outputs": [],
   "source": [
    "train_transformed_df = pd.DataFrame(data = train_transformed, columns = range(1,2),index = range(0,80))"
   ]
  },
  {
   "cell_type": "code",
   "execution_count": 37,
   "metadata": {},
   "outputs": [],
   "source": [
    "train_transformed_df = pd.concat([train_transformed_df,wmTrain_df[['subject_Id','Group']]],axis=1)"
   ]
  },
  {
   "cell_type": "code",
   "execution_count": 38,
   "metadata": {},
   "outputs": [],
   "source": [
    "train_transformed_df.to_csv(\"H:\\\\Fresh Alzheimers - Test run\\\\New\\\\CN vs AD\\\\WM\\\\pca_lda_train_data_set_WM_CN_vs_AD.csv\")"
   ]
  },
  {
   "cell_type": "code",
   "execution_count": 39,
   "metadata": {},
   "outputs": [],
   "source": [
    "wmTest_df = pd.read_csv(\"D:\\\\Fresh Alzheimers Work\\\\Dataset\\\\CN vs AD\\\\WM\\\\pca_test_data_set_WM_CN_vs_AD.csv\")"
   ]
  },
  {
   "cell_type": "code",
   "execution_count": 40,
   "metadata": {},
   "outputs": [],
   "source": [
    "inputData_test = wmTest_df.drop(columns = ['subject_Id','Group'])"
   ]
  },
  {
   "cell_type": "code",
   "execution_count": 41,
   "metadata": {},
   "outputs": [],
   "source": [
    "test_transformed = np.dot(inputData_test.values,component_df.values)"
   ]
  },
  {
   "cell_type": "code",
   "execution_count": 42,
   "metadata": {},
   "outputs": [],
   "source": [
    "test_transformed_df = pd.DataFrame(data = test_transformed, columns = range(1,2), index = range(0,20))"
   ]
  },
  {
   "cell_type": "code",
   "execution_count": 44,
   "metadata": {},
   "outputs": [],
   "source": [
    "test_transformed_df = pd.concat([test_transformed_df,wmTest_df[['subject_Id','Group']]], axis = 1)"
   ]
  },
  {
   "cell_type": "code",
   "execution_count": 45,
   "metadata": {},
   "outputs": [],
   "source": [
    "test_transformed_df.to_csv(\"H:\\\\Fresh Alzheimers - Test run\\\\New\\\\CN vs AD\\\\WM\\\\pca_lda_test_data_set_WM_CN_vs_AD.csv\")"
   ]
  },
  {
   "cell_type": "code",
   "execution_count": null,
   "metadata": {},
   "outputs": [],
   "source": []
  },
  {
   "cell_type": "markdown",
   "metadata": {},
   "source": [
    "# LDA+PCA dimensionality reduction for CSF starts below"
   ]
  },
  {
   "cell_type": "code",
   "execution_count": 3,
   "metadata": {},
   "outputs": [],
   "source": [
    "csfTrain_df = pd.read_csv(\"D:\\\\Fresh Alzheimers Work\\\\Dataset\\\\CN vs AD\\\\CSF\\\\pca_train_data_set_CSF_CN_vs_AD.csv\")"
   ]
  },
  {
   "cell_type": "code",
   "execution_count": 4,
   "metadata": {},
   "outputs": [],
   "source": [
    "inputData_train = csfTrain_df.drop(columns = ['subject_Id','Group'])"
   ]
  },
  {
   "cell_type": "code",
   "execution_count": 5,
   "metadata": {},
   "outputs": [],
   "source": [
    "X_CN = csfTrain_df[csfTrain_df['Group'] == 1]"
   ]
  },
  {
   "cell_type": "code",
   "execution_count": 6,
   "metadata": {},
   "outputs": [],
   "source": [
    "X_AD = csfTrain_df[csfTrain_df['Group'] == -1]"
   ]
  },
  {
   "cell_type": "code",
   "execution_count": 7,
   "metadata": {},
   "outputs": [],
   "source": [
    "X_CN = X_CN.drop(columns = ['subject_Id','Group'])"
   ]
  },
  {
   "cell_type": "code",
   "execution_count": 8,
   "metadata": {},
   "outputs": [],
   "source": [
    "X_AD = X_AD.drop(columns = ['subject_Id','Group'])"
   ]
  },
  {
   "cell_type": "code",
   "execution_count": 9,
   "metadata": {},
   "outputs": [],
   "source": [
    "covariance_CN = X_CN.cov()"
   ]
  },
  {
   "cell_type": "code",
   "execution_count": 10,
   "metadata": {},
   "outputs": [],
   "source": [
    "covariance_AD = X_AD.cov()"
   ]
  },
  {
   "cell_type": "code",
   "execution_count": 11,
   "metadata": {},
   "outputs": [],
   "source": [
    "scatter_within_class = covariance_CN + covariance_AD"
   ]
  },
  {
   "cell_type": "code",
   "execution_count": 12,
   "metadata": {},
   "outputs": [],
   "source": [
    "mean_CN = X_CN.mean()"
   ]
  },
  {
   "cell_type": "code",
   "execution_count": 13,
   "metadata": {},
   "outputs": [],
   "source": [
    "mean_AD = X_AD.mean()"
   ]
  },
  {
   "cell_type": "code",
   "execution_count": 14,
   "metadata": {},
   "outputs": [],
   "source": [
    "temp_sub_mean = mean_CN.values - mean_AD.values"
   ]
  },
  {
   "cell_type": "code",
   "execution_count": 15,
   "metadata": {},
   "outputs": [
    {
     "data": {
      "text/plain": [
       "(17,)"
      ]
     },
     "execution_count": 15,
     "metadata": {},
     "output_type": "execute_result"
    }
   ],
   "source": [
    "temp_sub_mean.shape"
   ]
  },
  {
   "cell_type": "code",
   "execution_count": 16,
   "metadata": {},
   "outputs": [],
   "source": [
    "temp_sub_mean = temp_sub_mean.reshape([17,1])"
   ]
  },
  {
   "cell_type": "code",
   "execution_count": 17,
   "metadata": {},
   "outputs": [],
   "source": [
    "scatter_between_class = np.dot(temp_sub_mean,temp_sub_mean.T)"
   ]
  },
  {
   "cell_type": "code",
   "execution_count": 18,
   "metadata": {},
   "outputs": [],
   "source": [
    "scatter_within_class_inverse = np.linalg.pinv(scatter_within_class)"
   ]
  },
  {
   "cell_type": "code",
   "execution_count": 19,
   "metadata": {},
   "outputs": [],
   "source": [
    "scatter_product = np.dot(scatter_within_class_inverse, scatter_between_class)"
   ]
  },
  {
   "cell_type": "code",
   "execution_count": 20,
   "metadata": {},
   "outputs": [],
   "source": [
    "eigenValues, eigenVectors = np.linalg.eigh(scatter_product)"
   ]
  },
  {
   "cell_type": "code",
   "execution_count": 21,
   "metadata": {},
   "outputs": [],
   "source": [
    "dflist = list() #empty list to store multiple dataframes\n",
    "count = 1\n",
    "for idx in range(16,6,-1): #take eigenvectors corresponding to the top 10 eigenvalues\n",
    "  temp_df = pd.DataFrame(eigenVectors[:,idx],columns = [str(count)])\n",
    "  dflist.append(temp_df)\n",
    "  count = count + 1\n",
    "component_df = pd.concat(dflist,axis = 1) "
   ]
  },
  {
   "cell_type": "code",
   "execution_count": 24,
   "metadata": {},
   "outputs": [],
   "source": [
    "component_df = component_df['1'] #consider the eigenvector corresponding to the topmost eigenvalu\n",
    "                                 #as the other eigenvectors contain elements which are very small \n",
    "                                 #in the range -2.5187e-18, -2.40532e-13 etc."
   ]
  },
  {
   "cell_type": "code",
   "execution_count": 25,
   "metadata": {},
   "outputs": [],
   "source": [
    "train_transformed = np.dot(inputData_train.values,component_df.values)"
   ]
  },
  {
   "cell_type": "code",
   "execution_count": 26,
   "metadata": {},
   "outputs": [],
   "source": [
    "train_transformed_df = pd.DataFrame(data = train_transformed, columns = range(1,2),index = range(0,80))"
   ]
  },
  {
   "cell_type": "code",
   "execution_count": 28,
   "metadata": {},
   "outputs": [],
   "source": [
    "train_transformed_df = pd.concat([train_transformed_df,csfTrain_df[['subject_Id','Group']]],axis=1)"
   ]
  },
  {
   "cell_type": "code",
   "execution_count": 30,
   "metadata": {},
   "outputs": [],
   "source": [
    "train_transformed_df.to_csv(\"H:\\\\Fresh Alzheimers - Test run\\\\New\\\\CN vs AD\\\\CSF\\\\pca_lda_train_data_set_CSF_CN_vs_AD.csv\",index=False)"
   ]
  },
  {
   "cell_type": "code",
   "execution_count": 32,
   "metadata": {},
   "outputs": [],
   "source": [
    "csfTest_df = pd.read_csv(\"D:\\\\Fresh Alzheimers Work\\\\Dataset\\\\CN vs AD\\\\CSF\\\\pca_test_data_set_CSF_CN_vs_AD.csv\")"
   ]
  },
  {
   "cell_type": "code",
   "execution_count": 33,
   "metadata": {},
   "outputs": [],
   "source": [
    "inputData_test = csfTest_df.drop(columns = ['subject_Id','Group'])"
   ]
  },
  {
   "cell_type": "code",
   "execution_count": 34,
   "metadata": {},
   "outputs": [],
   "source": [
    "test_transformed = np.dot(inputData_test.values,component_df.values)"
   ]
  },
  {
   "cell_type": "code",
   "execution_count": 35,
   "metadata": {},
   "outputs": [],
   "source": [
    "test_transformed_df = pd.DataFrame(data = test_transformed, columns = range(1,2), index = range(0,20))"
   ]
  },
  {
   "cell_type": "code",
   "execution_count": 36,
   "metadata": {},
   "outputs": [],
   "source": [
    "test_transformed_df = pd.concat([test_transformed_df,wmTest_df[['subject_Id','Group']]], axis = 1)"
   ]
  },
  {
   "cell_type": "code",
   "execution_count": 37,
   "metadata": {},
   "outputs": [],
   "source": [
    "test_transformed_df.to_csv(\"H:\\\\Fresh Alzheimers - Test run\\\\New\\\\CN vs AD\\\\CSF\\\\pca_lda_test_data_set_CSF_CN_vs_AD.csv\",index=False)"
   ]
  },
  {
   "cell_type": "code",
   "execution_count": null,
   "metadata": {},
   "outputs": [],
   "source": []
  }
 ],
 "metadata": {
  "kernelspec": {
   "display_name": "Python 3",
   "language": "python",
   "name": "python3"
  },
  "language_info": {
   "codemirror_mode": {
    "name": "ipython",
    "version": 3
   },
   "file_extension": ".py",
   "mimetype": "text/x-python",
   "name": "python",
   "nbconvert_exporter": "python",
   "pygments_lexer": "ipython3",
   "version": "3.6.5"
  }
 },
 "nbformat": 4,
 "nbformat_minor": 2
}
